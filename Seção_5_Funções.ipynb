{
  "nbformat": 4,
  "nbformat_minor": 0,
  "metadata": {
    "colab": {
      "provenance": [],
      "authorship_tag": "ABX9TyNkjrx1ICzf3Hxupghjwl8T",
      "include_colab_link": true
    },
    "kernelspec": {
      "name": "python3",
      "display_name": "Python 3"
    },
    "language_info": {
      "name": "python"
    }
  },
  "cells": [
    {
      "cell_type": "markdown",
      "metadata": {
        "id": "view-in-github",
        "colab_type": "text"
      },
      "source": [
        "<a href=\"https://colab.research.google.com/github/mariaaluiza/formacaoPython/blob/main/Se%C3%A7%C3%A3o_5_Fun%C3%A7%C3%B5es.ipynb\" target=\"_parent\"><img src=\"https://colab.research.google.com/assets/colab-badge.svg\" alt=\"Open In Colab\"/></a>"
      ]
    },
    {
      "cell_type": "markdown",
      "source": [
        "## Funções"
      ],
      "metadata": {
        "id": "J5a4RI482qvT"
      }
    },
    {
      "cell_type": "code",
      "execution_count": 1,
      "metadata": {
        "colab": {
          "base_uri": "https://localhost:8080/"
        },
        "id": "M1xd8pCO2Lo5",
        "outputId": "76db536c-c3a2-4c1c-86e8-4c9b030df977"
      },
      "outputs": [
        {
          "output_type": "stream",
          "name": "stdout",
          "text": [
            "Uma função 10 \n",
            "Uma função 10 \n"
          ]
        }
      ],
      "source": [
        "def func():\n",
        "    num = 10\n",
        "    print(\"Uma função %d \" % (num))\n",
        "\n",
        "func()\n",
        "func()"
      ]
    },
    {
      "cell_type": "code",
      "source": [
        "def func():\n",
        "    pass\n",
        "\n",
        "func()"
      ],
      "metadata": {
        "id": "pdbdIa1Y24ya"
      },
      "execution_count": 3,
      "outputs": []
    },
    {
      "cell_type": "code",
      "source": [
        "def printvar(numero):\n",
        "    print(numero)\n",
        "\n",
        "printvar(10)\n",
        "printvar(\"Olá\")"
      ],
      "metadata": {
        "colab": {
          "base_uri": "https://localhost:8080/"
        },
        "id": "R3DDrpdl29tK",
        "outputId": "0d67740e-1082-430a-fd87-5426e091ad37"
      },
      "execution_count": 5,
      "outputs": [
        {
          "output_type": "stream",
          "name": "stdout",
          "text": [
            "10\n",
            "Olá\n"
          ]
        }
      ]
    },
    {
      "cell_type": "code",
      "source": [
        "def print_soma(num1, num2):\n",
        "    print(num1 + num2)\n",
        "\n",
        "print_soma(10, 20)\n",
        "print_soma(\"Olá\", \"Mundo\")"
      ],
      "metadata": {
        "colab": {
          "base_uri": "https://localhost:8080/"
        },
        "id": "PLSu6VFO3EZS",
        "outputId": "19cf7db8-3890-4e11-8fee-12b057e1084e"
      },
      "execution_count": 7,
      "outputs": [
        {
          "output_type": "stream",
          "name": "stdout",
          "text": [
            "30\n",
            "OláMundo\n"
          ]
        }
      ]
    },
    {
      "cell_type": "code",
      "source": [
        "#numero arbitrários de parametros representado pelo *, em formato de tupla\n",
        "def funcvarios(*args):\n",
        "    print(type(args))\n",
        "    print(\"Argumentos são: \", args)\n",
        "\n",
        "funcvarios(10, 20, 30)\n",
        "funcvarios(\"Olá\", \"Mundo\")\n",
        "funcvarios(\"Ola\", True, [1,2,3])"
      ],
      "metadata": {
        "colab": {
          "base_uri": "https://localhost:8080/"
        },
        "id": "PU2rv1h53OV0",
        "outputId": "476754ac-c304-4f77-9ea8-825bed67605a"
      },
      "execution_count": 9,
      "outputs": [
        {
          "output_type": "stream",
          "name": "stdout",
          "text": [
            "<class 'tuple'>\n",
            "Argumentos são:  (10, 20, 30)\n",
            "<class 'tuple'>\n",
            "Argumentos são:  ('Olá', 'Mundo')\n",
            "<class 'tuple'>\n",
            "Argumentos são:  ('Ola', True, [1, 2, 3])\n"
          ]
        }
      ]
    },
    {
      "cell_type": "code",
      "source": [
        "def print_sub(n1, n2):\n",
        "    print(n1 - n2)\n",
        "\n",
        "print_sub(n2=10, n1=20)"
      ],
      "metadata": {
        "colab": {
          "base_uri": "https://localhost:8080/"
        },
        "id": "dF1K_aWa62Cv",
        "outputId": "6536f8f3-d413-4dfd-b125-05e09a21404e"
      },
      "execution_count": 10,
      "outputs": [
        {
          "output_type": "stream",
          "name": "stdout",
          "text": [
            "10\n"
          ]
        }
      ]
    },
    {
      "cell_type": "code",
      "source": [
        "def func(*n, outro):\n",
        "    print(\"Argumentos são: \", n)\n",
        "    print(\"Outro: \",outro)\n",
        "\n",
        "func(1,2,3, outro = \"Não\")\n",
        "func(outro = 78.7)\n",
        "func(\"Olá\", True, [1,2,3], outro=\"58\")"
      ],
      "metadata": {
        "colab": {
          "base_uri": "https://localhost:8080/"
        },
        "id": "v5Gf8RZA7NsT",
        "outputId": "403775c0-544d-4265-d99e-2abc30459afb"
      },
      "execution_count": 13,
      "outputs": [
        {
          "output_type": "stream",
          "name": "stdout",
          "text": [
            "Argumentos são:  (1, 2, 3)\n",
            "Outro:  Não\n",
            "Argumentos são:  ()\n",
            "Outro:  78.7\n",
            "Argumentos são:  ('Olá', True, [1, 2, 3])\n",
            "Outro:  58\n"
          ]
        }
      ]
    },
    {
      "cell_type": "code",
      "source": [
        "def func1(valor, nome = \"Teste\"):\n",
        "    print(nome, valor)\n",
        "\n",
        "func1(10)\n",
        "func1(3, \"Outro\")"
      ],
      "metadata": {
        "colab": {
          "base_uri": "https://localhost:8080/"
        },
        "id": "Shv0-EeP77ql",
        "outputId": "97d126d8-31b1-4c13-aee6-8d82674b2e5c"
      },
      "execution_count": 15,
      "outputs": [
        {
          "output_type": "stream",
          "name": "stdout",
          "text": [
            "Teste 10\n",
            "Outro 3\n"
          ]
        }
      ]
    },
    {
      "cell_type": "code",
      "source": [
        "#parametros com nome e tamanho arbitrários **\n",
        "def func(**args):\n",
        "    print(type(args))\n",
        "    print(args)\n",
        "    print(args[\"Valor\"])\n",
        "\n",
        "func(Valor = 10, operacao = \"Soma\", resultado = 10)"
      ],
      "metadata": {
        "colab": {
          "base_uri": "https://localhost:8080/"
        },
        "id": "1Ti0A4IE8MMs",
        "outputId": "21068d46-b866-49fc-b0ce-707fe09fbd34"
      },
      "execution_count": 19,
      "outputs": [
        {
          "output_type": "stream",
          "name": "stdout",
          "text": [
            "<class 'dict'>\n",
            "{'Valor': 10, 'operacao': 'Soma', 'resultado': 10}\n",
            "10\n"
          ]
        }
      ]
    },
    {
      "cell_type": "code",
      "source": [
        "def printa(x):\n",
        "    print(x)\n",
        "\n",
        "def executa_funcao(func, x):\n",
        "    func(x)\n",
        "\n",
        "minha_func = printa\n",
        "print(type(minha_func))\n",
        "\n",
        "executa_funcao(minha_func, 10)"
      ],
      "metadata": {
        "colab": {
          "base_uri": "https://localhost:8080/"
        },
        "id": "TNIfoTV482UP",
        "outputId": "6c281c07-6a43-43ab-a4f0-35ea192b6149"
      },
      "execution_count": 22,
      "outputs": [
        {
          "output_type": "stream",
          "name": "stdout",
          "text": [
            "<class 'function'>\n",
            "10\n"
          ]
        }
      ]
    },
    {
      "cell_type": "code",
      "source": [
        "def sub(num1, num2):\n",
        "    valor = num1 - num2\n",
        "    return valor\n",
        "\n",
        "resultado = sub(10, 20)\n",
        "print(resultado)"
      ],
      "metadata": {
        "colab": {
          "base_uri": "https://localhost:8080/"
        },
        "id": "8Kh0Ix599n_5",
        "outputId": "30b6e046-c1af-45f9-811b-81420e6247de"
      },
      "execution_count": 23,
      "outputs": [
        {
          "output_type": "stream",
          "name": "stdout",
          "text": [
            "-10\n"
          ]
        }
      ]
    },
    {
      "cell_type": "code",
      "source": [
        "#retornar mais de um valor\n",
        "\n",
        "def retorna():\n",
        "    return 1, 2, 3\n",
        "\n",
        "a, b, c = retorna()\n",
        "print(a, b, c)\n",
        "\n",
        "valor = retorna()\n",
        "print(type(valor))\n"
      ],
      "metadata": {
        "colab": {
          "base_uri": "https://localhost:8080/"
        },
        "id": "Im35KEAV-Ygo",
        "outputId": "9a93ca99-4c0d-45ea-e733-37c2c21d1ec2"
      },
      "execution_count": 25,
      "outputs": [
        {
          "output_type": "stream",
          "name": "stdout",
          "text": [
            "1 2 3\n",
            "<class 'tuple'>\n"
          ]
        }
      ]
    },
    {
      "cell_type": "markdown",
      "source": [
        "## Função lambda"
      ],
      "metadata": {
        "id": "cArD8onj_ewD"
      }
    },
    {
      "cell_type": "code",
      "source": [
        "faz_soma = lambda x: x+10\n",
        "\n",
        "valor = faz_soma(2)\n",
        "print(valor)"
      ],
      "metadata": {
        "colab": {
          "base_uri": "https://localhost:8080/"
        },
        "id": "JLJ2TZ3B_eOD",
        "outputId": "6bc3ed83-a851-4ed8-d252-63719259ecb1"
      },
      "execution_count": 26,
      "outputs": [
        {
          "output_type": "stream",
          "name": "stdout",
          "text": [
            "12\n"
          ]
        }
      ]
    },
    {
      "cell_type": "code",
      "source": [
        "multiplica = lambda x,y: x*y\n",
        "print(multiplica(12,10))"
      ],
      "metadata": {
        "colab": {
          "base_uri": "https://localhost:8080/"
        },
        "id": "Xo8Tua9I_owy",
        "outputId": "d32deeec-5e9c-429a-d1f8-e0e4c82e0de4"
      },
      "execution_count": 28,
      "outputs": [
        {
          "output_type": "stream",
          "name": "stdout",
          "text": [
            "120\n"
          ]
        }
      ]
    },
    {
      "cell_type": "code",
      "source": [
        "#retorno da função sendo uma função lambda\n",
        "\n",
        "def multiplica(y):\n",
        "    return lambda x: x*y\n",
        "\n",
        "valor = multiplica(2)\n",
        "\n",
        "resultado = valor(10)\n",
        "\n",
        "print(resultado)"
      ],
      "metadata": {
        "colab": {
          "base_uri": "https://localhost:8080/"
        },
        "id": "skvO9gjgADSQ",
        "outputId": "3b64c13a-1469-424d-c093-92a51e21139f"
      },
      "execution_count": 29,
      "outputs": [
        {
          "output_type": "stream",
          "name": "stdout",
          "text": [
            "20\n"
          ]
        }
      ]
    },
    {
      "cell_type": "markdown",
      "source": [
        "## Função recursiva"
      ],
      "metadata": {
        "id": "vkSBeyNxATwN"
      }
    },
    {
      "cell_type": "code",
      "source": [
        "def printnum(num):\n",
        "    print(num)\n",
        "    if num >=10:\n",
        "        return\n",
        "    printnum(num+1)\n",
        "\n",
        "printnum(0)"
      ],
      "metadata": {
        "colab": {
          "base_uri": "https://localhost:8080/"
        },
        "id": "_lbDg1sFATb9",
        "outputId": "03e57670-38b5-47ea-e6ab-b1a134572502"
      },
      "execution_count": 30,
      "outputs": [
        {
          "output_type": "stream",
          "name": "stdout",
          "text": [
            "0\n",
            "1\n",
            "2\n",
            "3\n",
            "4\n",
            "5\n",
            "6\n",
            "7\n",
            "8\n",
            "9\n",
            "10\n"
          ]
        }
      ]
    },
    {
      "cell_type": "code",
      "source": [
        "def printstr(texto, indice):\n",
        "    if indice == len(texto):\n",
        "        return\n",
        "    print(texto[indice])\n",
        "    printstr(texto, indice+1)\n",
        "\n",
        "printstr(\"Python\", 0)"
      ],
      "metadata": {
        "colab": {
          "base_uri": "https://localhost:8080/"
        },
        "id": "dtdJ0qbVKJGe",
        "outputId": "82f6c110-e876-4e48-9a8c-28d8303a3160"
      },
      "execution_count": 31,
      "outputs": [
        {
          "output_type": "stream",
          "name": "stdout",
          "text": [
            "P\n",
            "y\n",
            "t\n",
            "h\n",
            "o\n",
            "n\n"
          ]
        }
      ]
    },
    {
      "cell_type": "markdown",
      "source": [
        "## Funções aninhadas"
      ],
      "metadata": {
        "id": "uWI0xBN6L5wP"
      }
    },
    {
      "cell_type": "code",
      "source": [
        "def pega_func_print():\n",
        "    def print_var(var):\n",
        "        print(var)\n",
        "    return\n",
        "\n",
        "print_me = pega_func_print()\n",
        "print_me(10)\n",
        "print(type(print_me))"
      ],
      "metadata": {
        "colab": {
          "base_uri": "https://localhost:8080/"
        },
        "id": "rZ1m7jZEL8VP",
        "outputId": "8baea2f3-807b-4c66-8f85-a6f390ac59bb"
      },
      "execution_count": 35,
      "outputs": [
        {
          "output_type": "stream",
          "name": "stdout",
          "text": [
            "<class 'NoneType'>\n"
          ]
        }
      ]
    },
    {
      "cell_type": "markdown",
      "source": [
        "## Decorators"
      ],
      "metadata": {
        "id": "MYVLvjk-Md6r"
      }
    },
    {
      "cell_type": "code",
      "source": [
        "def DeixaMaiusculo(func):\n",
        "    def inner_func():\n",
        "        return func().upper()\n",
        "    return inner_func\n",
        "\n",
        "@DeixaMaiusculo\n",
        "def retorna_string():\n",
        "    return \"string de teste\"\n",
        "\n",
        "valor = retorna_string()\n",
        "print(valor)"
      ],
      "metadata": {
        "colab": {
          "base_uri": "https://localhost:8080/"
        },
        "id": "it5pCGz9MlCR",
        "outputId": "2b8ec2a3-67f9-4110-dea6-225ff838bb92"
      },
      "execution_count": 37,
      "outputs": [
        {
          "output_type": "stream",
          "name": "stdout",
          "text": [
            "STRING DE TESTE\n"
          ]
        }
      ]
    },
    {
      "cell_type": "code",
      "source": [
        "def DeixaMaiusculo(func):\n",
        "    def inner_func(str1, str2):\n",
        "        return func(str1, str2).upper()\n",
        "    return inner_func\n",
        "\n",
        "@DeixaMaiusculo\n",
        "def retorna_string(str1, str2):\n",
        "    return str1+str2\n",
        "\n",
        "valor = retorna_string(\"Olá\", \"Mundo\")\n",
        "print(valor)\n"
      ],
      "metadata": {
        "colab": {
          "base_uri": "https://localhost:8080/"
        },
        "id": "Re554_z_NTAs",
        "outputId": "0ba4f3ca-ebaa-4350-d57c-955907dc35a3"
      },
      "execution_count": 38,
      "outputs": [
        {
          "output_type": "stream",
          "name": "stdout",
          "text": [
            "OLÁMUNDO\n"
          ]
        }
      ]
    },
    {
      "cell_type": "code",
      "source": [
        "def DeixaMaiusculo(func):\n",
        "    def inner_func(str1):\n",
        "        return func(str1).upper()\n",
        "    return inner_func\n",
        "\n",
        "def InsereParenteses(func):\n",
        "    def inner_func(str1):\n",
        "        return '('+func(str1)+')'\n",
        "    return inner_func\n",
        "\n",
        "@DeixaMaiusculo\n",
        "@InsereParenteses\n",
        "def retorna_string(str1):\n",
        "    return str1\n",
        "\n",
        "valor = retorna_string(\"Olá\")\n",
        "print(valor)"
      ],
      "metadata": {
        "colab": {
          "base_uri": "https://localhost:8080/"
        },
        "id": "VpOcOBzZN2bK",
        "outputId": "e4e0ea34-1503-4ff9-eefe-ebd19390639b"
      },
      "execution_count": 39,
      "outputs": [
        {
          "output_type": "stream",
          "name": "stdout",
          "text": [
            "(OLÁ)\n"
          ]
        }
      ]
    }
  ]
}