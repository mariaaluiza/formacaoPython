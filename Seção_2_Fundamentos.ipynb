{
  "nbformat": 4,
  "nbformat_minor": 0,
  "metadata": {
    "colab": {
      "provenance": [],
      "authorship_tag": "ABX9TyOpg7yCWabc1tKtMind5JdG",
      "include_colab_link": true
    },
    "kernelspec": {
      "name": "python3",
      "display_name": "Python 3"
    },
    "language_info": {
      "name": "python"
    }
  },
  "cells": [
    {
      "cell_type": "markdown",
      "metadata": {
        "id": "view-in-github",
        "colab_type": "text"
      },
      "source": [
        "<a href=\"https://colab.research.google.com/github/mariaaluiza/formacaoPython/blob/main/Se%C3%A7%C3%A3o_2_Fundamentos.ipynb\" target=\"_parent\"><img src=\"https://colab.research.google.com/assets/colab-badge.svg\" alt=\"Open In Colab\"/></a>"
      ]
    },
    {
      "cell_type": "markdown",
      "source": [
        "# Comentário e Print"
      ],
      "metadata": {
        "id": "o0vJwe9Ws4u3"
      }
    },
    {
      "cell_type": "code",
      "source": [
        "#para comentar apenas 1 linha"
      ],
      "metadata": {
        "id": "kl0RpTMhtAOF"
      },
      "execution_count": null,
      "outputs": []
    },
    {
      "cell_type": "code",
      "source": [
        "#print\n",
        "print(\"1\",\"2\",\"3\", sep=\" - \")"
      ],
      "metadata": {
        "colab": {
          "base_uri": "https://localhost:8080/"
        },
        "id": "-DJh-OpqtEA8",
        "outputId": "5326c5ef-028a-4e0a-facf-bb2c4a280821"
      },
      "execution_count": 1,
      "outputs": [
        {
          "output_type": "stream",
          "name": "stdout",
          "text": [
            "1 - 2 - 3\n"
          ]
        }
      ]
    },
    {
      "cell_type": "code",
      "source": [
        "print(\"1\",\"2\",\"3\", end=\" Fim\", sep=\" \")"
      ],
      "metadata": {
        "colab": {
          "base_uri": "https://localhost:8080/"
        },
        "id": "P6etiscBtO42",
        "outputId": "e4fdc8f0-5486-4c7d-d4b8-27208ce5f17b"
      },
      "execution_count": 2,
      "outputs": [
        {
          "output_type": "stream",
          "name": "stdout",
          "text": [
            "1 2 3 Fim"
          ]
        }
      ]
    },
    {
      "cell_type": "code",
      "source": [
        "print(\"Esse é um texto muito grande. \\nQuebre a linha\")"
      ],
      "metadata": {
        "colab": {
          "base_uri": "https://localhost:8080/"
        },
        "id": "euwBx8a3tWiN",
        "outputId": "2c7ff204-a413-4b26-db85-7b9eb064947e"
      },
      "execution_count": 4,
      "outputs": [
        {
          "output_type": "stream",
          "name": "stdout",
          "text": [
            "Esse é um texto muito grande. \n",
            "Quebre a linha\n"
          ]
        }
      ]
    },
    {
      "cell_type": "code",
      "source": [
        "print(\"1\", \"2\", \"3\", sep= \"\\n\")"
      ],
      "metadata": {
        "colab": {
          "base_uri": "https://localhost:8080/"
        },
        "id": "qgi1nSjCtb-S",
        "outputId": "47410d91-826b-4816-8a11-72e56370281b"
      },
      "execution_count": 5,
      "outputs": [
        {
          "output_type": "stream",
          "name": "stdout",
          "text": [
            "1\n",
            "2\n",
            "3\n"
          ]
        }
      ]
    },
    {
      "cell_type": "code",
      "source": [
        "print(\"A pontuação foi %s de um total de %s\" % (\"5\", \"10\"))"
      ],
      "metadata": {
        "colab": {
          "base_uri": "https://localhost:8080/"
        },
        "id": "bMqbJzhAtkNT",
        "outputId": "c5a2cd1e-ca7a-4421-e2ed-b512d472bff7"
      },
      "execution_count": 6,
      "outputs": [
        {
          "output_type": "stream",
          "name": "stdout",
          "text": [
            "A pontuação foi 5 de um total de 10\n"
          ]
        }
      ]
    },
    {
      "cell_type": "code",
      "source": [
        "print(\"A pontuação foi {} de um total de {}\".format(\"5\", \"10\"))"
      ],
      "metadata": {
        "colab": {
          "base_uri": "https://localhost:8080/"
        },
        "id": "l8bOr0retqyZ",
        "outputId": "97c1b62d-3fcf-4d76-93df-bc6c96fe3d71"
      },
      "execution_count": 7,
      "outputs": [
        {
          "output_type": "stream",
          "name": "stdout",
          "text": [
            "A pontuação foi 5 de um total de 10\n"
          ]
        }
      ]
    },
    {
      "cell_type": "markdown",
      "source": [
        "# Variáveis"
      ],
      "metadata": {
        "id": "-QYwEIUUtxZO"
      }
    },
    {
      "cell_type": "markdown",
      "source": [
        "O tipo das variáveis são implícitos\n",
        "\n",
        "## Tipos primitivos:\n",
        "Váriavel vazia vai receber o valor None\n",
        "\n",
        "variavel = None\n",
        "\n",
        "integer = 10\n",
        "\n",
        "float = 10.5\n",
        "\n",
        "string = \"Maça\"\n",
        "\n",
        "boolean = True or False\n",
        "\n",
        "\n"
      ],
      "metadata": {
        "id": "2BNrOne1u3cQ"
      }
    },
    {
      "cell_type": "code",
      "source": [
        "_numero = 1\n",
        "Numero = 2\n",
        "numero = 3\n",
        "numero123 = 4\n",
        "NUMERO = 5\n",
        "print(_numero, Numero, numero, numero123, NUMERO)"
      ],
      "metadata": {
        "colab": {
          "base_uri": "https://localhost:8080/"
        },
        "id": "nRfOC1JPttZj",
        "outputId": "99ca918e-5f06-4f03-f032-d1aae8ec7570"
      },
      "execution_count": 9,
      "outputs": [
        {
          "output_type": "stream",
          "name": "stdout",
          "text": [
            "1 2 3 4 5\n"
          ]
        }
      ]
    },
    {
      "cell_type": "code",
      "source": [
        "#tipos de variáveis\n",
        "\n",
        "#Pascal Case\n",
        "saldoBancario = 10\n",
        "#Camel Case\n",
        "SaldoBancario = 100\n",
        "#Snake Case\n",
        "saldo_bancario = 1000"
      ],
      "metadata": {
        "id": "v90j70zPu10H"
      },
      "execution_count": 10,
      "outputs": []
    },
    {
      "cell_type": "markdown",
      "source": [
        "# Formatação"
      ],
      "metadata": {
        "id": "aemMOVPmxXnV"
      }
    },
    {
      "cell_type": "code",
      "source": [
        "# %s texto\n",
        "# %d inteiro\n",
        "# %f real\n",
        "#todos irão formatar para string"
      ],
      "metadata": {
        "id": "rllrU7yexd8F"
      },
      "execution_count": null,
      "outputs": []
    },
    {
      "cell_type": "code",
      "source": [
        "nome = \"Maria\"\n",
        "texto_formatado = \"O nome dela é %s \"% (nome)\n",
        "print(texto_formatado)"
      ],
      "metadata": {
        "colab": {
          "base_uri": "https://localhost:8080/"
        },
        "id": "u0KA18LPxmcU",
        "outputId": "af5441fe-ba64-4fd8-d25b-e12c6a326485"
      },
      "execution_count": 11,
      "outputs": [
        {
          "output_type": "stream",
          "name": "stdout",
          "text": [
            "O nome dela é Maria \n"
          ]
        }
      ]
    },
    {
      "cell_type": "code",
      "source": [
        "numero = 10\n",
        "texto_formatado = \"O número é %d \"% (numero)\n",
        "print(texto_formatado)"
      ],
      "metadata": {
        "colab": {
          "base_uri": "https://localhost:8080/"
        },
        "id": "yNigh31-xxsu",
        "outputId": "412f5206-f758-45ae-d996-91b12b3b3187"
      },
      "execution_count": 12,
      "outputs": [
        {
          "output_type": "stream",
          "name": "stdout",
          "text": [
            "O número é 10 \n"
          ]
        }
      ]
    },
    {
      "cell_type": "code",
      "source": [
        "funcionario = \"Jose\"\n",
        "anos_de_casa = 12\n",
        "salario = 1345.67\n",
        "texto_formatado = \"O salario de %s é %f e ele está conosco há %d anos\" % (funcionario, salario, anos_de_casa)\n",
        "print(texto_formatado)"
      ],
      "metadata": {
        "colab": {
          "base_uri": "https://localhost:8080/"
        },
        "id": "vgKWarPOx1r8",
        "outputId": "478bed56-e731-47b5-aae3-09d093c3d0c2"
      },
      "execution_count": 13,
      "outputs": [
        {
          "output_type": "stream",
          "name": "stdout",
          "text": [
            "O salario de Jose é 1345.670000 e ele está conosco há 12 anos\n"
          ]
        }
      ]
    },
    {
      "cell_type": "code",
      "source": [
        "numero_gigante = 1.534534534535345345\n",
        "print(\"Numero gigante formatado: %.2f\" % (numero_gigante))"
      ],
      "metadata": {
        "colab": {
          "base_uri": "https://localhost:8080/"
        },
        "id": "7gsyRqySyW02",
        "outputId": "10f4ecb7-4a68-4e85-b744-dbf547f3aa45"
      },
      "execution_count": 14,
      "outputs": [
        {
          "output_type": "stream",
          "name": "stdout",
          "text": [
            "Numero gigante formatado: 1.53\n"
          ]
        }
      ]
    },
    {
      "cell_type": "code",
      "source": [
        "valor = True\n",
        "print(\"O valor é %s\" % (valor))\n",
        "print(\"O valor é %d\" % (valor))"
      ],
      "metadata": {
        "colab": {
          "base_uri": "https://localhost:8080/"
        },
        "id": "WYGeOt0Wysrw",
        "outputId": "5bb2ee46-df84-4ba2-832b-6cb6044c879d"
      },
      "execution_count": 16,
      "outputs": [
        {
          "output_type": "stream",
          "name": "stdout",
          "text": [
            "O valor é True\n",
            "O valor é 1\n"
          ]
        }
      ]
    },
    {
      "cell_type": "code",
      "source": [
        "decimal = 23.65465\n",
        "print(\"A parte inteira é %d\" % (decimal))\n",
        "print(\"A parte inteira é %.0f\" % (decimal))"
      ],
      "metadata": {
        "colab": {
          "base_uri": "https://localhost:8080/"
        },
        "id": "Nqs5-O9xy9pP",
        "outputId": "8471a857-b1d2-47b6-978b-3661b9bee300"
      },
      "execution_count": 19,
      "outputs": [
        {
          "output_type": "stream",
          "name": "stdout",
          "text": [
            "A parte inteira é 23\n",
            "A parte inteira é 24\n"
          ]
        }
      ]
    },
    {
      "cell_type": "code",
      "source": [
        "texto=\"Olá, assim se quebra uma linha,\\n\\tentendeu? Assim funciona\\n\\t\\tfim\"\n",
        "print(texto)"
      ],
      "metadata": {
        "colab": {
          "base_uri": "https://localhost:8080/"
        },
        "id": "rE69c6K6yzmQ",
        "outputId": "9f348171-5784-4aa5-b3be-0ce1c08382b0"
      },
      "execution_count": 21,
      "outputs": [
        {
          "output_type": "stream",
          "name": "stdout",
          "text": [
            "Olá, assim se quebra uma linha,\n",
            "\tentendeu? Assim funciona\n",
            "\t\tfim\n"
          ]
        }
      ]
    },
    {
      "cell_type": "code",
      "source": [
        "texto = \"Deixa a \\'palavra\\' entre aspas\"\n",
        "print(texto)"
      ],
      "metadata": {
        "colab": {
          "base_uri": "https://localhost:8080/"
        },
        "id": "Tv3_erhvztxJ",
        "outputId": "6bdaadb8-54bf-4592-983e-b1022118ba10"
      },
      "execution_count": 22,
      "outputs": [
        {
          "output_type": "stream",
          "name": "stdout",
          "text": [
            "Deixa a 'palavra' entre aspas\n"
          ]
        }
      ]
    },
    {
      "cell_type": "code",
      "source": [
        "dia, mes, ano = 2,7,1981\n",
        "data = \"Eu nasci em %d/%d/%d\"%(dia, mes, ano)\n",
        "print(data)"
      ],
      "metadata": {
        "colab": {
          "base_uri": "https://localhost:8080/"
        },
        "id": "q5eePbGe0JUy",
        "outputId": "0bb52715-3aea-4612-b32c-963c4d65ad67"
      },
      "execution_count": 26,
      "outputs": [
        {
          "output_type": "stream",
          "name": "stdout",
          "text": [
            "Eu nasci em 2/7/1981\n"
          ]
        }
      ]
    },
    {
      "cell_type": "markdown",
      "source": [
        "# Operadores aritméticos\n",
        "\n",
        "### Ordem de prioridade dos operadores\n",
        "1º - ** (exponenciação)\n",
        "2º - *  (multiplicação)\n",
        "3º - /  (divisão)\n",
        "4º - %  (resto da divisão)\n",
        "5º - // (divisão inteira)\n",
        "\n",
        "se tiver parenteses, resolve o que tá dentro do parenteses primeiro"
      ],
      "metadata": {
        "id": "o-4hrNKl0taD"
      }
    },
    {
      "cell_type": "code",
      "source": [
        "#apenas a parte inteira\n",
        "numero = 10 // 3\n",
        "print(numero)"
      ],
      "metadata": {
        "colab": {
          "base_uri": "https://localhost:8080/"
        },
        "id": "Xe6WE7K90yGD",
        "outputId": "9bef226a-897c-4467-e4e0-eb9ef411ce26"
      },
      "execution_count": 27,
      "outputs": [
        {
          "output_type": "stream",
          "name": "stdout",
          "text": [
            "3\n"
          ]
        }
      ]
    },
    {
      "cell_type": "code",
      "source": [
        "#exponenciação\n",
        "numero = 2 ** 4\n",
        "print(numero)"
      ],
      "metadata": {
        "colab": {
          "base_uri": "https://localhost:8080/"
        },
        "id": "p8Gw6EPF1mLw",
        "outputId": "d2e40bac-c0c1-4a22-8b0e-cd302a29c334"
      },
      "execution_count": 28,
      "outputs": [
        {
          "output_type": "stream",
          "name": "stdout",
          "text": [
            "16\n"
          ]
        }
      ]
    },
    {
      "cell_type": "code",
      "source": [
        "#resto\n",
        "numero = 4 % 3\n",
        "print(numero)\n"
      ],
      "metadata": {
        "colab": {
          "base_uri": "https://localhost:8080/"
        },
        "id": "rYbrnOFM1t09",
        "outputId": "9419e586-b558-425a-fdbc-fac1b9cf7391"
      },
      "execution_count": 30,
      "outputs": [
        {
          "output_type": "stream",
          "name": "stdout",
          "text": [
            "1\n"
          ]
        }
      ]
    },
    {
      "cell_type": "code",
      "source": [
        "num1 = 10 * 2 + 1\n",
        "print(num1)\n",
        "num1 = 10 * (2 + 1)\n",
        "print(num1)\n",
        "num2 = 3 * 3 - 9\n",
        "print(num2)\n",
        "num2 = 3 * (3 - 9)\n",
        "print(num2)"
      ],
      "metadata": {
        "colab": {
          "base_uri": "https://localhost:8080/"
        },
        "id": "G6pFsm_M2jCX",
        "outputId": "b849db5d-5c0c-4f37-85b7-3862909705af"
      },
      "execution_count": 34,
      "outputs": [
        {
          "output_type": "stream",
          "name": "stdout",
          "text": [
            "21\n",
            "30\n",
            "0\n",
            "-18\n"
          ]
        }
      ]
    },
    {
      "cell_type": "code",
      "source": [
        "a = 1\n",
        "a = a + 1\n",
        "print (a)\n",
        "\n",
        "a = 1\n",
        "a += 1\n",
        "print (a)"
      ],
      "metadata": {
        "colab": {
          "base_uri": "https://localhost:8080/"
        },
        "id": "4Gi1P4hT3JmI",
        "outputId": "6d7bf405-3a4d-4805-db4e-93705fa6d66d"
      },
      "execution_count": 37,
      "outputs": [
        {
          "output_type": "stream",
          "name": "stdout",
          "text": [
            "2\n",
            "2\n"
          ]
        }
      ]
    },
    {
      "cell_type": "code",
      "source": [
        "ano_nasc= 1981\n",
        "ano_atual = 2025\n",
        "\n",
        "idade = ano_atual - ano_nasc\n",
        "print(idade)"
      ],
      "metadata": {
        "colab": {
          "base_uri": "https://localhost:8080/"
        },
        "id": "6kEyepQ0JHpV",
        "outputId": "c785132e-5c64-4716-b67f-85eb6f532fe6"
      },
      "execution_count": 1,
      "outputs": [
        {
          "output_type": "stream",
          "name": "stdout",
          "text": [
            "44\n"
          ]
        }
      ]
    },
    {
      "cell_type": "code",
      "source": [
        "var1 = 45\n",
        "var2 = 485\n",
        "var3 = 123\n",
        "\n",
        "varmedia = (var1+var2+var3)/3\n",
        "\n",
        "print(\"Media: %.2f\" % (varmedia))"
      ],
      "metadata": {
        "colab": {
          "base_uri": "https://localhost:8080/"
        },
        "id": "SM-vsYWGJSHW",
        "outputId": "cef38bc6-6365-4ebc-f097-d95ff89546b5"
      },
      "execution_count": 5,
      "outputs": [
        {
          "output_type": "stream",
          "name": "stdout",
          "text": [
            "Media: 217.67\n"
          ]
        }
      ]
    },
    {
      "cell_type": "code",
      "source": [
        "altura = 1.56\n",
        "peso = 59\n",
        "\n",
        "imc = peso / (altura ** 2)\n",
        "\n",
        "print(\"IMC = %.2f\" % (imc))"
      ],
      "metadata": {
        "colab": {
          "base_uri": "https://localhost:8080/"
        },
        "id": "Fg1fb-zCJxpE",
        "outputId": "b5708313-9e50-4292-8b3a-7f581d1c65de"
      },
      "execution_count": 6,
      "outputs": [
        {
          "output_type": "stream",
          "name": "stdout",
          "text": [
            "IMC = 24.24\n"
          ]
        }
      ]
    },
    {
      "cell_type": "code",
      "source": [
        "from ast import mod\n",
        "varovos = 47\n",
        "varpessoas = 4\n",
        "\n",
        "varquantidade = varovos // varpessoas\n",
        "\n",
        "print(\"Cada pessoa vai receber %d ovos\" % (varquantidade))\n",
        "\n",
        "varsobra = varovos % varpessoas\n",
        "\n",
        "print (\"Sobraram %d ovos\" % (varsobra))"
      ],
      "metadata": {
        "colab": {
          "base_uri": "https://localhost:8080/"
        },
        "id": "Q8EnfxpJKm-b",
        "outputId": "498d95bd-656e-406c-e5ef-1a1f634be300"
      },
      "execution_count": 8,
      "outputs": [
        {
          "output_type": "stream",
          "name": "stdout",
          "text": [
            "Cada pessoa vai receber 11 ovos\n",
            "Sobraram 3 ovos\n"
          ]
        }
      ]
    },
    {
      "cell_type": "markdown",
      "source": [
        "## Operadores Lógicos\n",
        "Ordem de prioridade:\n",
        "not, and, or"
      ],
      "metadata": {
        "id": "psX_EFEpLp-j"
      }
    },
    {
      "cell_type": "code",
      "source": [
        "resultado1 = True and False\n",
        "print(resultado1)"
      ],
      "metadata": {
        "colab": {
          "base_uri": "https://localhost:8080/"
        },
        "id": "TunuJ7lALuRC",
        "outputId": "62a6ab5c-6e58-402f-e64d-3ca591361c42"
      },
      "execution_count": 9,
      "outputs": [
        {
          "output_type": "stream",
          "name": "stdout",
          "text": [
            "False\n"
          ]
        }
      ]
    },
    {
      "cell_type": "code",
      "source": [
        "climabom = False\n",
        "disposto = True\n",
        "\n",
        "vou_ao_mercado = climabom and disposto\n",
        "print(\"Vou ao mercado? \", vou_ao_mercado)"
      ],
      "metadata": {
        "colab": {
          "base_uri": "https://localhost:8080/"
        },
        "id": "-s_h31TWL1ca",
        "outputId": "9a3691f1-5675-4001-a9bf-9a4abe2a1030"
      },
      "execution_count": 12,
      "outputs": [
        {
          "output_type": "stream",
          "name": "stdout",
          "text": [
            "Vou ao mercado?  False\n"
          ]
        }
      ]
    },
    {
      "cell_type": "code",
      "source": [
        "climabom = False\n",
        "disposto = True\n",
        "\n",
        "vou_ao_mercado = climabom or disposto\n",
        "print(\"Vou ao mercado? \", vou_ao_mercado)"
      ],
      "metadata": {
        "colab": {
          "base_uri": "https://localhost:8080/"
        },
        "id": "pEas13tZMNzi",
        "outputId": "bbdeeb37-fa4b-471f-b6c1-e91358bf920c"
      },
      "execution_count": 14,
      "outputs": [
        {
          "output_type": "stream",
          "name": "stdout",
          "text": [
            "Vou ao mercado?  True\n"
          ]
        }
      ]
    },
    {
      "cell_type": "code",
      "source": [
        "porta_aberta = True\n",
        "tem_chave = False\n",
        "\n",
        "print(\"Estou trancado? \", not porta_aberta and not tem_chave)"
      ],
      "metadata": {
        "colab": {
          "base_uri": "https://localhost:8080/"
        },
        "id": "M5xZVH-9Mf7D",
        "outputId": "8622f649-d720-430f-b093-461f0717125b"
      },
      "execution_count": 15,
      "outputs": [
        {
          "output_type": "stream",
          "name": "stdout",
          "text": [
            "Estou trancado?  False\n"
          ]
        }
      ]
    },
    {
      "cell_type": "markdown",
      "source": [
        "## Type and Casting"
      ],
      "metadata": {
        "id": "EvgO9HEnNBUM"
      }
    },
    {
      "cell_type": "code",
      "source": [
        "texto = \"olá\"\n",
        "numero = 2\n",
        "decimal = 1.5\n",
        "booleano = True\n",
        "print(type(texto))\n",
        "print(type(numero))\n",
        "print(type(decimal))\n",
        "print(type(booleano))"
      ],
      "metadata": {
        "colab": {
          "base_uri": "https://localhost:8080/"
        },
        "id": "QOjVfictNFoq",
        "outputId": "bca077a2-3ab4-41f3-ade0-b4598fdee282"
      },
      "execution_count": 17,
      "outputs": [
        {
          "output_type": "stream",
          "name": "stdout",
          "text": [
            "<class 'str'>\n",
            "<class 'int'>\n",
            "<class 'float'>\n",
            "<class 'bool'>\n"
          ]
        }
      ]
    },
    {
      "cell_type": "code",
      "source": [
        "texto1 = \"2\"\n",
        "texto2 = \"1.5\"\n",
        "\n",
        "numero1 = int(texto1)\n",
        "numero2 = float(texto2)\n",
        "\n",
        "print(numero1+numero2)"
      ],
      "metadata": {
        "colab": {
          "base_uri": "https://localhost:8080/"
        },
        "id": "xhqyhOGNNlrE",
        "outputId": "f3773e2c-a8ff-4ac9-d773-ba9a9f2e3917"
      },
      "execution_count": 18,
      "outputs": [
        {
          "output_type": "stream",
          "name": "stdout",
          "text": [
            "3.5\n"
          ]
        }
      ]
    },
    {
      "cell_type": "code",
      "source": [
        "num = 21.4587\n",
        "inteira = int(num)\n",
        "print(\"A parte inteira de %f é %d\" % (num,inteira))"
      ],
      "metadata": {
        "colab": {
          "base_uri": "https://localhost:8080/"
        },
        "id": "HHuM6r4zN2Mj",
        "outputId": "b25da718-035b-42a2-b328-989a4f60de99"
      },
      "execution_count": 22,
      "outputs": [
        {
          "output_type": "stream",
          "name": "stdout",
          "text": [
            "A parte inteira de 21.458700 é 21\n"
          ]
        }
      ]
    },
    {
      "cell_type": "code",
      "source": [
        "texto = \"O numero é: \"\n",
        "numero = 10.3\n",
        "print(texto, str(numero))"
      ],
      "metadata": {
        "colab": {
          "base_uri": "https://localhost:8080/"
        },
        "id": "HBCXJXN7OIp8",
        "outputId": "0464567b-1598-475d-b5cf-a76b59cca9c3"
      },
      "execution_count": 24,
      "outputs": [
        {
          "output_type": "stream",
          "name": "stdout",
          "text": [
            "O numero é:  10.3\n"
          ]
        }
      ]
    },
    {
      "cell_type": "code",
      "source": [
        "texto = 123\n",
        "qtd_digitos = len(str(texto))\n",
        "print(\"O texto %s tem %d caracteres.\" % (texto, qtd_digitos))"
      ],
      "metadata": {
        "colab": {
          "base_uri": "https://localhost:8080/"
        },
        "id": "OtnbDGPJQR1Z",
        "outputId": "980ec330-7206-40a6-e9f2-36ed3a4eb3c2"
      },
      "execution_count": 25,
      "outputs": [
        {
          "output_type": "stream",
          "name": "stdout",
          "text": [
            "O texto 123 tem 3 caracteres.\n"
          ]
        }
      ]
    },
    {
      "cell_type": "code",
      "source": [
        "vazio = None\n",
        "numero1= 15\n",
        "numero0 = 0\n",
        "texto = \"Texto\"\n",
        "texto_vazio = \"\"\n",
        "decimal_zero = 0.0\n",
        "decimal = 3.5\n",
        "\n",
        "print(\"Variável tem valor: \", bool(vazio))\n",
        "print(\"Variável tem valor: \", bool(numero1))\n",
        "print(\"Variável tem valor: \", bool(numero0))\n",
        "print(\"Variável tem valor: \", bool(texto))\n",
        "print(\"Variável tem valor: \", bool(texto_vazio))\n",
        "print(\"Variável tem valor: \", bool(decimal_zero))\n",
        "print(\"Variável tem valor: \", bool(decimal))"
      ],
      "metadata": {
        "colab": {
          "base_uri": "https://localhost:8080/"
        },
        "id": "itZ4nOUGQm1c",
        "outputId": "4497a5bb-7196-4e93-dfb4-b9e131ce2184"
      },
      "execution_count": 26,
      "outputs": [
        {
          "output_type": "stream",
          "name": "stdout",
          "text": [
            "Variável tem valor:  False\n",
            "Variável tem valor:  True\n",
            "Variável tem valor:  False\n",
            "Variável tem valor:  True\n",
            "Variável tem valor:  False\n",
            "Variável tem valor:  False\n",
            "Variável tem valor:  True\n"
          ]
        }
      ]
    },
    {
      "cell_type": "markdown",
      "source": [
        "# Entrada de informações"
      ],
      "metadata": {
        "id": "itBhyomiRdsy"
      }
    },
    {
      "cell_type": "code",
      "source": [
        "valor = input()\n",
        "print(valor)"
      ],
      "metadata": {
        "colab": {
          "base_uri": "https://localhost:8080/"
        },
        "id": "Svc7tVCARc5C",
        "outputId": "03392c7c-6489-4b71-db59-a0d022ec47f8"
      },
      "execution_count": 27,
      "outputs": [
        {
          "output_type": "stream",
          "name": "stdout",
          "text": [
            "3\n",
            "3\n"
          ]
        }
      ]
    },
    {
      "cell_type": "code",
      "source": [
        "entrada_usuario = input(\"Digite 1 para verdadeiro ou 0 para falso: \")\n",
        "valor_inteiro = int(entrada_usuario)\n",
        "valor_logico = bool(valor_inteiro)\n",
        "print(\"Você escolheu: %s\" % valor_logico)"
      ],
      "metadata": {
        "colab": {
          "base_uri": "https://localhost:8080/"
        },
        "id": "hItynyB2Scjd",
        "outputId": "51a7d6bc-45f9-4f61-946e-ae10bfd5ad38"
      },
      "execution_count": 29,
      "outputs": [
        {
          "output_type": "stream",
          "name": "stdout",
          "text": [
            "Digite 1 para verdadeiro ou 0 para falso: 1\n",
            "Você escolheu: True\n"
          ]
        }
      ]
    },
    {
      "cell_type": "markdown",
      "source": [
        "## Operadores de atribuição e combinação de operadores lógicos:"
      ],
      "metadata": {
        "id": "OjXnCKOPTEs7"
      }
    },
    {
      "cell_type": "code",
      "source": [
        "numero = 1\n",
        "numero += 1\n",
        "print(numero)"
      ],
      "metadata": {
        "colab": {
          "base_uri": "https://localhost:8080/"
        },
        "id": "LRIFfcBBTLvT",
        "outputId": "d563bd45-a8ff-4608-90a0-8812c15905f8"
      },
      "execution_count": 30,
      "outputs": [
        {
          "output_type": "stream",
          "name": "stdout",
          "text": [
            "2\n"
          ]
        }
      ]
    },
    {
      "cell_type": "code",
      "source": [
        "numero = 10\n",
        "numero /= 2\n",
        "print(numero)"
      ],
      "metadata": {
        "colab": {
          "base_uri": "https://localhost:8080/"
        },
        "id": "9--LAhu7TaK8",
        "outputId": "a9c08193-7514-4a0f-f22c-b9340a4a164c"
      },
      "execution_count": 31,
      "outputs": [
        {
          "output_type": "stream",
          "name": "stdout",
          "text": [
            "5.0\n"
          ]
        }
      ]
    },
    {
      "cell_type": "code",
      "source": [
        "num = 20\n",
        "booleana = (num == 10)\n",
        "print(booleana)"
      ],
      "metadata": {
        "colab": {
          "base_uri": "https://localhost:8080/"
        },
        "id": "itptLxpTTtEB",
        "outputId": "29f53615-dd58-4ea5-f805-206a0ffc335a"
      },
      "execution_count": 32,
      "outputs": [
        {
          "output_type": "stream",
          "name": "stdout",
          "text": [
            "False\n"
          ]
        }
      ]
    },
    {
      "cell_type": "code",
      "source": [
        "num = 20\n",
        "booleana = (num != 10)\n",
        "print(booleana)"
      ],
      "metadata": {
        "colab": {
          "base_uri": "https://localhost:8080/"
        },
        "id": "H3W71R0FT2dA",
        "outputId": "d4e98271-d96d-4821-d891-c847513b8ce4"
      },
      "execution_count": 33,
      "outputs": [
        {
          "output_type": "stream",
          "name": "stdout",
          "text": [
            "True\n"
          ]
        }
      ]
    },
    {
      "cell_type": "code",
      "source": [
        "num1 = 10\n",
        "num2 = 20\n",
        "emaior = num1 > num\n",
        "print(emaior)"
      ],
      "metadata": {
        "colab": {
          "base_uri": "https://localhost:8080/"
        },
        "id": "AuW7xKPqUE9x",
        "outputId": "2c2c02ff-ebed-43e1-b1f8-085e735c1e8d"
      },
      "execution_count": 34,
      "outputs": [
        {
          "output_type": "stream",
          "name": "stdout",
          "text": [
            "False\n"
          ]
        }
      ]
    },
    {
      "cell_type": "code",
      "source": [
        "num = 11\n",
        "booleano = num >0 and num<10\n",
        "print(booleano)"
      ],
      "metadata": {
        "colab": {
          "base_uri": "https://localhost:8080/"
        },
        "id": "ZZ0dijg1UTZC",
        "outputId": "5c98b0e4-747f-4da6-db51-058d2ee41472"
      },
      "execution_count": 35,
      "outputs": [
        {
          "output_type": "stream",
          "name": "stdout",
          "text": [
            "False\n"
          ]
        }
      ]
    },
    {
      "cell_type": "code",
      "source": [
        "num = 10.1\n",
        "boolean = type(num) == float and (num == 10 or num ==20.2)\n",
        "print(boolean)"
      ],
      "metadata": {
        "colab": {
          "base_uri": "https://localhost:8080/"
        },
        "id": "04cgNrwNUcgN",
        "outputId": "1997effd-7ae6-416c-b6d7-e65a14f5c25b"
      },
      "execution_count": 37,
      "outputs": [
        {
          "output_type": "stream",
          "name": "stdout",
          "text": [
            "False\n"
          ]
        }
      ]
    },
    {
      "cell_type": "markdown",
      "source": [
        "# Operadores sobre string\n",
        "\n",
        "var = \"exemplo\" -> 7 letras começando no 0\n",
        "       0123456\n",
        "\n"
      ],
      "metadata": {
        "id": "4EAQoamlVzUe"
      }
    },
    {
      "cell_type": "code",
      "source": [
        "var = \"exemplo\"\n",
        "print(var[1:3])\n",
        "print(var[3:])\n",
        "print(var[:5])"
      ],
      "metadata": {
        "colab": {
          "base_uri": "https://localhost:8080/"
        },
        "id": "-l9anWtIV2QW",
        "outputId": "77b6648e-3f78-47db-b315-3bbcbedc3f36"
      },
      "execution_count": 40,
      "outputs": [
        {
          "output_type": "stream",
          "name": "stdout",
          "text": [
            "xe\n",
            "mplo\n",
            "exemp\n"
          ]
        }
      ]
    },
    {
      "cell_type": "code",
      "source": [
        "texto1 = \"ola\"\n",
        "texto2 = \",\"\n",
        "texto3 = \"tudo bem?\"\n",
        "\n",
        "print(texto1 + texto2 + texto3)"
      ],
      "metadata": {
        "colab": {
          "base_uri": "https://localhost:8080/"
        },
        "id": "5lZcaeoRWPLK",
        "outputId": "f995341c-731e-4049-e3c7-aefc79ead1bb"
      },
      "execution_count": 41,
      "outputs": [
        {
          "output_type": "stream",
          "name": "stdout",
          "text": [
            "ola,tudo bem?\n"
          ]
        }
      ]
    },
    {
      "cell_type": "code",
      "source": [
        "texto1= \"ola\"\n",
        "texto1 += \" mundo\"\n",
        "print(texto1)"
      ],
      "metadata": {
        "colab": {
          "base_uri": "https://localhost:8080/"
        },
        "id": "rUwwcfCFWm8d",
        "outputId": "31168501-8a09-42f3-ee19-f3d006222dba"
      },
      "execution_count": 42,
      "outputs": [
        {
          "output_type": "stream",
          "name": "stdout",
          "text": [
            "ola mundo\n"
          ]
        }
      ]
    },
    {
      "cell_type": "code",
      "source": [
        "texto = \"teste\"\n",
        "texto_repetido = texto * 3\n",
        "print(texto_repetido)"
      ],
      "metadata": {
        "colab": {
          "base_uri": "https://localhost:8080/"
        },
        "id": "p198Uvg8WsVO",
        "outputId": "80bc8d67-dfe6-4a3c-c047-cfce44ba219b"
      },
      "execution_count": 43,
      "outputs": [
        {
          "output_type": "stream",
          "name": "stdout",
          "text": [
            "testetesteteste\n"
          ]
        }
      ]
    },
    {
      "cell_type": "code",
      "source": [
        "texto = \"carro\"\n",
        "print(texto[-4])\n",
        "print(texto[-4:])\n",
        "print(texto[:-1])\n",
        "print(texto[-5:-2])"
      ],
      "metadata": {
        "colab": {
          "base_uri": "https://localhost:8080/"
        },
        "id": "6yEyZ4CsW3ye",
        "outputId": "19644bd2-7094-4883-8907-20f4ad7198c2"
      },
      "execution_count": 46,
      "outputs": [
        {
          "output_type": "stream",
          "name": "stdout",
          "text": [
            "a\n",
            "arro\n",
            "carr\n",
            "car\n"
          ]
        }
      ]
    },
    {
      "cell_type": "code",
      "source": [
        "texto = \"metro\"\n",
        "print(texto[::-1])\n",
        "print(texto[3::-1])"
      ],
      "metadata": {
        "colab": {
          "base_uri": "https://localhost:8080/"
        },
        "id": "co_Nu_u6Xz3S",
        "outputId": "41e471ea-d514-4485-ae43-64d934e87458"
      },
      "execution_count": 48,
      "outputs": [
        {
          "output_type": "stream",
          "name": "stdout",
          "text": [
            "ortem\n",
            "rtem\n"
          ]
        }
      ]
    },
    {
      "cell_type": "code",
      "source": [
        "texto = \"023\"\n",
        "texto = \"1\"+ texto[1:]\n",
        "print(texto)"
      ],
      "metadata": {
        "colab": {
          "base_uri": "https://localhost:8080/"
        },
        "id": "JMwjgNQOcICi",
        "outputId": "5e0084c1-491f-4ca4-dfdb-13476d0bb270"
      },
      "execution_count": 50,
      "outputs": [
        {
          "output_type": "stream",
          "name": "stdout",
          "text": [
            "123\n"
          ]
        }
      ]
    },
    {
      "cell_type": "code",
      "source": [
        "texto = \"abcdefg\"\n",
        "texto = texto[:3]+texto[4:]\n",
        "print(texto)"
      ],
      "metadata": {
        "colab": {
          "base_uri": "https://localhost:8080/"
        },
        "id": "6ETinu3scc_i",
        "outputId": "f3832db5-3296-499c-e336-2db2000abaab"
      },
      "execution_count": 51,
      "outputs": [
        {
          "output_type": "stream",
          "name": "stdout",
          "text": [
            "abcefg\n"
          ]
        }
      ]
    },
    {
      "cell_type": "code",
      "source": [
        "texto1 = \"Olá\"\n",
        "texto2 = \"Olá\"\n",
        "igual = texto1 == texto2\n",
        "print(igual)"
      ],
      "metadata": {
        "colab": {
          "base_uri": "https://localhost:8080/"
        },
        "id": "sfFCMAOMco7u",
        "outputId": "5916357c-56d1-4b4d-b4b7-cee2236e2a3a"
      },
      "execution_count": 52,
      "outputs": [
        {
          "output_type": "stream",
          "name": "stdout",
          "text": [
            "True\n"
          ]
        }
      ]
    },
    {
      "cell_type": "code",
      "source": [
        "print(\"a\" != \"b\")"
      ],
      "metadata": {
        "colab": {
          "base_uri": "https://localhost:8080/"
        },
        "id": "9id5QurVc3xT",
        "outputId": "6ab8a08b-95fa-47b7-cacd-aee92612749e"
      },
      "execution_count": 53,
      "outputs": [
        {
          "output_type": "stream",
          "name": "stdout",
          "text": [
            "True\n"
          ]
        }
      ]
    },
    {
      "cell_type": "code",
      "source": [
        "texto = \"programação\"\n",
        "print(\"a\" in texto)\n",
        "print(\"x\" in texto)\n",
        "print(\"programa\" in texto)\n",
        "print(\"programa\" not in texto)"
      ],
      "metadata": {
        "colab": {
          "base_uri": "https://localhost:8080/"
        },
        "id": "dbUEQ4ECc_SC",
        "outputId": "fa8d304d-1f96-4027-e336-ab205bc7b858"
      },
      "execution_count": 57,
      "outputs": [
        {
          "output_type": "stream",
          "name": "stdout",
          "text": [
            "True\n",
            "False\n",
            "True\n",
            "False\n"
          ]
        }
      ]
    },
    {
      "cell_type": "code",
      "source": [
        "print(len(\"programação\"))"
      ],
      "metadata": {
        "colab": {
          "base_uri": "https://localhost:8080/"
        },
        "id": "meBsnngLdcJG",
        "outputId": "36d0cdb8-f35e-46b9-c61c-e2a9b3236c81"
      },
      "execution_count": 58,
      "outputs": [
        {
          "output_type": "stream",
          "name": "stdout",
          "text": [
            "11\n"
          ]
        }
      ]
    }
  ]
}