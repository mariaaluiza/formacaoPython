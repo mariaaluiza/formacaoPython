{
  "nbformat": 4,
  "nbformat_minor": 0,
  "metadata": {
    "colab": {
      "provenance": [],
      "authorship_tag": "ABX9TyNG38ECBAvB8/1W1y2kb64c",
      "include_colab_link": true
    },
    "kernelspec": {
      "name": "python3",
      "display_name": "Python 3"
    },
    "language_info": {
      "name": "python"
    }
  },
  "cells": [
    {
      "cell_type": "markdown",
      "metadata": {
        "id": "view-in-github",
        "colab_type": "text"
      },
      "source": [
        "<a href=\"https://colab.research.google.com/github/mariaaluiza/formacaoPython/blob/main/Se%C3%A7%C3%A3o_7_Orienta%C3%A7%C3%A3o_a_Objetos.ipynb\" target=\"_parent\"><img src=\"https://colab.research.google.com/assets/colab-badge.svg\" alt=\"Open In Colab\"/></a>"
      ]
    },
    {
      "cell_type": "code",
      "execution_count": null,
      "metadata": {
        "colab": {
          "base_uri": "https://localhost:8080/"
        },
        "id": "JO413NXoFhTt",
        "outputId": "f4d1a984-0db0-4ec8-8a97-6a4550d16870"
      },
      "outputs": [
        {
          "output_type": "stream",
          "name": "stdout",
          "text": [
            "<class '__main__.Teste'>\n"
          ]
        }
      ],
      "source": [
        "class Teste:\n",
        "    pass\n",
        "\n",
        "minha_classe = Teste()\n",
        "print(type(minha_classe))"
      ]
    },
    {
      "cell_type": "code",
      "source": [
        "class NossaClasse:\n",
        "    def __init__(self):\n",
        "        print(\"Construtor chamado\")\n",
        "\n",
        "minha_classe = NossaClasse()\n",
        "print(type(minha_classe))"
      ],
      "metadata": {
        "colab": {
          "base_uri": "https://localhost:8080/"
        },
        "id": "a1ID9raPHLst",
        "outputId": "3ba3251d-5f7b-4099-d8d1-bb137cda798d"
      },
      "execution_count": null,
      "outputs": [
        {
          "output_type": "stream",
          "name": "stdout",
          "text": [
            "Construtor chamado\n",
            "<class '__main__.NossaClasse'>\n"
          ]
        }
      ]
    },
    {
      "cell_type": "code",
      "source": [
        "class Pessoa:\n",
        "    def __init__(self, nome, idade):\n",
        "        self.nome = nome\n",
        "        self.idade = idade\n",
        "        print(\"Pessoa com nome %s e idade %d\" % (nome, idade))\n",
        "\n",
        "pessoa1 = Pessoa(\"João\", 30)\n",
        "pessoa2 = Pessoa(\"Maria\", 25)\n",
        "\n",
        "print(pessoa1.nome, pessoa1.idade)\n",
        "\n",
        "pessoa1.nome = \"Rodrigo\"\n",
        "print(pessoa1.nome)"
      ],
      "metadata": {
        "colab": {
          "base_uri": "https://localhost:8080/"
        },
        "id": "B-EicBJ7Hd7M",
        "outputId": "9c4f1866-1f54-48ae-8975-5a7da52da312"
      },
      "execution_count": null,
      "outputs": [
        {
          "output_type": "stream",
          "name": "stdout",
          "text": [
            "Pessoa com nome João e idade 30\n",
            "Pessoa com nome Maria e idade 25\n",
            "João 30\n",
            "Rodrigo\n"
          ]
        }
      ]
    },
    {
      "cell_type": "code",
      "source": [
        "class Pessoa:\n",
        "    #atributo estatico\n",
        "    especie = \"homo sapiens\"\n",
        "    def __init__(self, nome, idade):\n",
        "        self.nome = nome\n",
        "        self.idade = idade\n",
        "        print(\"Pessoa com nome %s e idade %d\" % (nome, idade))\n",
        "\n",
        "pessoa1 = Pessoa(\"João\", 30)\n",
        "pessoa2 = Pessoa(\"Maria\", 25)\n",
        "\n",
        "print(pessoa1.especie)\n",
        "print(pessoa2.especie)\n",
        "\n",
        "Pessoa.especie = \"homo neanderthalensis\"\n",
        "\n",
        "print(pessoa1.especie)\n",
        "print(pessoa2.especie)\n"
      ],
      "metadata": {
        "colab": {
          "base_uri": "https://localhost:8080/"
        },
        "id": "0u2VlHMHIwUS",
        "outputId": "4ea18498-9f58-47ff-d517-de1ae14b77a4"
      },
      "execution_count": null,
      "outputs": [
        {
          "output_type": "stream",
          "name": "stdout",
          "text": [
            "Pessoa com nome João e idade 30\n",
            "Pessoa com nome Maria e idade 25\n",
            "homo sapiens\n",
            "homo sapiens\n",
            "homo neanderthalensis\n",
            "homo neanderthalensis\n"
          ]
        }
      ]
    },
    {
      "cell_type": "code",
      "source": [
        "class Pessoa:\n",
        "    #atributo estatico\n",
        "    especie = \"homo sapiens\"\n",
        "    numpessoas = 0\n",
        "    def __init__(self, nome, idade):\n",
        "        self.nome = nome\n",
        "        self.idade = idade\n",
        "        Pessoa.numpessoas += 1\n",
        "        print(\"Pessoa com nome %s e idade %d\" % (nome, idade))\n",
        "\n",
        "pessoa1 = Pessoa(\"João\", 30)\n",
        "pessoa2 = Pessoa(\"Maria\", 25)\n",
        "pessoa3 = Pessoa(\"Jose\", 5)\n",
        "\n",
        "print(Pessoa.numpessoas)"
      ],
      "metadata": {
        "colab": {
          "base_uri": "https://localhost:8080/"
        },
        "id": "1upAOAbrJUXV",
        "outputId": "98f14939-cd85-4ac9-f807-ee2036e561d7"
      },
      "execution_count": null,
      "outputs": [
        {
          "output_type": "stream",
          "name": "stdout",
          "text": [
            "Pessoa com nome João e idade 30\n",
            "Pessoa com nome Maria e idade 25\n",
            "Pessoa com nome Jose e idade 5\n",
            "3\n"
          ]
        }
      ]
    },
    {
      "cell_type": "code",
      "source": [
        "class Pessoa:\n",
        "    def __init__(self, nome, idade):\n",
        "        self.nome = nome\n",
        "        self.idade = idade\n",
        "    def print_nome(self):\n",
        "        print(\"Pessoa com nome %s e idade %d\" % (self.nome, self.idade))\n",
        "\n",
        "pessoa2 = Pessoa(\"Maria\", 25)\n",
        "pessoa3 = Pessoa(\"Jose\", 5)\n",
        "\n",
        "pessoa2.print_nome()\n",
        "pessoa3.print_nome()"
      ],
      "metadata": {
        "colab": {
          "base_uri": "https://localhost:8080/"
        },
        "id": "YWrqp5KEJ6EM",
        "outputId": "4a1f39c7-ebac-44bf-c61c-ffba4115a82e"
      },
      "execution_count": null,
      "outputs": [
        {
          "output_type": "stream",
          "name": "stdout",
          "text": [
            "Pessoa com nome Maria e idade 25\n",
            "Pessoa com nome Jose e idade 5\n"
          ]
        }
      ]
    },
    {
      "cell_type": "code",
      "source": [
        "class Pessoa:\n",
        "    def __init__(self, nome, idade):\n",
        "        self.nome = nome\n",
        "        self.idade = idade\n",
        "\n",
        "    def print_string(self, nome):\n",
        "         print(\"Pessoa com nome %s e idade %d\" % (nome, self.idade))\n",
        "\n",
        "    def print_nome(self):\n",
        "        self.print_string(self.nome)\n",
        "\n",
        "pessoa2 = Pessoa(\"Maria\", 25)\n",
        "pessoa3 = Pessoa(\"Jose\", 5)\n",
        "\n",
        "pessoa2.print_nome()\n",
        "pessoa3.print_nome()"
      ],
      "metadata": {
        "colab": {
          "base_uri": "https://localhost:8080/"
        },
        "id": "OwCKCav1NmCo",
        "outputId": "d7c1d5c3-3c08-4c89-f27a-263cc1d1b270"
      },
      "execution_count": null,
      "outputs": [
        {
          "output_type": "stream",
          "name": "stdout",
          "text": [
            "Pessoa com nome Maria e idade 25\n",
            "Pessoa com nome Jose e idade 5\n"
          ]
        }
      ]
    },
    {
      "cell_type": "code",
      "source": [
        "class Pessoa:\n",
        "    def __init__(self, nome, idade):\n",
        "        self.nome = nome\n",
        "        self.idade = idade\n",
        "\n",
        "    def insere_idade(self, idade):\n",
        "        self.idade = idade\n",
        "\n",
        "\n",
        "pessoa2 = Pessoa(\"Maria\", 25)\n",
        "pessoa3 = Pessoa(\"Jose\", 5)\n",
        "\n",
        "pessoa2.insere_idade(20)\n",
        "print(pessoa2.idade)\n"
      ],
      "metadata": {
        "colab": {
          "base_uri": "https://localhost:8080/"
        },
        "id": "SvWwVPN4OAbf",
        "outputId": "1058e4fa-213b-4984-bad7-1459dccde1a8"
      },
      "execution_count": null,
      "outputs": [
        {
          "output_type": "stream",
          "name": "stdout",
          "text": [
            "20\n"
          ]
        }
      ]
    },
    {
      "cell_type": "code",
      "source": [
        "class Tipo1:\n",
        "    def __init__(self, outra_classe):\n",
        "        self.outra = outra_classe\n",
        "\n",
        "class Tipo2:\n",
        "    numero = 10\n",
        "\n",
        "classe2 = Tipo2()\n",
        "classe1 = Tipo1(classe2)\n",
        "print(classe1.outra.numero)"
      ],
      "metadata": {
        "colab": {
          "base_uri": "https://localhost:8080/"
        },
        "id": "Hr1g4CTvaJpM",
        "outputId": "4acac399-11f2-43b1-9cd3-b5704a3d91cd"
      },
      "execution_count": 2,
      "outputs": [
        {
          "output_type": "stream",
          "name": "stdout",
          "text": [
            "10\n"
          ]
        }
      ]
    },
    {
      "cell_type": "code",
      "source": [
        "class Exemplo:\n",
        "    def __init__(self):\n",
        "        pass\n",
        "\n",
        "lista = []\n",
        "\n",
        "ex1 = Exemplo\n",
        "ex2 = Exemplo\n",
        "\n",
        "lista.append(ex1)\n",
        "lista.append(ex2)\n",
        "\n",
        "print(lista)\n",
        "\n",
        "print(lista[1])"
      ],
      "metadata": {
        "colab": {
          "base_uri": "https://localhost:8080/"
        },
        "id": "LYwj9ZbQajpX",
        "outputId": "08b0b858-899b-460c-99ad-9a36e1748b73"
      },
      "execution_count": 4,
      "outputs": [
        {
          "output_type": "stream",
          "name": "stdout",
          "text": [
            "[<class '__main__.Exemplo'>, <class '__main__.Exemplo'>]\n",
            "<class '__main__.Exemplo'>\n"
          ]
        }
      ]
    },
    {
      "cell_type": "markdown",
      "source": [
        "## Herança\n",
        "Classe filha herda atributos e métodos da classe pai"
      ],
      "metadata": {
        "id": "WxxJWtEXa4yN"
      }
    },
    {
      "cell_type": "code",
      "source": [
        "class FormaGeometrica:\n",
        "    def __init__(self, altura, largura):\n",
        "        self.altura = altura\n",
        "        self.largura = largura\n",
        "\n",
        "class Quadrado(FormaGeometrica):\n",
        "    pass\n",
        "\n",
        "class Triangulo(FormaGeometrica):\n",
        "    pass\n",
        "\n",
        "quad = Quadrado(100,50)\n",
        "tri = Triangulo(100,50)\n",
        "\n",
        "print(quad.altura)\n",
        "print(tri.largura)\n"
      ],
      "metadata": {
        "colab": {
          "base_uri": "https://localhost:8080/"
        },
        "id": "xVbuID_4a4Zm",
        "outputId": "1c76e2b3-4ae5-42d9-cf8c-de9ccbd4546f"
      },
      "execution_count": 5,
      "outputs": [
        {
          "output_type": "stream",
          "name": "stdout",
          "text": [
            "100\n",
            "50\n"
          ]
        }
      ]
    },
    {
      "cell_type": "code",
      "source": [
        "class FormaGeometrica:\n",
        "    def __init__(self, altura, largura):\n",
        "        self.altura = altura\n",
        "        self.largura = largura\n",
        "\n",
        "    def funcao_herdada(self):\n",
        "        print(\"Sou herdado\")\n",
        "\n",
        "class Quadrado(FormaGeometrica):\n",
        "    lado = 10\n",
        "\n",
        "class Triangulo(FormaGeometrica):\n",
        "    angulo = 90\n",
        "\n",
        "quad = Quadrado(100,50)\n",
        "tri = Triangulo(100,50)\n",
        "\n",
        "print(quad.altura)\n",
        "print(tri.largura)\n",
        "print(quad.lado)\n",
        "print(tri.angulo)\n",
        "\n",
        "tri.funcao_herdada()\n",
        "tri.funcao_herdada()"
      ],
      "metadata": {
        "colab": {
          "base_uri": "https://localhost:8080/"
        },
        "id": "iZ5UdSoQbiMT",
        "outputId": "fa7bcaa5-4115-4a51-c01a-8b9809acd600"
      },
      "execution_count": 7,
      "outputs": [
        {
          "output_type": "stream",
          "name": "stdout",
          "text": [
            "100\n",
            "50\n",
            "10\n",
            "90\n",
            "Sou herdado\n",
            "Sou herdado\n"
          ]
        }
      ]
    },
    {
      "cell_type": "code",
      "source": [
        "#overrides\n",
        "class ClassePai():\n",
        "    def __init__(self):\n",
        "        print(\"Sou a classe pai\")\n",
        "\n",
        "class ClasseFilha(ClassePai):\n",
        "    def __init__(self):\n",
        "        print(\"Sou a classe filha\")\n",
        "\n",
        "pai = ClassePai()\n",
        "classe_filha = ClasseFilha()\n"
      ],
      "metadata": {
        "colab": {
          "base_uri": "https://localhost:8080/"
        },
        "id": "PuswGO4acFBR",
        "outputId": "3739c28d-c93c-4be8-a278-ca3c72927a56"
      },
      "execution_count": 9,
      "outputs": [
        {
          "output_type": "stream",
          "name": "stdout",
          "text": [
            "Sou a classe pai\n",
            "Sou a classe filha\n"
          ]
        }
      ]
    },
    {
      "cell_type": "code",
      "source": [
        "class FormaGeometrica:\n",
        "    def __init__(self, altura, largura):\n",
        "        self.altura = altura\n",
        "        self.largura = largura\n",
        "    def calcula_area(self):\n",
        "        pass\n",
        "\n",
        "\n",
        "class Quadrado(FormaGeometrica):\n",
        "    def calcula_area(self):\n",
        "        return self.altura * self.largura\n",
        "\n",
        "class Triangulo(FormaGeometrica):\n",
        "    def calcula_area(self):\n",
        "        return (self.altura * self.largura) / 2\n",
        "\n",
        "quad = Quadrado(200,200)\n",
        "tri = Triangulo(200,200)\n",
        "\n",
        "print(quad.calcula_area())\n",
        "print(tri.calcula_area())"
      ],
      "metadata": {
        "colab": {
          "base_uri": "https://localhost:8080/"
        },
        "id": "6ZIveKS-jPkT",
        "outputId": "8e45e4d1-8a58-42ee-b72e-cb73bc35451f"
      },
      "execution_count": 12,
      "outputs": [
        {
          "output_type": "stream",
          "name": "stdout",
          "text": [
            "40000\n",
            "20000.0\n"
          ]
        }
      ]
    },
    {
      "cell_type": "code",
      "source": [
        "class Veiculo:\n",
        "    def __init__(self, marcha):\n",
        "        self.marcha = marcha\n",
        "    def aumenta_marcha(self):\n",
        "        self.marcha += 1\n",
        "        self.marcha = min(self.marcha, 5)\n",
        "    def diminui_marcha(self):\n",
        "        self.marcha -= 1\n",
        "        self.marcha = max(self.marcha, 1)\n",
        "\n",
        "class Palio(Veiculo):\n",
        "    def __init__(self, marcha):\n",
        "        Veiculo.__init__(self, marcha)\n",
        "\n",
        "class EcoSport(Veiculo):\n",
        "    def __init__(self, marcha):\n",
        "        Veiculo.__init__(self, marcha)\n",
        "\n",
        "    def aumenta_marcha(self):\n",
        "        self.marcha += 1\n",
        "        self.marcha = min(self.marcha, 6)\n",
        "\n",
        "carro = Palio(8)\n",
        "carro.aumenta_marcha()\n",
        "print(carro.marcha)\n",
        "\n",
        "carro2 = EcoSport(5)\n",
        "carro2.aumenta_marcha()\n",
        "print(carro2.marcha)"
      ],
      "metadata": {
        "colab": {
          "base_uri": "https://localhost:8080/"
        },
        "id": "mupk3aZ3kc-p",
        "outputId": "4fd3dc50-af80-4c3f-8524-c5c94647c9f3"
      },
      "execution_count": 18,
      "outputs": [
        {
          "output_type": "stream",
          "name": "stdout",
          "text": [
            "5\n",
            "6\n"
          ]
        }
      ]
    },
    {
      "cell_type": "markdown",
      "source": [
        "## Herança multipla"
      ],
      "metadata": {
        "id": "Lm_cvbB7lY2q"
      }
    },
    {
      "cell_type": "code",
      "source": [
        "class Base1:\n",
        "    def __init__(self, atributo1):\n",
        "        self.atributo1 = atributo1\n",
        "    def base1_print(self):\n",
        "        print(\"Base1\")\n",
        "\n",
        "class Base2:\n",
        "    def __init__(self, atributo2):\n",
        "        self.atributo2 = atributo2\n",
        "    def base2_print(self):\n",
        "        print(\"Base2\")\n",
        "\n",
        "class Derivada(Base1, Base2):\n",
        "    def __init__(self):\n",
        "        Base1.__init__(self, 10)\n",
        "        Base2.__init__(self, 20)\n",
        "\n",
        "var = Derivada()\n",
        "\n",
        "print(var.atributo1)\n",
        "print(var.atributo2)\n",
        "\n",
        "var.base1_print()\n",
        "var.base2_print()"
      ],
      "metadata": {
        "colab": {
          "base_uri": "https://localhost:8080/"
        },
        "id": "gYKpNuPPlYiM",
        "outputId": "257195fb-49d8-4612-9d30-171333230198"
      },
      "execution_count": 25,
      "outputs": [
        {
          "output_type": "stream",
          "name": "stdout",
          "text": [
            "10\n",
            "20\n",
            "Base1\n",
            "Base2\n"
          ]
        }
      ]
    },
    {
      "cell_type": "code",
      "source": [
        "#modificadores de acesso\n",
        "#__ atributo privado = 2 sobrescritos\n",
        "class Segredo:\n",
        "    def __init__(self):\n",
        "        self.__segredo = \"Senha123\"\n",
        "\n",
        "    def __printasegrego(self):\n",
        "        print(self.__segredo)\n",
        "\n",
        "    def printasegredo(self):\n",
        "        self.__printasegrego()\n",
        "\n",
        "seg = Segredo()\n",
        "seg.printasegredo()\n",
        "#print(seg.__segredo)\n"
      ],
      "metadata": {
        "colab": {
          "base_uri": "https://localhost:8080/"
        },
        "id": "XIMoVyGAmmV-",
        "outputId": "b2c0cb10-378f-4ef0-bead-c3651df53570"
      },
      "execution_count": 29,
      "outputs": [
        {
          "output_type": "stream",
          "name": "stdout",
          "text": [
            "Senha123\n"
          ]
        }
      ]
    },
    {
      "cell_type": "code",
      "source": [
        "#funcao property para ler uma variavel protegida ou alterar um valor\n",
        "\n",
        "class Segredo:\n",
        "    def __init__(self):\n",
        "        self.__segredo = \"Senha123\"\n",
        "\n",
        "    @property\n",
        "    def segredo(self):\n",
        "        print(\"Tentando ler o segredo\")\n",
        "        return self.__segredo"
      ],
      "metadata": {
        "id": "QE8JZr4XpSGM"
      },
      "execution_count": null,
      "outputs": []
    },
    {
      "cell_type": "code",
      "source": [
        "class Pessoa:\n",
        "    def __init__(self, nome):\n",
        "        self.__nome = nome\n",
        "    def get_nome(self):\n",
        "        return self.__nome\n",
        "    def set_nome(self, nome):\n",
        "        self.__nome = nome\n",
        "\n",
        "    nome = property(get_nome, set_nome)\n",
        "\n",
        "pessoa1 = Pessoa(\"João\")\n",
        "print(pessoa1.nome)\n",
        "pessoa1.nome = \"Rodrigo\"\n",
        "print(pessoa1.nome)\n"
      ],
      "metadata": {
        "colab": {
          "base_uri": "https://localhost:8080/"
        },
        "id": "-OmkvTNipj76",
        "outputId": "14c4f21f-7cb3-4972-cc9a-92021359c897"
      },
      "execution_count": 33,
      "outputs": [
        {
          "output_type": "stream",
          "name": "stdout",
          "text": [
            "João\n",
            "Rodrigo\n"
          ]
        }
      ]
    },
    {
      "cell_type": "code",
      "source": [
        "#fset, fget, fdel\n",
        "class Pessoa:\n",
        "    def __init__(self, nome):\n",
        "        self.__nome = nome\n",
        "\n",
        "\n",
        "    def set_nome(self, nome):\n",
        "        self.__nome = nome\n",
        "\n",
        "    nome = property(fset = set_nome)\n",
        "\n",
        "pessoa1 = Pessoa(\"João\")\n",
        "\n",
        "pessoa1.nome = \"Rodrigo\"\n"
      ],
      "metadata": {
        "id": "o2WsIo0oqZ8L"
      },
      "execution_count": 35,
      "outputs": []
    },
    {
      "cell_type": "code",
      "source": [
        "class Natural:\n",
        "    def __init__(self, numero):\n",
        "        self.__numero = numero\n",
        "    @property\n",
        "    def numero(self):\n",
        "        return self.__numero\n",
        "\n",
        "    @numero.setter\n",
        "    def numero(self, numero):\n",
        "        if numero < 0:\n",
        "            self.__numero = 0\n",
        "        else:\n",
        "            self.__numero = numero\n",
        "            print(\"setando numero para \", numero)\n",
        "\n",
        "natural = Natural(10)\n",
        "print(natural.numero)\n",
        "natural.numero = 20\n",
        "print(natural.numero)\n",
        "natural.numero = -10\n",
        "print(natural.numero)"
      ],
      "metadata": {
        "colab": {
          "base_uri": "https://localhost:8080/"
        },
        "id": "2TpjjVbAqr1j",
        "outputId": "e77dbf74-210d-46be-c45b-2c581a8a9920"
      },
      "execution_count": 39,
      "outputs": [
        {
          "output_type": "stream",
          "name": "stdout",
          "text": [
            "10\n",
            "setando numero para  20\n",
            "20\n",
            "0\n"
          ]
        }
      ]
    },
    {
      "cell_type": "code",
      "source": [
        "class Pessoa:\n",
        "    def __init__(self, nome):\n",
        "        self.__nome = nome\n",
        "    @property\n",
        "    def nome(self):\n",
        "        return self.__nome.capitalize()\n",
        "    @nome.setter\n",
        "    def nome(self, nome):\n",
        "        if (len(nome) != 0):\n",
        "            self.__nome = nome\n",
        "\n",
        "pessoa = Pessoa(\"joão\")\n",
        "print(pessoa.nome)\n",
        "class Pessoa:\n",
        "    def __init__(self, nome):\n",
        "        self.__nome = nome\n",
        "    def get_nome(self):\n",
        "        return self.__nome\n",
        "    def set_nome(self, nome):\n",
        "        self.__nome = nome\n",
        "\n",
        "    nome = property(get_nome, set_nome)\n",
        "\n",
        "pessoa1 = Pessoa(\"João\")\n",
        "print(pessoa1.nome)\n",
        "pessoa1.nome = \"Rodrigo\"\n",
        "print(pessoa1.nome)\n",
        "pessoa.nome = \"\"\n",
        "print(pessoa.nome)"
      ],
      "metadata": {
        "colab": {
          "base_uri": "https://localhost:8080/"
        },
        "id": "34EaqpfkrVO8",
        "outputId": "edb9f4bd-df33-470f-bc9a-4fedb9fd42f6"
      },
      "execution_count": 41,
      "outputs": [
        {
          "output_type": "stream",
          "name": "stdout",
          "text": [
            "João\n",
            "João\n",
            "Rodrigo\n",
            "João\n"
          ]
        }
      ]
    },
    {
      "cell_type": "code",
      "source": [
        "#metodos estáticos\n",
        "\n",
        "class MinhaClasse:\n",
        "    def _init__(self, gasolina):\n",
        "        pass\n",
        "    @classmethod\n",
        "    def metodo_classe(cls):\n",
        "        print(\"Sou um metodo de classe\")\n",
        "    @staticmethod\n",
        "    def metodo_estatico():\n",
        "        print(\"Sou um metodo estatico\")\n",
        "\n",
        "MinhaClasse.metodo_classe()\n",
        "MinhaClasse.metodo_estatico()\n",
        "\n",
        "\n",
        "testando = MinhaClasse()\n",
        "testando.metodo_classe()\n",
        "testando.metodo_estatico()"
      ],
      "metadata": {
        "colab": {
          "base_uri": "https://localhost:8080/"
        },
        "id": "C9fvtXrcr1Ra",
        "outputId": "d6c74f46-66a8-4731-c254-042bd968a994"
      },
      "execution_count": 46,
      "outputs": [
        {
          "output_type": "stream",
          "name": "stdout",
          "text": [
            "Sou um metodo de classe\n",
            "Sou um metodo estatico\n",
            "Sou um metodo de classe\n",
            "Sou um metodo estatico\n"
          ]
        }
      ]
    },
    {
      "cell_type": "code",
      "source": [
        "class Veiculo:\n",
        "    __numero_veiculos = 0\n",
        "\n",
        "    def __init__(self, nome, gasolina, potencia):\n",
        "        self.nome = nome\n",
        "        self.gasolina = gasolina\n",
        "        self.potencia = potencia\n",
        "        Veiculo.__numero_veiculos += 1\n",
        "    @staticmethod\n",
        "    def get_numero_veiculos():\n",
        "        return Veiculo.__numero_veiculos\n",
        "\n",
        "veic1 = Veiculo(\"carro\", \"aditivada\", 200)\n",
        "veic2 = Veiculo(\"caminhao\", \"aditivada\", 1000)\n",
        "\n",
        "print(Veiculo.get_numero_veiculos())\n",
        "print(veic1.get_numero_veiculos())\n",
        "print(veic2.get_numero_veiculos())"
      ],
      "metadata": {
        "colab": {
          "base_uri": "https://localhost:8080/"
        },
        "id": "J2GlTLXBtPGh",
        "outputId": "ac0f49a7-bc04-472b-afc4-12f0cca71dec"
      },
      "execution_count": 50,
      "outputs": [
        {
          "output_type": "stream",
          "name": "stdout",
          "text": [
            "2\n",
            "2\n",
            "2\n"
          ]
        }
      ]
    },
    {
      "cell_type": "markdown",
      "source": [
        "Objetos mutáveis são passados por referência, enquanto objetos imutáveis são passados por valor"
      ],
      "metadata": {
        "id": "l5JXOZQIvU_m"
      }
    },
    {
      "cell_type": "code",
      "source": [
        "#objetos primários são por valor\n",
        "lista1 = 10\n",
        "lista2 = lista1\n",
        "lista2 = 20\n",
        "print(lista1)\n",
        "print(lista2)"
      ],
      "metadata": {
        "colab": {
          "base_uri": "https://localhost:8080/"
        },
        "id": "C4EkKjbHDQ42",
        "outputId": "749f2b15-1974-4ce7-e670-04738961123c"
      },
      "execution_count": 2,
      "outputs": [
        {
          "output_type": "stream",
          "name": "stdout",
          "text": [
            "10\n",
            "20\n"
          ]
        }
      ]
    },
    {
      "cell_type": "code",
      "source": [
        "#lista é por referencia\n",
        "lista1 = [1,2,3]\n",
        "lista2 = lista1\n",
        "lista2.append(4)\n",
        "print(lista1)\n",
        "print(lista2)"
      ],
      "metadata": {
        "colab": {
          "base_uri": "https://localhost:8080/"
        },
        "id": "I6xXwF2CDbDV",
        "outputId": "958e4156-2e5e-40a8-fd03-8be3a2fa36b7"
      },
      "execution_count": 3,
      "outputs": [
        {
          "output_type": "stream",
          "name": "stdout",
          "text": [
            "[1, 2, 3, 4]\n",
            "[1, 2, 3, 4]\n"
          ]
        }
      ]
    },
    {
      "cell_type": "code",
      "source": [
        "#classe é por referencia\n",
        "class Classe:\n",
        "    def __init__(self):\n",
        "        self.atributo = 10\n",
        "\n",
        "classe1 = Classe()\n",
        "classe2 = classe1\n",
        "print(classe2 is classe1)\n",
        "classe2.atributo = 20\n",
        "print(classe1.atributo)\n",
        "print(classe2.atributo)"
      ],
      "metadata": {
        "colab": {
          "base_uri": "https://localhost:8080/"
        },
        "id": "OEClKLCkDtio",
        "outputId": "c4b8d94b-2391-4f3e-9280-701e495d5bef"
      },
      "execution_count": 7,
      "outputs": [
        {
          "output_type": "stream",
          "name": "stdout",
          "text": [
            "True\n",
            "20\n",
            "20\n"
          ]
        }
      ]
    },
    {
      "cell_type": "code",
      "source": [
        "#cópia é por valor\n",
        "\n",
        "from copy import copy\n",
        "\n",
        "lista1 = [1,2,3]\n",
        "lista2 = copy(lista1)\n",
        "lista2.append(4)\n",
        "print(lista1)\n",
        "print(lista2)\n"
      ],
      "metadata": {
        "colab": {
          "base_uri": "https://localhost:8080/"
        },
        "id": "tu8uBOe_D_Yb",
        "outputId": "508784eb-f222-4319-8656-cd99e67049ed"
      },
      "execution_count": 5,
      "outputs": [
        {
          "output_type": "stream",
          "name": "stdout",
          "text": [
            "[1, 2, 3]\n",
            "[1, 2, 3, 4]\n"
          ]
        }
      ]
    },
    {
      "cell_type": "code",
      "source": [
        "#copia por valor\n",
        "\n",
        "from copy import copy\n",
        "\n"
      ],
      "metadata": {
        "id": "OhOrSRWkEKln"
      },
      "execution_count": null,
      "outputs": []
    },
    {
      "cell_type": "code",
      "source": [
        "#classe é por referencia\n",
        "class Classe:\n",
        "    def __init__(self):\n",
        "        self.atributo = 10\n",
        "\n",
        "classe1 = Classe()\n",
        "classe2 = copy(classe1)\n",
        "print(classe2 is classe1)\n",
        "\n",
        "classe2.atributo = 20\n",
        "print(classe1.atributo)\n",
        "print(classe2.atributo)"
      ],
      "metadata": {
        "colab": {
          "base_uri": "https://localhost:8080/"
        },
        "outputId": "1e6df538-dc09-4794-edfd-baf8be49853e",
        "id": "OlwzA5bDEOVk"
      },
      "execution_count": 8,
      "outputs": [
        {
          "output_type": "stream",
          "name": "stdout",
          "text": [
            "False\n",
            "10\n",
            "20\n"
          ]
        }
      ]
    },
    {
      "cell_type": "code",
      "source": [
        "class Teste:\n",
        "    def __init__(self):\n",
        "        pass\n",
        "\n",
        "var1 = Teste()\n",
        "del var1"
      ],
      "metadata": {
        "id": "SYFh5wd4FHSJ"
      },
      "execution_count": 9,
      "outputs": []
    },
    {
      "cell_type": "code",
      "source": [
        "class Teste:\n",
        "    def __init__(self):\n",
        "        self.lista = [1,2,3]\n",
        "        print(\"Objeto criado\")\n",
        "    def __del__(self):\n",
        "        print(\"Objeto destruido\")\n",
        "\n",
        "var1 = Teste()\n",
        "del var1"
      ],
      "metadata": {
        "colab": {
          "base_uri": "https://localhost:8080/"
        },
        "id": "JW_DyiU7FkOw",
        "outputId": "01c2c182-9864-4ba0-f86d-5a99a7279038"
      },
      "execution_count": 11,
      "outputs": [
        {
          "output_type": "stream",
          "name": "stdout",
          "text": [
            "Objeto criado\n",
            "Objeto destruido\n"
          ]
        }
      ]
    },
    {
      "cell_type": "code",
      "source": [
        "class Teste:\n",
        "    def __init__(self, nome):\n",
        "        self.__nome = nome\n",
        "        print(\"Objeto criado\")\n",
        "\n",
        "    def get_nome(self):\n",
        "        print(\"Pegando o nome\")\n",
        "        return self.__nome\n",
        "\n",
        "    def set_nome(self, nome):\n",
        "        print(\"Setando o nome\")\n",
        "        self.__nome = nome\n",
        "\n",
        "    def del_nome(self):\n",
        "        print(\"Deletando o nome\")\n",
        "        del self.__nome\n",
        "\n",
        "    nome = property(get_nome, set_nome, del_nome)\n",
        "\n",
        "var1 = Teste(\"João\")\n",
        "print(var1.nome)\n",
        "var1.nome = \"Rodrigo\"\n",
        "del var1.nome"
      ],
      "metadata": {
        "colab": {
          "base_uri": "https://localhost:8080/"
        },
        "id": "y6ddg9foGNfC",
        "outputId": "b0c26437-335f-4881-e07c-960400fc5ceb"
      },
      "execution_count": 13,
      "outputs": [
        {
          "output_type": "stream",
          "name": "stdout",
          "text": [
            "Objeto criado\n",
            "Pegando o nome\n",
            "João\n",
            "Setando o nome\n",
            "Deletando o nome\n"
          ]
        }
      ]
    },
    {
      "cell_type": "code",
      "source": [
        "class Teste:\n",
        "    def __init__(self, nome):\n",
        "        self.__nome = nome\n",
        "        print(\"Objeto criado\")\n",
        "\n",
        "    @property\n",
        "    def nome(self):\n",
        "        print(\"Pegando o nome\")\n",
        "        return self\n",
        "\n",
        "    @nome.deleter\n",
        "    def nome(self):\n",
        "        print(\"Deletando o nome\")\n",
        "        del self.__nome\n",
        "\n",
        "var1 = Teste(\"João\")\n",
        "del var1.nome"
      ],
      "metadata": {
        "colab": {
          "base_uri": "https://localhost:8080/"
        },
        "id": "iEs7mqu0G_Z8",
        "outputId": "2cd14393-6e01-447c-8e94-8f25d35b47f9"
      },
      "execution_count": 15,
      "outputs": [
        {
          "output_type": "stream",
          "name": "stdout",
          "text": [
            "Objeto criado\n",
            "Deletando o nome\n"
          ]
        }
      ]
    },
    {
      "cell_type": "code",
      "source": [
        "e_inteiro = isinstance(10, int)\n",
        "print(e_inteiro)\n",
        "\n",
        "e_inteiro2 = isinstance(10, (str,float, int))\n",
        "print(e_inteiro2)"
      ],
      "metadata": {
        "colab": {
          "base_uri": "https://localhost:8080/"
        },
        "id": "WL4MK63nH4Yk",
        "outputId": "76fea9ff-d4a4-4b24-a416-2e8089ffe082"
      },
      "execution_count": 18,
      "outputs": [
        {
          "output_type": "stream",
          "name": "stdout",
          "text": [
            "True\n",
            "True\n"
          ]
        }
      ]
    },
    {
      "cell_type": "code",
      "source": [
        "class Base:\n",
        "    def __init__(self):\n",
        "        pass\n",
        "\n",
        "var = Base()\n",
        "e_base = isinstance(var, Base)\n",
        "print(e_base)"
      ],
      "metadata": {
        "colab": {
          "base_uri": "https://localhost:8080/"
        },
        "id": "2CQgv1jcINeB",
        "outputId": "0bdba0de-cd84-4253-a83d-2fec446139ca"
      },
      "execution_count": 19,
      "outputs": [
        {
          "output_type": "stream",
          "name": "stdout",
          "text": [
            "True\n"
          ]
        }
      ]
    },
    {
      "cell_type": "code",
      "source": [
        "class Lista():\n",
        "    def __init__(self):\n",
        "        pass\n",
        "\n",
        "    def __enter__(self):\n",
        "        print(\"Memoria iniciada\")\n",
        "        self.lista = [i for i in range(0,10)]\n",
        "        return self.lista\n",
        "\n",
        "    def __exit__(self, *args, **kwargs):\n",
        "        print(\"Memoria finalizada\")\n",
        "        del self.lista\n",
        "\n",
        "with Lista() as temp_lista:\n",
        "    for i in temp_lista:\n",
        "        print(i)\n",
        "\n",
        "print(\"Aqui o objeto não existe mais\")"
      ],
      "metadata": {
        "colab": {
          "base_uri": "https://localhost:8080/"
        },
        "id": "Zxqim5LGNuO7",
        "outputId": "3800e428-948f-4fc0-89ed-de24b35f0ec6"
      },
      "execution_count": 20,
      "outputs": [
        {
          "output_type": "stream",
          "name": "stdout",
          "text": [
            "Memoria iniciada\n",
            "0\n",
            "1\n",
            "2\n",
            "3\n",
            "4\n",
            "5\n",
            "6\n",
            "7\n",
            "8\n",
            "9\n",
            "Memoria finalizada\n",
            "Aqui o objeto não existe mais\n"
          ]
        }
      ]
    },
    {
      "cell_type": "code",
      "source": [
        "#sobrecarga\n",
        "\n",
        "class Numero():\n",
        "    def __init__(self, numero):\n",
        "        self.numero = numero\n",
        "\n",
        "    def __add__(self, outro):\n",
        "        return self.numero + outro.numero\n",
        "\n",
        "num1 = Numero(10)\n",
        "num2 = Numero(15)\n",
        "\n",
        "print(num1+num2)"
      ],
      "metadata": {
        "colab": {
          "base_uri": "https://localhost:8080/"
        },
        "id": "dY5FcWo0Ozyp",
        "outputId": "6bcc5f64-c9d4-409f-c48a-b52bfb3d24d8"
      },
      "execution_count": 21,
      "outputs": [
        {
          "output_type": "stream",
          "name": "stdout",
          "text": [
            "25\n"
          ]
        }
      ]
    },
    {
      "cell_type": "code",
      "source": [
        "class Numero():\n",
        "    def __init__(self, numero):\n",
        "        self.numero = numero\n",
        "\n",
        "    def __add__(self, outro):\n",
        "        soma = self.numero + outro.numero\n",
        "        return Numero(soma)\n",
        "\n",
        "num1 = Numero(10)\n",
        "num2 = Numero(15)\n",
        "num3 = num1 + num2\n",
        "print(num3.numero)"
      ],
      "metadata": {
        "colab": {
          "base_uri": "https://localhost:8080/"
        },
        "id": "XNMgrhSsPa1w",
        "outputId": "0216141e-293a-4cfc-c46a-c88bd66c5311"
      },
      "execution_count": 23,
      "outputs": [
        {
          "output_type": "stream",
          "name": "stdout",
          "text": [
            "25\n"
          ]
        }
      ]
    },
    {
      "cell_type": "code",
      "source": [
        "class Numero():\n",
        "    def __init__(self, numero):\n",
        "        self.numero = numero\n",
        "\n",
        "    def __sub__(self, outro):\n",
        "        return self.numero - outro.numero\n",
        "\n",
        "num1 = Numero(85)\n",
        "num2 = Numero(15)\n",
        "\n",
        "print(num1 - num2)"
      ],
      "metadata": {
        "colab": {
          "base_uri": "https://localhost:8080/"
        },
        "id": "WMcQ7BCzPrm0",
        "outputId": "cdd3b5f7-5989-42a7-e8de-9fc5abe65f01"
      },
      "execution_count": 25,
      "outputs": [
        {
          "output_type": "stream",
          "name": "stdout",
          "text": [
            "70\n"
          ]
        }
      ]
    }
  ]
}