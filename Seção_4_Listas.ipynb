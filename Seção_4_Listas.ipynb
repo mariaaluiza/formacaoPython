{
  "nbformat": 4,
  "nbformat_minor": 0,
  "metadata": {
    "colab": {
      "provenance": [],
      "authorship_tag": "ABX9TyO0id/K9z7DjdAkQHUo/DqX",
      "include_colab_link": true
    },
    "kernelspec": {
      "name": "python3",
      "display_name": "Python 3"
    },
    "language_info": {
      "name": "python"
    }
  },
  "cells": [
    {
      "cell_type": "markdown",
      "metadata": {
        "id": "view-in-github",
        "colab_type": "text"
      },
      "source": [
        "<a href=\"https://colab.research.google.com/github/mariaaluiza/formacaoPython/blob/main/Se%C3%A7%C3%A3o_4_Listas.ipynb\" target=\"_parent\"><img src=\"https://colab.research.google.com/assets/colab-badge.svg\" alt=\"Open In Colab\"/></a>"
      ]
    },
    {
      "cell_type": "markdown",
      "source": [
        "## Listas"
      ],
      "metadata": {
        "id": "7zOodQfQYJow"
      }
    },
    {
      "cell_type": "code",
      "execution_count": null,
      "metadata": {
        "colab": {
          "base_uri": "https://localhost:8080/"
        },
        "id": "O4biggPLYHRo",
        "outputId": "e384c268-d251-4efc-95d0-9b3512f4e710"
      },
      "outputs": [
        {
          "output_type": "stream",
          "name": "stdout",
          "text": [
            "[1, 2, 3, 4, 5, 6, 7, 8, 9]\n",
            "<class 'list'>\n",
            "[34.7, 87.5, 77.7]\n",
            "['A', 'B', 'C']\n",
            "[2, 2.3, 'ABC']\n"
          ]
        }
      ],
      "source": [
        "#objeto do tipo lista vazio\n",
        "array = []\n",
        "array = list()\n",
        "\n",
        "array_numeros = [1,2,3,4,5,6,7,8,9]\n",
        "print(array_numeros)\n",
        "print(type(array_numeros))\n",
        "\n",
        "arrat_floats = [34.7, 87.5, 77.7]\n",
        "array_string = [\"A\", \"B\", \"C\"]\n",
        "array_misto = [2, 2.3, \"ABC\"]\n",
        "print(arrat_floats)\n",
        "print(array_string)\n",
        "print(array_misto)\n"
      ]
    },
    {
      "cell_type": "code",
      "source": [
        "array = list([1,2,3,4])\n",
        "print(array)\n",
        "primeiro_elemento = array[0]\n",
        "print(primeiro_elemento)\n",
        "array[0] = 5\n",
        "print(array)\n",
        "print(array[-1])"
      ],
      "metadata": {
        "colab": {
          "base_uri": "https://localhost:8080/"
        },
        "id": "TOwFECpcZgE-",
        "outputId": "8b26a6f5-d455-4352-f218-28354e6e4d95"
      },
      "execution_count": null,
      "outputs": [
        {
          "output_type": "stream",
          "name": "stdout",
          "text": [
            "[1, 2, 3, 4]\n",
            "1\n",
            "[5, 2, 3, 4]\n",
            "4\n"
          ]
        }
      ]
    },
    {
      "cell_type": "code",
      "source": [
        "array = [1, \"txt\", 3]\n",
        "print(array[1:3])"
      ],
      "metadata": {
        "colab": {
          "base_uri": "https://localhost:8080/"
        },
        "id": "xuQLb1NSZ6GU",
        "outputId": "25c25d42-adfa-4938-968c-d4c781e5ab69"
      },
      "execution_count": null,
      "outputs": [
        {
          "output_type": "stream",
          "name": "stdout",
          "text": [
            "['txt', 3]\n"
          ]
        }
      ]
    },
    {
      "cell_type": "code",
      "source": [
        "array = [10, 2, 3]\n",
        "print(array)\n",
        "array.append(7)\n",
        "print(array)\n",
        "array.insert(2, \"4\")\n",
        "print(array)\n",
        "\n",
        "x = 0\n",
        "for x in array:\n",
        "    print(x)"
      ],
      "metadata": {
        "colab": {
          "base_uri": "https://localhost:8080/"
        },
        "id": "vvM_N3c0aKgz",
        "outputId": "fc5251ea-ea5d-418d-8471-3dac3a7d9564"
      },
      "execution_count": null,
      "outputs": [
        {
          "output_type": "stream",
          "name": "stdout",
          "text": [
            "[10, 2, 3]\n",
            "[10, 2, 3, 7]\n",
            "[10, 2, '4', 3, 7]\n",
            "10\n",
            "2\n",
            "4\n",
            "3\n",
            "7\n"
          ]
        }
      ]
    },
    {
      "cell_type": "code",
      "source": [
        "array = [10, 2, 3]\n",
        "print(array)\n",
        "\n",
        "#remove o valor se encontrar\n",
        "array.remove(10)\n",
        "print(array)\n",
        "\n",
        "#remover pelo índice\n",
        "array.pop(1)\n",
        "print(array)"
      ],
      "metadata": {
        "colab": {
          "base_uri": "https://localhost:8080/"
        },
        "id": "QKdXRLCia7IF",
        "outputId": "5865de8c-ea2c-4e17-b652-99bc9d86c5f5"
      },
      "execution_count": null,
      "outputs": [
        {
          "output_type": "stream",
          "name": "stdout",
          "text": [
            "[10, 2, 3]\n",
            "[2, 3]\n",
            "[2]\n"
          ]
        }
      ]
    },
    {
      "cell_type": "code",
      "source": [
        "#tamanho do array\n",
        "print(len(array))"
      ],
      "metadata": {
        "colab": {
          "base_uri": "https://localhost:8080/"
        },
        "id": "_E8pldS1bXkt",
        "outputId": "a6ec3e30-920c-4b0c-9538-37f784bf2a0c"
      },
      "execution_count": null,
      "outputs": [
        {
          "output_type": "stream",
          "name": "stdout",
          "text": [
            "1\n"
          ]
        }
      ]
    },
    {
      "cell_type": "code",
      "source": [
        "#limpar os elementos do array\n",
        "array.clear()\n",
        "print(array)\n"
      ],
      "metadata": {
        "colab": {
          "base_uri": "https://localhost:8080/"
        },
        "id": "zxspuNXhbdqy",
        "outputId": "0d0a2eb7-511a-4cfa-ccdf-826488579197"
      },
      "execution_count": null,
      "outputs": [
        {
          "output_type": "stream",
          "name": "stdout",
          "text": [
            "[]\n"
          ]
        }
      ]
    },
    {
      "cell_type": "code",
      "source": [
        "array = [1, 'tes', True]\n",
        "\n",
        "print(1 in array)\n",
        "print(False not in array)"
      ],
      "metadata": {
        "colab": {
          "base_uri": "https://localhost:8080/"
        },
        "id": "NcNL5DI2bjDE",
        "outputId": "1b702f23-ee78-488f-df3d-119beae6bc87"
      },
      "execution_count": null,
      "outputs": [
        {
          "output_type": "stream",
          "name": "stdout",
          "text": [
            "True\n",
            "True\n"
          ]
        }
      ]
    },
    {
      "cell_type": "code",
      "source": [
        "#se o objeto está na lista\n",
        "lista = [5,6,7,2,3,4,7]\n",
        "teste = lista.count(7)\n",
        "print(teste)"
      ],
      "metadata": {
        "colab": {
          "base_uri": "https://localhost:8080/"
        },
        "id": "9WdF73XEbt96",
        "outputId": "95d63468-e25d-458f-8ecc-5143825e5db3"
      },
      "execution_count": null,
      "outputs": [
        {
          "output_type": "stream",
          "name": "stdout",
          "text": [
            "2\n"
          ]
        }
      ]
    },
    {
      "cell_type": "code",
      "source": [
        "#saber o indice do objeto na lista\n",
        "lista = [5,6,7,2,3,4,7]\n",
        "pos = lista.index(7)\n",
        "print(pos)"
      ],
      "metadata": {
        "colab": {
          "base_uri": "https://localhost:8080/"
        },
        "id": "hyY60Yscb9nL",
        "outputId": "f283acfc-5f8a-4cfc-c5ab-b668aac726f8"
      },
      "execution_count": null,
      "outputs": [
        {
          "output_type": "stream",
          "name": "stdout",
          "text": [
            "2\n"
          ]
        }
      ]
    },
    {
      "cell_type": "code",
      "source": [
        "#concatenar\n",
        "array1 = [1,2,3]\n",
        "array2 = [3,4,5]\n",
        "soma = array1 + array2\n",
        "print(soma)\n",
        "\n",
        "multiplica = array1 * 3\n",
        "print(multiplica)\n"
      ],
      "metadata": {
        "colab": {
          "base_uri": "https://localhost:8080/"
        },
        "id": "F-XzoJ9ZcLUj",
        "outputId": "101a551f-73d7-4018-8187-1c226bb6ab66"
      },
      "execution_count": null,
      "outputs": [
        {
          "output_type": "stream",
          "name": "stdout",
          "text": [
            "[1, 2, 3, 3, 4, 5]\n",
            "[1, 2, 3, 1, 2, 3, 1, 2, 3]\n"
          ]
        }
      ]
    },
    {
      "cell_type": "code",
      "source": [
        "\n",
        "#desempacotar o array\n",
        "numeros = [\"um\", \"dois\", \"tres\"]\n",
        "x, y, z = numeros\n",
        "print(x)\n",
        "print(y)\n",
        "print(z)\n",
        "\n",
        "x, y, _ = numeros\n",
        "print(x)\n",
        "print(y)"
      ],
      "metadata": {
        "colab": {
          "base_uri": "https://localhost:8080/"
        },
        "id": "3baSqVMEcvgC",
        "outputId": "5c01dcf8-1fdc-4bf3-be6f-68f9d2322355"
      },
      "execution_count": null,
      "outputs": [
        {
          "output_type": "stream",
          "name": "stdout",
          "text": [
            "um\n",
            "dois\n",
            "tres\n",
            "um\n",
            "dois\n"
          ]
        }
      ]
    },
    {
      "cell_type": "code",
      "source": [
        "cores = [\"azul\", \"preto\", \"amarelo\"]\n",
        "for x in cores:\n",
        "    print(x)"
      ],
      "metadata": {
        "colab": {
          "base_uri": "https://localhost:8080/"
        },
        "id": "pvhXrWJQc9UR",
        "outputId": "57ca8c99-1009-4364-f3b9-6d45ce46803d"
      },
      "execution_count": null,
      "outputs": [
        {
          "output_type": "stream",
          "name": "stdout",
          "text": [
            "azul\n",
            "preto\n",
            "amarelo\n"
          ]
        }
      ]
    },
    {
      "cell_type": "code",
      "source": [
        "cores = [\"azul\", \"preto\", \"amarelo\"]\n",
        "for i in range(0, len(cores)):\n",
        "    print(cores[i])"
      ],
      "metadata": {
        "colab": {
          "base_uri": "https://localhost:8080/"
        },
        "id": "OpqDvReedL4a",
        "outputId": "33751597-026b-4a55-ecef-dfeb072a7abc"
      },
      "execution_count": null,
      "outputs": [
        {
          "output_type": "stream",
          "name": "stdout",
          "text": [
            "azul\n",
            "preto\n",
            "amarelo\n"
          ]
        }
      ]
    },
    {
      "cell_type": "code",
      "source": [
        "cores = [\"azul\", \"preto\", \"amarelo\"]\n",
        "indice = 0\n",
        "while (indice < len(cores)):\n",
        "    print(cores[indice])\n",
        "    indice += 1"
      ],
      "metadata": {
        "colab": {
          "base_uri": "https://localhost:8080/"
        },
        "id": "V2BJOz25diLI",
        "outputId": "848456ed-3166-4590-c030-2893f3549dc5"
      },
      "execution_count": null,
      "outputs": [
        {
          "output_type": "stream",
          "name": "stdout",
          "text": [
            "azul\n",
            "preto\n",
            "amarelo\n"
          ]
        }
      ]
    },
    {
      "cell_type": "code",
      "source": [
        "lista = [[1,2,3],[4,5,6]]\n",
        "\n",
        "print(lista[0])\n",
        "print(lista[1])\n",
        "\n",
        "print(lista[0][0])\n",
        "print(lista[1][2])"
      ],
      "metadata": {
        "colab": {
          "base_uri": "https://localhost:8080/"
        },
        "id": "i2NFRQcGdwgX",
        "outputId": "959a1167-5a96-453c-c19e-567abc631adf"
      },
      "execution_count": null,
      "outputs": [
        {
          "output_type": "stream",
          "name": "stdout",
          "text": [
            "[1, 2, 3]\n",
            "[4, 5, 6]\n",
            "1\n",
            "6\n"
          ]
        }
      ]
    },
    {
      "cell_type": "markdown",
      "source": [
        "## Set"
      ],
      "metadata": {
        "id": "S5svC7pOetWc"
      }
    },
    {
      "cell_type": "code",
      "source": [
        "lista_set1 = {}\n",
        "lista_set2 = {1,2,3}\n",
        "lista_set3 = set({1,2,3})\n",
        "print(lista_set1)\n",
        "print(lista_set2)\n",
        "print(lista_set3)"
      ],
      "metadata": {
        "colab": {
          "base_uri": "https://localhost:8080/"
        },
        "id": "lobx_sh1evyE",
        "outputId": "78965583-c2e4-46d7-f2b1-c4f3fc11abde"
      },
      "execution_count": null,
      "outputs": [
        {
          "output_type": "stream",
          "name": "stdout",
          "text": [
            "{}\n",
            "{1, 2, 3}\n",
            "{1, 2, 3}\n"
          ]
        }
      ]
    },
    {
      "cell_type": "code",
      "source": [
        "#não pode modificar valor e não acessa pelo indice e não permite duplicidade\n",
        "lista_set2 = {1,2,3}\n",
        "lista_set2[0]\n",
        "lista_set2[0] = 2\n",
        "lista_set3 = {1,2,3, 2,3}\n"
      ],
      "metadata": {
        "id": "t48tu_Sie8Vx"
      },
      "execution_count": null,
      "outputs": []
    },
    {
      "cell_type": "code",
      "source": [
        "lista_set2 = {1,2,3}\n",
        "\n",
        "#adiciona um item novo\n",
        "lista_set2.add(4)\n",
        "print(lista_set2)\n",
        "\n",
        "#remove pelo valor\n",
        "lista_set2.remove(2)\n",
        "print(lista_set2)\n",
        "\n",
        "lista_set3 = {1,2,3}\n",
        "lista_set3.clear()\n",
        "print(lista_set3)\n",
        "\n",
        "lista_set4 = {1,2,3,4,5,5,5,5,5,5,5,5}\n",
        "print(len(lista_set4))\n",
        "\n",
        "\n",
        "print(1 in lista_set4)\n",
        "print(2 not in lista_set4)"
      ],
      "metadata": {
        "colab": {
          "base_uri": "https://localhost:8080/"
        },
        "id": "s2dFo6kqfM-S",
        "outputId": "c5320597-7795-48c3-8de1-2171cda8639a"
      },
      "execution_count": null,
      "outputs": [
        {
          "output_type": "stream",
          "name": "stdout",
          "text": [
            "{1, 2, 3, 4}\n",
            "{1, 3, 4}\n",
            "set()\n",
            "5\n",
            "True\n",
            "False\n"
          ]
        }
      ]
    },
    {
      "cell_type": "code",
      "source": [
        "lista_set3 = {1,\"abc\",False}\n",
        "\n",
        "for x in lista_set3:\n",
        "    print(x)"
      ],
      "metadata": {
        "colab": {
          "base_uri": "https://localhost:8080/"
        },
        "id": "GXn-fP5IgBGx",
        "outputId": "5465c1a1-f656-42a8-e8f9-49bdb4c32336"
      },
      "execution_count": null,
      "outputs": [
        {
          "output_type": "stream",
          "name": "stdout",
          "text": [
            "False\n",
            "1\n",
            "abc\n"
          ]
        }
      ]
    },
    {
      "cell_type": "code",
      "source": [
        "set1 = {1,2,3}\n",
        "set2 = {1,2,3,4}\n",
        "\n",
        "set = set1.union(set2)\n",
        "print(set)\n",
        "\n",
        "set_intersec = set1.intersection(set2)\n",
        "print(set_intersec)\n",
        "\n",
        "set_diferenca = set2.difference(set1)\n",
        "print(set_diferenca)"
      ],
      "metadata": {
        "colab": {
          "base_uri": "https://localhost:8080/"
        },
        "id": "6rVHWSFfgjfX",
        "outputId": "c14a8657-1066-45af-f54d-0592ce93ef3f"
      },
      "execution_count": null,
      "outputs": [
        {
          "output_type": "stream",
          "name": "stdout",
          "text": [
            "{1, 2, 3, 4}\n",
            "{1, 2, 3}\n",
            "{4}\n"
          ]
        }
      ]
    },
    {
      "cell_type": "markdown",
      "source": [
        "## Tuplas\n",
        "### é imutável"
      ],
      "metadata": {
        "id": "FpEApusdqyOk"
      }
    },
    {
      "cell_type": "code",
      "source": [
        "doces = tuple((\"chocolate\", \"bombom\", \"paçoca\"))\n",
        "outra = (\"chocolate\", \"bombom\", \"paçoca\")\n",
        "print(doces)\n",
        "print(outra)\n",
        "print(type(doces))\n",
        "print(type(outra))"
      ],
      "metadata": {
        "colab": {
          "base_uri": "https://localhost:8080/"
        },
        "id": "n-V-jOgCHeeB",
        "outputId": "90e3060a-ceb4-4edc-937f-31c2eb7317bf"
      },
      "execution_count": 4,
      "outputs": [
        {
          "output_type": "stream",
          "name": "stdout",
          "text": [
            "('chocolate', 'bombom', 'paçoca')\n",
            "('chocolate', 'bombom', 'paçoca')\n",
            "<class 'tuple'>\n",
            "<class 'tuple'>\n"
          ]
        }
      ]
    },
    {
      "cell_type": "code",
      "source": [
        "nums = ('1', '2', '3')\n",
        "print(nums)\n",
        "print(nums[1])\n",
        "print(len(nums))"
      ],
      "metadata": {
        "colab": {
          "base_uri": "https://localhost:8080/"
        },
        "id": "aOQkZWwmHxT2",
        "outputId": "45d54b78-f01d-44e8-cb74-d7cb2f830043"
      },
      "execution_count": 7,
      "outputs": [
        {
          "output_type": "stream",
          "name": "stdout",
          "text": [
            "('1', '2', '3')\n",
            "2\n",
            "3\n"
          ]
        }
      ]
    },
    {
      "cell_type": "code",
      "source": [
        "nums = (1,2,3,4,5,6)\n",
        "print(4 in nums)"
      ],
      "metadata": {
        "colab": {
          "base_uri": "https://localhost:8080/"
        },
        "id": "ZxUZECWIIE7M",
        "outputId": "44fd3f37-a41b-4998-c38e-37425b532151"
      },
      "execution_count": 8,
      "outputs": [
        {
          "output_type": "stream",
          "name": "stdout",
          "text": [
            "True\n"
          ]
        }
      ]
    },
    {
      "cell_type": "code",
      "source": [
        "nums = (1,2,3,4,5,6,4,5,6,7,8)\n",
        "print(nums.count(4))\n"
      ],
      "metadata": {
        "colab": {
          "base_uri": "https://localhost:8080/"
        },
        "id": "D9VtPBudIZ_M",
        "outputId": "e381c995-ecb2-424a-dde0-297d230d2902"
      },
      "execution_count": 9,
      "outputs": [
        {
          "output_type": "stream",
          "name": "stdout",
          "text": [
            "2\n"
          ]
        }
      ]
    },
    {
      "cell_type": "code",
      "source": [
        "tupla = (5, '3', 5465)\n",
        "pos = tupla.index(5465)\n",
        "print(pos)\n",
        "\n",
        "for i in range(0, len(tupla)):\n",
        "    print(tupla[i])\n",
        "\n",
        "indice = 0\n",
        "while (indice < len(tupla)):\n",
        "    print(tupla[indice])\n",
        "    indice += 1"
      ],
      "metadata": {
        "colab": {
          "base_uri": "https://localhost:8080/"
        },
        "id": "R6w9_RDbIgyy",
        "outputId": "316503a6-249f-4685-e866-f58b0ec4be74"
      },
      "execution_count": 13,
      "outputs": [
        {
          "output_type": "stream",
          "name": "stdout",
          "text": [
            "2\n",
            "5\n",
            "3\n",
            "5465\n",
            "5\n",
            "3\n",
            "5465\n"
          ]
        }
      ]
    },
    {
      "cell_type": "code",
      "source": [
        "numeros_set = (1,2,3)\n",
        "numeros_lista = list(numeros_set)\n",
        "numeros_lista.append(4)\n",
        "numeros_lista[0] = \"Fim\"\n",
        "numeros_set = tuple(numeros_lista)\n",
        "print(numeros_lista)"
      ],
      "metadata": {
        "colab": {
          "base_uri": "https://localhost:8080/"
        },
        "id": "v9INUqtzKm9t",
        "outputId": "4ec22e6e-5282-4320-db7f-2e14457f9fae"
      },
      "execution_count": 14,
      "outputs": [
        {
          "output_type": "stream",
          "name": "stdout",
          "text": [
            "['Fim', 2, 3, 4]\n"
          ]
        }
      ]
    },
    {
      "cell_type": "markdown",
      "source": [
        "## Dictionary\n",
        "\n",
        "O indice é definido junto com o valor"
      ],
      "metadata": {
        "id": "fpO9BTQ8RM7Q"
      }
    },
    {
      "cell_type": "code",
      "source": [
        "idades = {'ana': 10, 'maria': 20, 'joão': 34, 'fernando':'indefinido'}\n",
        "print(idades)\n",
        "print(type(idades))\n",
        "\n",
        "print(idades['maria'])\n",
        "\n",
        "print(idades.get('fernando'))"
      ],
      "metadata": {
        "colab": {
          "base_uri": "https://localhost:8080/"
        },
        "id": "rDFHVhmGRT2M",
        "outputId": "e6d4e840-e03b-433f-e3e0-96a3d7f9be4e"
      },
      "execution_count": 22,
      "outputs": [
        {
          "output_type": "stream",
          "name": "stdout",
          "text": [
            "{'ana': 10, 'maria': 20, 'joão': 34, 'fernando': 'indefinido'}\n",
            "<class 'dict'>\n",
            "20\n",
            "indefinido\n"
          ]
        }
      ]
    },
    {
      "cell_type": "code",
      "source": [
        "nome_numeros = { 7.1: \"sete virgula um\", 9.8: \"nove virgula oito\"}\n",
        "print(nome_numeros)"
      ],
      "metadata": {
        "colab": {
          "base_uri": "https://localhost:8080/"
        },
        "id": "TjhiVtupR4QF",
        "outputId": "743df13a-2af0-4f21-d7bf-c70413cbee4e"
      },
      "execution_count": 19,
      "outputs": [
        {
          "output_type": "stream",
          "name": "stdout",
          "text": [
            "{7.1: 'sete virgula um', 9.8: 'nove virgula oito'}\n"
          ]
        }
      ]
    },
    {
      "cell_type": "code",
      "source": [
        "idades = {'ana': 10, 'maria': 20, 'joão': 34, 'fernando':'indefinido'}\n",
        "idades['maria'] = 30\n",
        "idades.update({'fernando': 20})\n",
        "print(idades)"
      ],
      "metadata": {
        "colab": {
          "base_uri": "https://localhost:8080/"
        },
        "id": "0xNQgAB8Th_K",
        "outputId": "9fc52603-0209-4e1b-f01b-1da314d37907"
      },
      "execution_count": 1,
      "outputs": [
        {
          "output_type": "stream",
          "name": "stdout",
          "text": [
            "{'ana': 10, 'maria': 30, 'joão': 34, 'fernando': 20}\n"
          ]
        }
      ]
    },
    {
      "cell_type": "code",
      "source": [
        "idades = {'ana': 10, 'maria': 20, 'joão': 34, 'fernando':'indefinido'}\n",
        "idades['marcos'] = 45\n",
        "print(idades)\n",
        "idades.pop('ana')\n",
        "print(idades)\n",
        "#popitem deleta o último\n",
        "idades.popitem()\n",
        "print(idades)"
      ],
      "metadata": {
        "colab": {
          "base_uri": "https://localhost:8080/"
        },
        "id": "txUph0JOxPeP",
        "outputId": "899d5495-633a-4e99-9f53-90b1be6abab0"
      },
      "execution_count": 3,
      "outputs": [
        {
          "output_type": "stream",
          "name": "stdout",
          "text": [
            "{'ana': 10, 'maria': 20, 'joão': 34, 'fernando': 'indefinido', 'marcos': 45}\n",
            "{'maria': 20, 'joão': 34, 'fernando': 'indefinido', 'marcos': 45}\n",
            "{'maria': 20, 'joão': 34, 'fernando': 'indefinido'}\n"
          ]
        }
      ]
    },
    {
      "cell_type": "code",
      "source": [
        "idades = {'ana': 10, 'maria': 20, 'joão': 34, 'fernando':'indefinido'}\n",
        "lista = idades.items()\n",
        "print(lista, end='\\n\\n')\n",
        "for item in lista:\n",
        "    print(item[0], item[1])"
      ],
      "metadata": {
        "colab": {
          "base_uri": "https://localhost:8080/"
        },
        "id": "HD3WbFdwxlx3",
        "outputId": "410006dc-b705-4389-d3a9-08222e783866"
      },
      "execution_count": 6,
      "outputs": [
        {
          "output_type": "stream",
          "name": "stdout",
          "text": [
            "dict_items([('ana', 10), ('maria', 20), ('joão', 34), ('fernando', 'indefinido')])\n",
            "\n",
            "ana 10\n",
            "maria 20\n",
            "joão 34\n",
            "fernando indefinido\n"
          ]
        }
      ]
    },
    {
      "cell_type": "code",
      "source": [
        "idades = {'ana': 10, 'maria': 20, 'joão': 34, 'fernando':'indefinido'}\n",
        "chaves = idades.keys()\n",
        "valores = idades.values()\n",
        "for item in chaves:\n",
        "    print(item)\n",
        "print('-----')\n",
        "for item in valores:\n",
        "    print(item)"
      ],
      "metadata": {
        "colab": {
          "base_uri": "https://localhost:8080/"
        },
        "id": "uVdbPYSCyE90",
        "outputId": "7311915a-424a-4da8-ced5-ab54ec6858d8"
      },
      "execution_count": 8,
      "outputs": [
        {
          "output_type": "stream",
          "name": "stdout",
          "text": [
            "ana\n",
            "maria\n",
            "joão\n",
            "fernando\n",
            "-----\n",
            "10\n",
            "20\n",
            "34\n",
            "indefinido\n"
          ]
        }
      ]
    },
    {
      "cell_type": "code",
      "source": [
        "idades = {'ana': 10, 'maria': 20, 'joão': 34, 'fernando':20}\n",
        "lista_nome = list(idades.values())\n",
        "pessoas20 = lista_nome.count(20)\n",
        "print(pessoas20)\n"
      ],
      "metadata": {
        "colab": {
          "base_uri": "https://localhost:8080/"
        },
        "id": "qyzlWiHEfPSs",
        "outputId": "414fbd7d-180a-4813-865a-b9058d68d1bc"
      },
      "execution_count": 1,
      "outputs": [
        {
          "output_type": "stream",
          "name": "stdout",
          "text": [
            "2\n"
          ]
        }
      ]
    },
    {
      "cell_type": "code",
      "source": [
        "idades = {'ana': 10, 'maria': 20, 'joão': 34, 'fernando':20}\n",
        "\n",
        "idades.clear()\n",
        "print(idades)"
      ],
      "metadata": {
        "colab": {
          "base_uri": "https://localhost:8080/"
        },
        "id": "cxgIaUOFfbtH",
        "outputId": "d118311d-5a7c-40ba-8438-09b059052da4"
      },
      "execution_count": 2,
      "outputs": [
        {
          "output_type": "stream",
          "name": "stdout",
          "text": [
            "{}\n"
          ]
        }
      ]
    },
    {
      "cell_type": "code",
      "source": [
        "dados_maria = {\n",
        "    'sexo': 'F',\n",
        "    'cpf': 321654987545,\n",
        "    'rg': 12123456\n",
        "}\n",
        "dados_joao = {\n",
        "    'sexo': 'M',\n",
        "    'cpf': 898798654,\n",
        "    'rg': 23456\n",
        "}\n",
        "dados_ana = {\n",
        "    'sexo': 'F',\n",
        "    'cpf': 87555541555,\n",
        "    'rg': 3456\n",
        "}\n",
        "\n",
        "dados_por_nome ={\n",
        "    'Maria': dados_maria,\n",
        "    'João': dados_joao,\n",
        "    'Ana': dados_ana\n",
        "}\n",
        "\n",
        "print(dados_por_nome)\n",
        "print(dados_por_nome['Maria'])\n",
        "print(dados_por_nome['Maria']['cpf'])"
      ],
      "metadata": {
        "colab": {
          "base_uri": "https://localhost:8080/"
        },
        "id": "PlmncSwOfhJ-",
        "outputId": "96ec5364-5f29-4668-9b86-e5055b0c3c65"
      },
      "execution_count": 4,
      "outputs": [
        {
          "output_type": "stream",
          "name": "stdout",
          "text": [
            "{'Maria': {'sexo': 'F', 'cpf': 321654987545, 'rg': 12123456}, 'João': {'sexo': 'M', 'cpf': 898798654, 'rg': 23456}, 'Ana': {'sexo': 'F', 'cpf': 87555541555, 'rg': 3456}}\n",
            "{'sexo': 'F', 'cpf': 321654987545, 'rg': 12123456}\n",
            "321654987545\n"
          ]
        }
      ]
    },
    {
      "cell_type": "markdown",
      "source": [
        "## List Comprehensions"
      ],
      "metadata": {
        "id": "t9lTWlyJgsm_"
      }
    },
    {
      "cell_type": "code",
      "source": [
        "lista = [x for x in range(10)]\n",
        "print(lista)"
      ],
      "metadata": {
        "colab": {
          "base_uri": "https://localhost:8080/"
        },
        "id": "3RgIIFWugxy2",
        "outputId": "3872cf11-03dc-4990-abe8-b5248f8df338"
      },
      "execution_count": 5,
      "outputs": [
        {
          "output_type": "stream",
          "name": "stdout",
          "text": [
            "[0, 1, 2, 3, 4, 5, 6, 7, 8, 9]\n"
          ]
        }
      ]
    },
    {
      "cell_type": "code",
      "source": [
        "lista2 = ['1','zero', 'quatro']\n",
        "lista2 = [x for x in lista2]\n",
        "print(lista2)"
      ],
      "metadata": {
        "colab": {
          "base_uri": "https://localhost:8080/"
        },
        "id": "6QxtNEPNg8BU",
        "outputId": "faee855a-f655-41d5-9130-3ca0fcbc0b50"
      },
      "execution_count": 8,
      "outputs": [
        {
          "output_type": "stream",
          "name": "stdout",
          "text": [
            "['1', 'zero', 'quatro']\n"
          ]
        }
      ]
    },
    {
      "cell_type": "code",
      "source": [
        "lista3 = [x for x in range(1,11) if x % 2 == 0]\n",
        "print(lista3)\n"
      ],
      "metadata": {
        "colab": {
          "base_uri": "https://localhost:8080/"
        },
        "id": "s8BHR89fh0Il",
        "outputId": "8379aa49-744a-4616-b759-86d79e1e0b0b"
      },
      "execution_count": 10,
      "outputs": [
        {
          "output_type": "stream",
          "name": "stdout",
          "text": [
            "[2, 4, 6, 8, 10]\n"
          ]
        }
      ]
    },
    {
      "cell_type": "code",
      "source": [
        "lista_aux = [1,5,9]\n",
        "lista = [x for x in range(1,11) if x not in lista_aux]\n",
        "print(lista)"
      ],
      "metadata": {
        "colab": {
          "base_uri": "https://localhost:8080/"
        },
        "id": "-dDZtUmnh_CD",
        "outputId": "31fd5f77-1752-49a1-904a-852b0a163faf"
      },
      "execution_count": 12,
      "outputs": [
        {
          "output_type": "stream",
          "name": "stdout",
          "text": [
            "[2, 3, 4, 6, 7, 8, 10]\n"
          ]
        }
      ]
    },
    {
      "cell_type": "code",
      "source": [
        "lista.clear()\n",
        "lista = [x for x in range(-10,20) if x <= 10 if x >= 0]\n",
        "print(lista)"
      ],
      "metadata": {
        "colab": {
          "base_uri": "https://localhost:8080/"
        },
        "id": "IXIl94o6jO6Y",
        "outputId": "6b3e8145-da8e-4580-9ff0-1cfbe23680c8"
      },
      "execution_count": 20,
      "outputs": [
        {
          "output_type": "stream",
          "name": "stdout",
          "text": [
            "[0, 1, 2, 3, 4, 5, 6, 7, 8, 9, 10]\n"
          ]
        }
      ]
    },
    {
      "cell_type": "code",
      "source": [
        "lista.clear()\n",
        "lista = [x*2 for x in range(0,11)]\n",
        "print(lista)"
      ],
      "metadata": {
        "colab": {
          "base_uri": "https://localhost:8080/"
        },
        "id": "YMm2SCyAj-ON",
        "outputId": "e9ac28fc-b676-4166-bc6a-7deb6e2bbb86"
      },
      "execution_count": 21,
      "outputs": [
        {
          "output_type": "stream",
          "name": "stdout",
          "text": [
            "[0, 2, 4, 6, 8, 10, 12, 14, 16, 18, 20]\n"
          ]
        }
      ]
    },
    {
      "cell_type": "code",
      "source": [
        "lista.clear()\n",
        "lista = [str(x) for x in range(0,21)]\n",
        "print(lista)\n",
        "\n",
        "lista.clear()\n",
        "lista = [str(x)[0] for x in range(0,21)]\n",
        "print(lista)\n"
      ],
      "metadata": {
        "colab": {
          "base_uri": "https://localhost:8080/"
        },
        "id": "FZ5NOnqKkGE0",
        "outputId": "cdac91cb-99c2-43d9-b974-426fef47ffea"
      },
      "execution_count": 23,
      "outputs": [
        {
          "output_type": "stream",
          "name": "stdout",
          "text": [
            "['0', '1', '2', '3', '4', '5', '6', '7', '8', '9', '10', '11', '12', '13', '14', '15', '16', '17', '18', '19', '20']\n",
            "['0', '1', '2', '3', '4', '5', '6', '7', '8', '9', '1', '1', '1', '1', '1', '1', '1', '1', '1', '1', '2']\n"
          ]
        }
      ]
    },
    {
      "cell_type": "code",
      "source": [
        "lista.clear()\n",
        "lista = [ 'negativo' if x < 0 else 'positivo' for x in range(-3, 4)]\n",
        "print(lista)"
      ],
      "metadata": {
        "colab": {
          "base_uri": "https://localhost:8080/"
        },
        "id": "_GoeDbk5kVAy",
        "outputId": "5740a825-7d8a-4a77-fa9e-fd97c986d7e7"
      },
      "execution_count": 24,
      "outputs": [
        {
          "output_type": "stream",
          "name": "stdout",
          "text": [
            "['negativo', 'negativo', 'negativo', 'positivo', 'positivo', 'positivo', 'positivo']\n"
          ]
        }
      ]
    },
    {
      "cell_type": "code",
      "source": [
        "lista = [ str(x) + ' par' if x%2 == 0 else str(x)+' ímpar' for x in range(2,11)]\n",
        "print(lista)"
      ],
      "metadata": {
        "colab": {
          "base_uri": "https://localhost:8080/"
        },
        "id": "iVfGb0s4k7ou",
        "outputId": "2ba848d6-c108-409d-e609-387aa01d480c"
      },
      "execution_count": 26,
      "outputs": [
        {
          "output_type": "stream",
          "name": "stdout",
          "text": [
            "['2 par', '3 ímpar', '4 par', '5 ímpar', '6 par', '7 ímpar', '8 par', '9 ímpar', '10 par']\n"
          ]
        }
      ]
    },
    {
      "cell_type": "code",
      "source": [
        "#função lambda para fazer um filtro\n",
        "lista = [1,2,3,4,5,6,7,8,9]\n",
        "lista = list(filter(lambda x: x%2 == 0, lista))\n",
        "print(lista)"
      ],
      "metadata": {
        "colab": {
          "base_uri": "https://localhost:8080/"
        },
        "id": "ELboG3j9N03R",
        "outputId": "cb8da740-72f5-4fd6-8ccc-240fcb174338"
      },
      "execution_count": 1,
      "outputs": [
        {
          "output_type": "stream",
          "name": "stdout",
          "text": [
            "[2, 4, 6, 8]\n"
          ]
        }
      ]
    },
    {
      "cell_type": "code",
      "source": [
        "lista = [x for x in range(1,5)]\n",
        "print(lista)\n",
        "\n",
        "lista = [ [x for x in range(1,5)] for y in range(1,5) ]\n",
        "print(lista)"
      ],
      "metadata": {
        "colab": {
          "base_uri": "https://localhost:8080/"
        },
        "id": "Gmhz8TgndlAZ",
        "outputId": "d3027888-1c15-4aae-c099-3baa1d44d93d"
      },
      "execution_count": 3,
      "outputs": [
        {
          "output_type": "stream",
          "name": "stdout",
          "text": [
            "[1, 2, 3, 4]\n",
            "[[1, 2, 3, 4], [1, 2, 3, 4], [1, 2, 3, 4], [1, 2, 3, 4]]\n"
          ]
        }
      ]
    },
    {
      "cell_type": "code",
      "source": [
        "lista = [ [str(x) + str(y) for x in range(1,5)] for y in range(1,5) ]\n",
        "lista"
      ],
      "metadata": {
        "colab": {
          "base_uri": "https://localhost:8080/"
        },
        "id": "VB4NKco2eBaa",
        "outputId": "565bc730-9189-4d74-da5d-b52b7490ce81"
      },
      "execution_count": 5,
      "outputs": [
        {
          "output_type": "execute_result",
          "data": {
            "text/plain": [
              "[['11', '21', '31', '41'],\n",
              " ['12', '22', '32', '42'],\n",
              " ['13', '23', '33', '43'],\n",
              " ['14', '24', '34', '44']]"
            ]
          },
          "metadata": {},
          "execution_count": 5
        }
      ]
    },
    {
      "cell_type": "code",
      "source": [
        "#tabuada da multiplicação\n",
        "\n",
        "[[str(x) + '*' + str(y) +'='+ str(x*y) for x in range(1,8)] for y in range(1,11)]"
      ],
      "metadata": {
        "colab": {
          "base_uri": "https://localhost:8080/"
        },
        "id": "NP8qX0s6ePiP",
        "outputId": "3d224a24-49c8-47fc-f599-52449a179aaa"
      },
      "execution_count": 10,
      "outputs": [
        {
          "output_type": "execute_result",
          "data": {
            "text/plain": [
              "[['1*1=1', '2*1=2', '3*1=3', '4*1=4', '5*1=5', '6*1=6', '7*1=7'],\n",
              " ['1*2=2', '2*2=4', '3*2=6', '4*2=8', '5*2=10', '6*2=12', '7*2=14'],\n",
              " ['1*3=3', '2*3=6', '3*3=9', '4*3=12', '5*3=15', '6*3=18', '7*3=21'],\n",
              " ['1*4=4', '2*4=8', '3*4=12', '4*4=16', '5*4=20', '6*4=24', '7*4=28'],\n",
              " ['1*5=5', '2*5=10', '3*5=15', '4*5=20', '5*5=25', '6*5=30', '7*5=35'],\n",
              " ['1*6=6', '2*6=12', '3*6=18', '4*6=24', '5*6=30', '6*6=36', '7*6=42'],\n",
              " ['1*7=7', '2*7=14', '3*7=21', '4*7=28', '5*7=35', '6*7=42', '7*7=49'],\n",
              " ['1*8=8', '2*8=16', '3*8=24', '4*8=32', '5*8=40', '6*8=48', '7*8=56'],\n",
              " ['1*9=9', '2*9=18', '3*9=27', '4*9=36', '5*9=45', '6*9=54', '7*9=63'],\n",
              " ['1*10=10', '2*10=20', '3*10=30', '4*10=40', '5*10=50', '6*10=60', '7*10=70']]"
            ]
          },
          "metadata": {},
          "execution_count": 10
        }
      ]
    },
    {
      "cell_type": "markdown",
      "source": [
        "## Exercícios"
      ],
      "metadata": {
        "id": "w1A2FKFTfjcN"
      }
    },
    {
      "cell_type": "code",
      "source": [
        "#1\n",
        "\n",
        "soma = 0\n",
        "lista = [1,10,6,7,8,10]\n",
        "for x in lista:\n",
        "    soma += x\n",
        "print('A soma da lista é ',str(soma))"
      ],
      "metadata": {
        "colab": {
          "base_uri": "https://localhost:8080/"
        },
        "id": "_tmRAPKvfmmy",
        "outputId": "b8aed039-802c-4719-ddf6-3bce3ff1f6c4"
      },
      "execution_count": 40,
      "outputs": [
        {
          "output_type": "stream",
          "name": "stdout",
          "text": [
            "A soma da lista é  42\n"
          ]
        }
      ]
    },
    {
      "cell_type": "code",
      "source": [
        "#2\n",
        "\n",
        "lista = []\n",
        "for x in range(1, 101):\n",
        "    lista.append(x)\n",
        "print(lista)"
      ],
      "metadata": {
        "colab": {
          "base_uri": "https://localhost:8080/"
        },
        "id": "4dWzF-ubf90u",
        "outputId": "e1231286-588a-4bed-c33d-0f4447a867b5"
      },
      "execution_count": 20,
      "outputs": [
        {
          "output_type": "stream",
          "name": "stdout",
          "text": [
            "[1, 2, 3, 4, 5, 6, 7, 8, 9, 10, 11, 12, 13, 14, 15, 16, 17, 18, 19, 20, 21, 22, 23, 24, 25, 26, 27, 28, 29, 30, 31, 32, 33, 34, 35, 36, 37, 38, 39, 40, 41, 42, 43, 44, 45, 46, 47, 48, 49, 50, 51, 52, 53, 54, 55, 56, 57, 58, 59, 60, 61, 62, 63, 64, 65, 66, 67, 68, 69, 70, 71, 72, 73, 74, 75, 76, 77, 78, 79, 80, 81, 82, 83, 84, 85, 86, 87, 88, 89, 90, 91, 92, 93, 94, 95, 96, 97, 98, 99, 100]\n"
          ]
        }
      ]
    },
    {
      "cell_type": "code",
      "source": [
        "#3\n",
        "\n",
        "lista1 = {30,4,43,52,65,-10}\n",
        "lista2 = {43,2,4,76,65,3}\n",
        "\n",
        "lista_union = lista2.union(lista1)\n",
        "print(lista_union)"
      ],
      "metadata": {
        "colab": {
          "base_uri": "https://localhost:8080/"
        },
        "id": "RDU_Iwesg-d5",
        "outputId": "601485ec-01fb-4822-aac0-ca2720688901"
      },
      "execution_count": 28,
      "outputs": [
        {
          "output_type": "stream",
          "name": "stdout",
          "text": [
            "{65, 2, 3, 4, 43, 76, 52, -10, 30}\n"
          ]
        }
      ]
    },
    {
      "cell_type": "code",
      "source": [
        "#4\n",
        "\n",
        "dic_meses = {1: \"Janeiro\",\n",
        "    2: \"Fevereiro\",\n",
        "    3 : \"Março\",\n",
        "    4 : \"Abril\",\n",
        "    5 : \"Maio\",\n",
        "    6 : \"Junho\",\n",
        "    7 : \"Julho\",\n",
        "    8 : \"Agosto\",\n",
        "    9 : \"Setembro\",\n",
        "    10 : \"Outubro\",\n",
        "    11 : \"Novembro\",\n",
        "    12 : \"Dezembro\"\n",
        "}\n",
        "\n",
        "mesnasc = int(input(\"Digite o mês de nascimento: \"))\n",
        "print(dic_meses[mesnasc])\n",
        "\n",
        "\n",
        "#outra forma\n",
        "meses = (\"janeiro\", \"fevereiro\", \"março\", \"abril\", \"maio\", \"junho\", \"julho\", \"agosto\", \"setembro\", \"outubro\", \"novembro\", \"dezembro\")\n",
        "mesnascido = int(input(\"Digite o mês de nascimento: \"))\n",
        "print(\"Você nasceu em %s \" % (meses[mesnascido-1]))"
      ],
      "metadata": {
        "colab": {
          "base_uri": "https://localhost:8080/"
        },
        "id": "szDmWjPZlRXY",
        "outputId": "125a6b5e-7f6c-4f53-bee2-32aac8645db1"
      },
      "execution_count": 42,
      "outputs": [
        {
          "output_type": "stream",
          "name": "stdout",
          "text": [
            "Digite o mês de nascimento: 07\n",
            "Julho\n",
            "Digite o mês de nascimento: 07\n",
            "Você nasceu em julho \n"
          ]
        }
      ]
    },
    {
      "cell_type": "code",
      "source": [
        "#5\n",
        "\n",
        "lista = []\n",
        "for x in range(1, 32):\n",
        "    lista.append(x)\n",
        "print(lista)\n",
        "dia = input(\"Digite o dia do nascimento: \")\n",
        "lista.remove(int(dia))\n",
        "print(lista)"
      ],
      "metadata": {
        "colab": {
          "base_uri": "https://localhost:8080/"
        },
        "id": "wQuEAlQFmKA9",
        "outputId": "1d9d7ffb-1c8f-4d66-aa2e-ce001c2cfa9b"
      },
      "execution_count": 39,
      "outputs": [
        {
          "output_type": "stream",
          "name": "stdout",
          "text": [
            "[1, 2, 3, 4, 5, 6, 7, 8, 9, 10, 11, 12, 13, 14, 15, 16, 17, 18, 19, 20, 21, 22, 23, 24, 25, 26, 27, 28, 29, 30, 31]\n",
            "Digite o dia do nascimento: 02\n",
            "[1, 3, 4, 5, 6, 7, 8, 9, 10, 11, 12, 13, 14, 15, 16, 17, 18, 19, 20, 21, 22, 23, 24, 25, 26, 27, 28, 29, 30, 31]\n"
          ]
        }
      ]
    },
    {
      "cell_type": "code",
      "source": [
        "#6\n",
        "dicobj = {\"vassoura\": \"limpar a casa\", \"caneta\": \"escrever\", \"celular\":\"fazer ligação\"}\n",
        "obj = input(\"Digite um objeto: \")\n",
        "\n",
        "if obj not in dicobj :\n",
        "    print(\"Objeto selecionado não existe\")\n",
        "else:\n",
        "    print(\"Função do objeto %s: \" %obj, dicobj[obj])\n"
      ],
      "metadata": {
        "colab": {
          "base_uri": "https://localhost:8080/"
        },
        "id": "EQOBVcYVnkUS",
        "outputId": "690b8738-b1a7-4dbf-b7cd-fa42a0f8a763"
      },
      "execution_count": 51,
      "outputs": [
        {
          "output_type": "stream",
          "name": "stdout",
          "text": [
            "Digite um objeto: caneta\n",
            "Função do objeto caneta:  escrever\n"
          ]
        }
      ]
    },
    {
      "cell_type": "code",
      "source": [
        "#7\n",
        "listcomp1 = [x for x in range(-30,-19)]\n",
        "print(listcomp1)\n"
      ],
      "metadata": {
        "colab": {
          "base_uri": "https://localhost:8080/"
        },
        "id": "MXoEOy5Rnqn2",
        "outputId": "9e82cb75-e3c4-4d79-9cad-b870cc1d9a00"
      },
      "execution_count": 54,
      "outputs": [
        {
          "output_type": "stream",
          "name": "stdout",
          "text": [
            "[-30, -29, -28, -27, -26, -25, -24, -23, -22, -21, -20]\n"
          ]
        }
      ]
    },
    {
      "cell_type": "code",
      "source": [
        "#8\n",
        "listcomp2 = [x for x in range(4, 101) if x % 4 == 0]\n",
        "print(listcomp2)\n",
        "\n"
      ],
      "metadata": {
        "colab": {
          "base_uri": "https://localhost:8080/"
        },
        "id": "ZSOfzZfunsMd",
        "outputId": "2c0df093-868d-41be-da9c-3ba9ecafb7d2"
      },
      "execution_count": 56,
      "outputs": [
        {
          "output_type": "stream",
          "name": "stdout",
          "text": [
            "[4, 8, 12, 16, 20, 24, 28, 32, 36, 40, 44, 48, 52, 56, 60, 64, 68, 72, 76, 80, 84, 88, 92, 96, 100]\n"
          ]
        }
      ]
    },
    {
      "cell_type": "code",
      "source": [
        "#9\n",
        "listcomp3 = [x for x in range(0, 101)]\n",
        "print(listcomp3)\n",
        "\n",
        "lista = list(filter(lambda x: x % 10 == 0, listcomp3))\n",
        "print(lista)\n",
        "\n",
        "#outra forma\n",
        "\n",
        "lista9 = [x for x in range(0, 101) if str(x)[-1] == '0']\n",
        "print(lista9)"
      ],
      "metadata": {
        "colab": {
          "base_uri": "https://localhost:8080/"
        },
        "id": "U6KB_WrLnuU6",
        "outputId": "a649cc8e-4cd4-450a-c4c8-153593de53f5"
      },
      "execution_count": 63,
      "outputs": [
        {
          "output_type": "stream",
          "name": "stdout",
          "text": [
            "[0, 1, 2, 3, 4, 5, 6, 7, 8, 9, 10, 11, 12, 13, 14, 15, 16, 17, 18, 19, 20, 21, 22, 23, 24, 25, 26, 27, 28, 29, 30, 31, 32, 33, 34, 35, 36, 37, 38, 39, 40, 41, 42, 43, 44, 45, 46, 47, 48, 49, 50, 51, 52, 53, 54, 55, 56, 57, 58, 59, 60, 61, 62, 63, 64, 65, 66, 67, 68, 69, 70, 71, 72, 73, 74, 75, 76, 77, 78, 79, 80, 81, 82, 83, 84, 85, 86, 87, 88, 89, 90, 91, 92, 93, 94, 95, 96, 97, 98, 99, 100]\n",
            "[0, 10, 20, 30, 40, 50, 60, 70, 80, 90, 100]\n",
            "[0, 10, 20, 30, 40, 50, 60, 70, 80, 90, 100]\n"
          ]
        }
      ]
    },
    {
      "cell_type": "code",
      "source": [
        "#10\n",
        "array = [x for x in range(0,21)]\n",
        "print(array)\n",
        "\n",
        "lista = [ '0' if x%2 == 0 else '-' for x in range(0,21)]\n",
        "print(lista)\n",
        "\n",
        "#outra forma\n",
        "lista10 = ['0' if str(x)[-1] == '0' else '-' for x in range(0,21)]\n",
        "print(lista10)"
      ],
      "metadata": {
        "colab": {
          "base_uri": "https://localhost:8080/"
        },
        "id": "GZS9Lv0cnwPO",
        "outputId": "d702d986-4d12-46f9-80a5-bc91a024e2e4"
      },
      "execution_count": 64,
      "outputs": [
        {
          "output_type": "stream",
          "name": "stdout",
          "text": [
            "[0, 1, 2, 3, 4, 5, 6, 7, 8, 9, 10, 11, 12, 13, 14, 15, 16, 17, 18, 19, 20]\n",
            "['0', '-', '0', '-', '0', '-', '0', '-', '0', '-', '0', '-', '0', '-', '0', '-', '0', '-', '0', '-', '0']\n",
            "['0', '-', '-', '-', '-', '-', '-', '-', '-', '-', '0', '-', '-', '-', '-', '-', '-', '-', '-', '-', '0']\n"
          ]
        }
      ]
    },
    {
      "cell_type": "code",
      "source": [
        "vals = {1,4,5,2,1,4}\n",
        "print(vals)"
      ],
      "metadata": {
        "colab": {
          "base_uri": "https://localhost:8080/"
        },
        "id": "OoYsa8bl1R1h",
        "outputId": "22196009-73d5-4dcd-c54c-320b6af01893"
      },
      "execution_count": 65,
      "outputs": [
        {
          "output_type": "stream",
          "name": "stdout",
          "text": [
            "{1, 2, 4, 5}\n"
          ]
        }
      ]
    }
  ]
}