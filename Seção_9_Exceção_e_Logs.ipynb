{
  "nbformat": 4,
  "nbformat_minor": 0,
  "metadata": {
    "colab": {
      "provenance": [],
      "authorship_tag": "ABX9TyNFonTLmdvcm40NOnnxPGVK",
      "include_colab_link": true
    },
    "kernelspec": {
      "name": "python3",
      "display_name": "Python 3"
    },
    "language_info": {
      "name": "python"
    }
  },
  "cells": [
    {
      "cell_type": "markdown",
      "metadata": {
        "id": "view-in-github",
        "colab_type": "text"
      },
      "source": [
        "<a href=\"https://colab.research.google.com/github/mariaaluiza/formacaoPython/blob/main/Se%C3%A7%C3%A3o_9_Exce%C3%A7%C3%A3o_e_Logs.ipynb\" target=\"_parent\"><img src=\"https://colab.research.google.com/assets/colab-badge.svg\" alt=\"Open In Colab\"/></a>"
      ]
    },
    {
      "cell_type": "markdown",
      "source": [
        "try: onde pode ocorrer o erro\n",
        "\n",
        "except: pode haver mais de uma clausula, é executado em caso de erro\n",
        "\n",
        "else: opcional, executa somente se não houver erro\n",
        "\n",
        "finally: opcional, sempre será executada, com ou sem erro"
      ],
      "metadata": {
        "id": "UzmM7Fi1SQt3"
      }
    },
    {
      "cell_type": "code",
      "execution_count": null,
      "metadata": {
        "id": "QjLZPv_ISGtG"
      },
      "outputs": [],
      "source": [
        "print(\"Inicio\")\n",
        "lista = [1,2,3]\n",
        "print(lista[10])\n",
        "print(\"Fim\")"
      ]
    },
    {
      "cell_type": "code",
      "source": [
        "print(\"Inicio\")\n",
        "lista = [1,2,3]\n",
        "try:\n",
        "    print(lista[10])\n",
        "except:\n",
        "    print(\"Erro\")\n",
        "print(\"Fim\")"
      ],
      "metadata": {
        "colab": {
          "base_uri": "https://localhost:8080/"
        },
        "id": "NOYAkQQ7Sw5C",
        "outputId": "61e948d4-dda2-459b-fcf0-b1f54e2dee96"
      },
      "execution_count": 5,
      "outputs": [
        {
          "output_type": "stream",
          "name": "stdout",
          "text": [
            "Inicio\n",
            "Erro\n",
            "Fim\n"
          ]
        }
      ]
    },
    {
      "cell_type": "code",
      "source": [
        "print(\"Inicio\")\n",
        "lista = [1,2,3]\n",
        "try:\n",
        "    print(lista[10])\n",
        "except Exception as error:\n",
        "    print(\"Erro: \"+ str(error))\n",
        "print(\"Fim\")"
      ],
      "metadata": {
        "colab": {
          "base_uri": "https://localhost:8080/"
        },
        "id": "gQ0YePxdS6BQ",
        "outputId": "25d23bfa-c31c-4829-8980-ef784cc10703"
      },
      "execution_count": 7,
      "outputs": [
        {
          "output_type": "stream",
          "name": "stdout",
          "text": [
            "Inicio\n",
            "Erro: list index out of range\n",
            "Fim\n"
          ]
        }
      ]
    },
    {
      "cell_type": "code",
      "source": [
        "print(\"Inicio\")\n",
        "\n",
        "try:\n",
        "    numero = int('b')\n",
        "except Exception as error:\n",
        "    print(\"Erro: \"+ str(error))\n",
        "print(\"Fim\")"
      ],
      "metadata": {
        "colab": {
          "base_uri": "https://localhost:8080/"
        },
        "id": "2Xa6GGQ7TGDs",
        "outputId": "1498cb9b-a177-4b9e-9933-5b5005a0d2ea"
      },
      "execution_count": 8,
      "outputs": [
        {
          "output_type": "stream",
          "name": "stdout",
          "text": [
            "Inicio\n",
            "Erro: invalid literal for int() with base 10: 'b'\n",
            "Fim\n"
          ]
        }
      ]
    },
    {
      "cell_type": "code",
      "source": [
        "print(\"Inicio\")\n",
        "lista = [1,2,3]\n",
        "try:\n",
        "    print(lista[10])\n",
        "except:\n",
        "    print(\"Erro\")\n",
        "finally:\n",
        "    del lista\n",
        "    print(\"Executa sempre\")\n",
        "print(\"Fim\")"
      ],
      "metadata": {
        "colab": {
          "base_uri": "https://localhost:8080/"
        },
        "id": "BTCgx13qTQS2",
        "outputId": "0aeffff3-ccc2-443e-ac7b-f55e25361ee0"
      },
      "execution_count": 10,
      "outputs": [
        {
          "output_type": "stream",
          "name": "stdout",
          "text": [
            "Inicio\n",
            "Erro\n",
            "Executa sempre\n",
            "Fim\n"
          ]
        }
      ]
    },
    {
      "cell_type": "code",
      "source": [
        "print(\"Inicio\")\n",
        "lista = [1,2,3]\n",
        "try:\n",
        "    print(lista[10])\n",
        "except:\n",
        "    print(\"Erro\")\n",
        "else:\n",
        "    print(\"Não houve erro\")\n",
        "print(\"Fim\")"
      ],
      "metadata": {
        "colab": {
          "base_uri": "https://localhost:8080/"
        },
        "id": "Jdem_phZTeer",
        "outputId": "e18ae1eb-aa21-415c-8f5e-0448e86ff6d1"
      },
      "execution_count": 13,
      "outputs": [
        {
          "output_type": "stream",
          "name": "stdout",
          "text": [
            "Inicio\n",
            "Erro\n",
            "Fim\n"
          ]
        }
      ]
    },
    {
      "cell_type": "code",
      "source": [
        "print(\"Inicio\")\n",
        "lista = [1,2,3]\n",
        "try:\n",
        "    print(lista[10])\n",
        "except:\n",
        "    print(\"Erro\")\n",
        "else:\n",
        "    print(\"Não houve erro\")\n",
        "finally:\n",
        "    del lista\n",
        "    print(\"Executa sempre\")\n",
        "print(\"Fim\")"
      ],
      "metadata": {
        "colab": {
          "base_uri": "https://localhost:8080/"
        },
        "id": "tkpl12QPTnT-",
        "outputId": "ccbdaa41-40d5-4899-f8e0-ee21aaa64cc8"
      },
      "execution_count": 14,
      "outputs": [
        {
          "output_type": "stream",
          "name": "stdout",
          "text": [
            "Inicio\n",
            "Erro\n",
            "Executa sempre\n",
            "Fim\n"
          ]
        }
      ]
    },
    {
      "cell_type": "code",
      "source": [
        "print(\"Inicio\")\n",
        "lista = [1,2,3]\n",
        "numero = 0\n",
        "try:\n",
        "    divisao = 10/numero\n",
        "    print(lista[10])\n",
        "except IndexError as tipo1:\n",
        "    print(\"Erro de acesso ao indice: \"+ str(tipo1))\n",
        "except ZeroDivisionError as tipo2:\n",
        "    print(\"Erro de divisao por zero \"+ str(tipo2))\n",
        "except Exception as tipo3:\n",
        "    print(\"Erro\")\n",
        "else:\n",
        "    print(\"Não houve erro\")\n",
        "\n",
        "print(\"Fim\")"
      ],
      "metadata": {
        "colab": {
          "base_uri": "https://localhost:8080/"
        },
        "id": "l3XM0bU7T9CY",
        "outputId": "1203a5c2-a9b8-4e49-80bd-3ae5b3187b1e"
      },
      "execution_count": 18,
      "outputs": [
        {
          "output_type": "stream",
          "name": "stdout",
          "text": [
            "Inicio\n",
            "Erro de divisao por zero division by zero\n",
            "Fim\n"
          ]
        }
      ]
    },
    {
      "cell_type": "code",
      "source": [
        "raise Exception(\"Erro\")"
      ],
      "metadata": {
        "colab": {
          "base_uri": "https://localhost:8080/",
          "height": 144
        },
        "id": "HoPMDWhpVNXL",
        "outputId": "acc25d9a-1a5d-44eb-e99c-2778b1cc8242"
      },
      "execution_count": 19,
      "outputs": [
        {
          "output_type": "error",
          "ename": "Exception",
          "evalue": "Erro",
          "traceback": [
            "\u001b[0;31m---------------------------------------------------------------------------\u001b[0m",
            "\u001b[0;31mException\u001b[0m                                 Traceback (most recent call last)",
            "\u001b[0;32m/tmp/ipython-input-1485275205.py\u001b[0m in \u001b[0;36m<cell line: 0>\u001b[0;34m()\u001b[0m\n\u001b[0;32m----> 1\u001b[0;31m \u001b[0;32mraise\u001b[0m \u001b[0mException\u001b[0m\u001b[0;34m(\u001b[0m\u001b[0;34m\"Erro\"\u001b[0m\u001b[0;34m)\u001b[0m\u001b[0;34m\u001b[0m\u001b[0;34m\u001b[0m\u001b[0m\n\u001b[0m",
            "\u001b[0;31mException\u001b[0m: Erro"
          ]
        }
      ]
    },
    {
      "cell_type": "code",
      "source": [
        "raise IndexError(\"Erro de indice\")"
      ],
      "metadata": {
        "colab": {
          "base_uri": "https://localhost:8080/",
          "height": 144
        },
        "id": "0NzqkJ05VRup",
        "outputId": "97d8e2c0-5b84-44e8-d2ef-06f5dcf76305"
      },
      "execution_count": 20,
      "outputs": [
        {
          "output_type": "error",
          "ename": "IndexError",
          "evalue": "Erro de indice",
          "traceback": [
            "\u001b[0;31m---------------------------------------------------------------------------\u001b[0m",
            "\u001b[0;31mIndexError\u001b[0m                                Traceback (most recent call last)",
            "\u001b[0;32m/tmp/ipython-input-325627658.py\u001b[0m in \u001b[0;36m<cell line: 0>\u001b[0;34m()\u001b[0m\n\u001b[0;32m----> 1\u001b[0;31m \u001b[0;32mraise\u001b[0m \u001b[0mIndexError\u001b[0m\u001b[0;34m(\u001b[0m\u001b[0;34m\"Erro de indice\"\u001b[0m\u001b[0;34m)\u001b[0m\u001b[0;34m\u001b[0m\u001b[0;34m\u001b[0m\u001b[0m\n\u001b[0m",
            "\u001b[0;31mIndexError\u001b[0m: Erro de indice"
          ]
        }
      ]
    },
    {
      "cell_type": "code",
      "source": [
        "def printa_positivo(numero):\n",
        "    if numero < 0:\n",
        "        raise ValueError(\"Numero não pode ser negativo\")\n",
        "    print(numero)\n",
        "\n",
        "try:\n",
        "    printa_positivo(10)\n",
        "    printa_positivo(-10)\n",
        "except ValueError as error:\n",
        "    print(\"Erro: \"+ str(error))\n",
        "except Exception as error2:\n",
        "    print(\"Erro: \"+ str(error2))"
      ],
      "metadata": {
        "colab": {
          "base_uri": "https://localhost:8080/"
        },
        "id": "THiLpfa5VXVV",
        "outputId": "3baf1fe1-efcc-4d48-b3b0-6858e2844e27"
      },
      "execution_count": 24,
      "outputs": [
        {
          "output_type": "stream",
          "name": "stdout",
          "text": [
            "10\n",
            "Erro: Numero não pode ser negativo\n"
          ]
        }
      ]
    },
    {
      "cell_type": "code",
      "source": [
        "def printa_positivo(numero):\n",
        "    assert numero > 0, \"Numero não pode ser negativo\"\n",
        "    print(numero)\n",
        "\n",
        "try:\n",
        "    printa_positivo(10)\n",
        "    printa_positivo(-10)\n",
        "except AssertionError as error:\n",
        "    print(\"Erro: \"+ str(error))\n",
        "except Exception as error2:\n",
        "    print(\"Erro: \"+ str(error2))"
      ],
      "metadata": {
        "colab": {
          "base_uri": "https://localhost:8080/"
        },
        "id": "TZRxn1QCW_tc",
        "outputId": "d0a63ad1-bc92-41b3-b058-203fd538b960"
      },
      "execution_count": 26,
      "outputs": [
        {
          "output_type": "stream",
          "name": "stdout",
          "text": [
            "10\n",
            "Erro: Numero não pode ser negativo\n"
          ]
        }
      ]
    },
    {
      "cell_type": "code",
      "source": [
        "lista = [1]\n",
        "\n",
        "try:\n",
        "    print(lista[10])\n",
        "except IndexError as error:\n",
        "    raise error\n"
      ],
      "metadata": {
        "colab": {
          "base_uri": "https://localhost:8080/",
          "height": 305
        },
        "id": "0SMQ4g6uXSA5",
        "outputId": "ed1c766e-e551-4737-8967-110a8cc11575"
      },
      "execution_count": 29,
      "outputs": [
        {
          "output_type": "error",
          "ename": "IndexError",
          "evalue": "list index out of range",
          "traceback": [
            "\u001b[0;31m---------------------------------------------------------------------------\u001b[0m",
            "\u001b[0;31mIndexError\u001b[0m                                Traceback (most recent call last)",
            "\u001b[0;32m/tmp/ipython-input-1948278364.py\u001b[0m in \u001b[0;36m<cell line: 0>\u001b[0;34m()\u001b[0m\n\u001b[1;32m      4\u001b[0m     \u001b[0mprint\u001b[0m\u001b[0;34m(\u001b[0m\u001b[0mlista\u001b[0m\u001b[0;34m[\u001b[0m\u001b[0;36m10\u001b[0m\u001b[0;34m]\u001b[0m\u001b[0;34m)\u001b[0m\u001b[0;34m\u001b[0m\u001b[0;34m\u001b[0m\u001b[0m\n\u001b[1;32m      5\u001b[0m \u001b[0;32mexcept\u001b[0m \u001b[0mIndexError\u001b[0m \u001b[0;32mas\u001b[0m \u001b[0merror\u001b[0m\u001b[0;34m:\u001b[0m\u001b[0;34m\u001b[0m\u001b[0;34m\u001b[0m\u001b[0m\n\u001b[0;32m----> 6\u001b[0;31m     \u001b[0;32mraise\u001b[0m \u001b[0merror\u001b[0m\u001b[0;34m\u001b[0m\u001b[0;34m\u001b[0m\u001b[0m\n\u001b[0m",
            "\u001b[0;32m/tmp/ipython-input-1948278364.py\u001b[0m in \u001b[0;36m<cell line: 0>\u001b[0;34m()\u001b[0m\n\u001b[1;32m      2\u001b[0m \u001b[0;34m\u001b[0m\u001b[0m\n\u001b[1;32m      3\u001b[0m \u001b[0;32mtry\u001b[0m\u001b[0;34m:\u001b[0m\u001b[0;34m\u001b[0m\u001b[0;34m\u001b[0m\u001b[0m\n\u001b[0;32m----> 4\u001b[0;31m     \u001b[0mprint\u001b[0m\u001b[0;34m(\u001b[0m\u001b[0mlista\u001b[0m\u001b[0;34m[\u001b[0m\u001b[0;36m10\u001b[0m\u001b[0;34m]\u001b[0m\u001b[0;34m)\u001b[0m\u001b[0;34m\u001b[0m\u001b[0;34m\u001b[0m\u001b[0m\n\u001b[0m\u001b[1;32m      5\u001b[0m \u001b[0;32mexcept\u001b[0m \u001b[0mIndexError\u001b[0m \u001b[0;32mas\u001b[0m \u001b[0merror\u001b[0m\u001b[0;34m:\u001b[0m\u001b[0;34m\u001b[0m\u001b[0;34m\u001b[0m\u001b[0m\n\u001b[1;32m      6\u001b[0m     \u001b[0;32mraise\u001b[0m \u001b[0merror\u001b[0m\u001b[0;34m\u001b[0m\u001b[0;34m\u001b[0m\u001b[0m\n",
            "\u001b[0;31mIndexError\u001b[0m: list index out of range"
          ]
        }
      ]
    },
    {
      "cell_type": "markdown",
      "source": [
        "## Logs"
      ],
      "metadata": {
        "id": "LB4dl886bsbP"
      }
    },
    {
      "cell_type": "code",
      "source": [
        "def custom_logger(level, message):\n",
        "    import logging\n",
        "    logger = logging.getLogger(__name__)\n",
        "    if not (len(logger.handlers)):\n",
        "        logging.basicConfig(level=logging.INFO)\n",
        "\n",
        "        c_handler = logging.StreamHandler()\n",
        "        f_handler = logging.FileHandler('arquivo_log.log')\n",
        "\n",
        "        format = logging.Formatter('%(asctime)s - %(name)s - %(levelname)s - %(message)s')\n",
        "\n",
        "        c_handler.setFormatter(format)\n",
        "        f_handler.setFormatter(format)\n",
        "\n",
        "        logger.addHandler(c_handler)\n",
        "        logger.addHandler(f_handler)\n",
        "\n",
        "    if level == 'debug':\n",
        "        logger.debug(message)\n",
        "    elif level == 'info':\n",
        "        logger.info(message)\n",
        "    elif level == 'warning':\n",
        "        logger.warning(message)\n",
        "    elif level == 'error':\n",
        "        logger.error(message)\n",
        "    elif level == 'critical':\n",
        "        logger.critical(message)\n",
        "    else:\n",
        "        logger.info(message)\n"
      ],
      "metadata": {
        "id": "oOTM1qjrbvTH"
      },
      "execution_count": 13,
      "outputs": []
    },
    {
      "cell_type": "code",
      "source": [
        "custom_logger('warning', 'Atenção, parametro errado')\n",
        "custom_logger('info', 'Info, parametro errado')\n",
        "custom_logger('debug', 'Debug, parametro errado')\n",
        "custom_logger('error', 'Erro, parametro errado')\n",
        "custom_logger('critical', 'Critico, parametro errado')"
      ],
      "metadata": {
        "colab": {
          "base_uri": "https://localhost:8080/"
        },
        "id": "i7M83fJuc7XP",
        "outputId": "47462d64-09c2-4045-ee97-aa9a663f387d"
      },
      "execution_count": 5,
      "outputs": [
        {
          "output_type": "stream",
          "name": "stderr",
          "text": [
            "2025-08-09 20:17:40,910 - __main__ - WARNING - Atenção, parametro errado\n",
            "WARNING:__main__:Atenção, parametro errado\n",
            "2025-08-09 20:17:40,913 - __main__ - ERROR - Erro, parametro errado\n",
            "ERROR:__main__:Erro, parametro errado\n",
            "2025-08-09 20:17:40,915 - __main__ - CRITICAL - Critico, parametro errado\n",
            "CRITICAL:__main__:Critico, parametro errado\n"
          ]
        }
      ]
    },
    {
      "cell_type": "code",
      "source": [
        "custom_logger('info', 'Inicio do programa')\n",
        "lista = [1,2,3]\n",
        "try:\n",
        "    print(lista[10])\n",
        "except:\n",
        "    custom_logger('error', 'Erro de indice incorreto')\n",
        "finally:\n",
        "    del lista\n",
        "    custom_logger('info', 'Executa sempre')\n",
        "\n",
        "custom_logger('info', 'Fim do programa')"
      ],
      "metadata": {
        "colab": {
          "base_uri": "https://localhost:8080/"
        },
        "id": "Ug_VmBGPd-PU",
        "outputId": "012487a3-5b10-43b6-d6d2-02f87089bf22"
      },
      "execution_count": 16,
      "outputs": [
        {
          "output_type": "stream",
          "name": "stderr",
          "text": [
            "2025-08-09 20:18:50,505 - __main__ - ERROR - Erro de indice incorreto\n",
            "ERROR:__main__:Erro de indice incorreto\n"
          ]
        }
      ]
    }
  ]
}