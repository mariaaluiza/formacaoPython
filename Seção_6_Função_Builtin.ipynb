{
  "nbformat": 4,
  "nbformat_minor": 0,
  "metadata": {
    "colab": {
      "provenance": [],
      "authorship_tag": "ABX9TyPm9lrrLo41hAElJwXldRUU",
      "include_colab_link": true
    },
    "kernelspec": {
      "name": "python3",
      "display_name": "Python 3"
    },
    "language_info": {
      "name": "python"
    }
  },
  "cells": [
    {
      "cell_type": "markdown",
      "metadata": {
        "id": "view-in-github",
        "colab_type": "text"
      },
      "source": [
        "<a href=\"https://colab.research.google.com/github/mariaaluiza/formacaoPython/blob/main/Se%C3%A7%C3%A3o_6_Fun%C3%A7%C3%A3o_Builtin.ipynb\" target=\"_parent\"><img src=\"https://colab.research.google.com/assets/colab-badge.svg\" alt=\"Open In Colab\"/></a>"
      ]
    },
    {
      "cell_type": "code",
      "execution_count": null,
      "metadata": {
        "colab": {
          "base_uri": "https://localhost:8080/"
        },
        "id": "Euacw7uY5TrL",
        "outputId": "1d0d9f67-5d93-4090-ec6b-c68a0aceaa40"
      },
      "outputs": [
        {
          "output_type": "stream",
          "name": "stdout",
          "text": [
            "10\n",
            "10\n",
            "20\n"
          ]
        }
      ],
      "source": [
        "#calcular valor absoluto\n",
        "\n",
        "num1 = -10\n",
        "num2 = 10\n",
        "\n",
        "print(abs(num1))\n",
        "print(abs(num2))\n",
        "print(abs(num1)+abs(num2))"
      ]
    },
    {
      "cell_type": "code",
      "source": [
        "varmax = max(10,20,30,40,50)\n",
        "print(varmax)"
      ],
      "metadata": {
        "colab": {
          "base_uri": "https://localhost:8080/"
        },
        "id": "1AVf1gmA5pXz",
        "outputId": "8098517c-45be-48c5-ce70-938f55912d66"
      },
      "execution_count": null,
      "outputs": [
        {
          "output_type": "stream",
          "name": "stdout",
          "text": [
            "50\n"
          ]
        }
      ]
    },
    {
      "cell_type": "code",
      "source": [
        "lista = [-20, 1, 2.4]\n",
        "print(max(lista))\n",
        "print(min(lista))"
      ],
      "metadata": {
        "colab": {
          "base_uri": "https://localhost:8080/"
        },
        "id": "CRz3p2rF5tok",
        "outputId": "14bdc42e-3215-484d-9bb9-3cc0f58e781b"
      },
      "execution_count": null,
      "outputs": [
        {
          "output_type": "stream",
          "name": "stdout",
          "text": [
            "2.4\n",
            "-20\n"
          ]
        }
      ]
    },
    {
      "cell_type": "code",
      "source": [
        "#potenciação\n",
        "\n",
        "x = 2\n",
        "y = 3\n",
        "print(pow(x,y))"
      ],
      "metadata": {
        "colab": {
          "base_uri": "https://localhost:8080/"
        },
        "id": "euyrrs1d51tU",
        "outputId": "bfe1443e-4877-445f-dd8f-fbe51f3863b5"
      },
      "execution_count": null,
      "outputs": [
        {
          "output_type": "stream",
          "name": "stdout",
          "text": [
            "8\n"
          ]
        }
      ]
    },
    {
      "cell_type": "code",
      "source": [
        "#raiz quadrada\n",
        "import math\n",
        "\n",
        "print(math.sqrt(9))"
      ],
      "metadata": {
        "colab": {
          "base_uri": "https://localhost:8080/"
        },
        "id": "0x5m3Oww5_Bs",
        "outputId": "a19e8f01-19cf-40e2-d119-7df69c884d40"
      },
      "execution_count": null,
      "outputs": [
        {
          "output_type": "stream",
          "name": "stdout",
          "text": [
            "3.0\n"
          ]
        }
      ]
    },
    {
      "cell_type": "code",
      "source": [
        "#arrendodar\n",
        "print(round(3.1416789, 3))"
      ],
      "metadata": {
        "colab": {
          "base_uri": "https://localhost:8080/"
        },
        "id": "jqYxHmXw6GFl",
        "outputId": "ff5ba220-c6af-4dbb-ff27-f342a34bc433"
      },
      "execution_count": null,
      "outputs": [
        {
          "output_type": "stream",
          "name": "stdout",
          "text": [
            "3.142\n"
          ]
        }
      ]
    },
    {
      "cell_type": "code",
      "source": [
        "from math import floor, ceil\n",
        "\n",
        "#arredonda pra baixo\n",
        "print(floor(2.4568))\n",
        "#arredonda pra cima\n",
        "print(ceil(2.4568))"
      ],
      "metadata": {
        "colab": {
          "base_uri": "https://localhost:8080/"
        },
        "id": "TYtyUNSA6K5n",
        "outputId": "245dd74a-7710-4e5d-eacf-8dbd1b433929"
      },
      "execution_count": null,
      "outputs": [
        {
          "output_type": "stream",
          "name": "stdout",
          "text": [
            "2\n",
            "3\n"
          ]
        }
      ]
    },
    {
      "cell_type": "code",
      "source": [
        "print(divmod(10,4)) #retorna uma tupla com a divisão e o resto\n"
      ],
      "metadata": {
        "colab": {
          "base_uri": "https://localhost:8080/"
        },
        "id": "bS3hJTU06kLJ",
        "outputId": "2ede84ab-ea47-40b1-db59-f78224b8167c"
      },
      "execution_count": null,
      "outputs": [
        {
          "output_type": "stream",
          "name": "stdout",
          "text": [
            "(2, 2)\n"
          ]
        }
      ]
    },
    {
      "cell_type": "code",
      "source": [
        "numero = 70\n",
        "caractere = chr(numero)\n",
        "print('O numero %d é mapeado no caractere %s' % (numero, caractere))"
      ],
      "metadata": {
        "colab": {
          "base_uri": "https://localhost:8080/"
        },
        "id": "wLRBp9UV6vcD",
        "outputId": "fd0c5406-d5b3-4900-f844-1ed5ba9e5084"
      },
      "execution_count": null,
      "outputs": [
        {
          "output_type": "stream",
          "name": "stdout",
          "text": [
            "O numero 70 é mapeado no caractere F\n"
          ]
        }
      ]
    },
    {
      "cell_type": "code",
      "source": [
        "for i in range(1,100):\n",
        "    carac = chr(i)\n",
        "    print(\"%d - %s\" % (i, carac), end = \"\\n\")"
      ],
      "metadata": {
        "colab": {
          "base_uri": "https://localhost:8080/"
        },
        "id": "FDQPj6ab7DpW",
        "outputId": "9ee60215-ae2a-422d-c1f5-ca8b735aead1"
      },
      "execution_count": null,
      "outputs": [
        {
          "output_type": "stream",
          "name": "stdout",
          "text": [
            "1 - \u0001\n",
            "2 - \u0002\n",
            "3 - \u0003\n",
            "4 - \u0004\n",
            "5 - \u0005\n",
            "6 - \u0006\n",
            "7 - \u0007\n",
            "8 - \b\n",
            "9 - \t\n",
            "10 - \n",
            "\n",
            "11 - \u000b\n",
            "12 - \f\n",
            "13 - \r\n",
            "14 - \u000e\n",
            "15 - \u000f\n",
            "16 - \u0010\n",
            "17 - \u0011\n",
            "18 - \u0012\n",
            "19 - \u0013\n",
            "20 - \u0014\n",
            "21 - \u0015\n",
            "22 - \u0016\n",
            "23 - \u0017\n",
            "24 - \u0018\n",
            "25 - \u0019\n",
            "26 - \u001a\n",
            "27 - \u001b\n",
            "28 - \u001c\n",
            "29 - \u001d\n",
            "30 - \u001e\n",
            "31 - \u001f\n",
            "32 -  \n",
            "33 - !\n",
            "34 - \"\n",
            "35 - #\n",
            "36 - $\n",
            "37 - %\n",
            "38 - &\n",
            "39 - '\n",
            "40 - (\n",
            "41 - )\n",
            "42 - *\n",
            "43 - +\n",
            "44 - ,\n",
            "45 - -\n",
            "46 - .\n",
            "47 - /\n",
            "48 - 0\n",
            "49 - 1\n",
            "50 - 2\n",
            "51 - 3\n",
            "52 - 4\n",
            "53 - 5\n",
            "54 - 6\n",
            "55 - 7\n",
            "56 - 8\n",
            "57 - 9\n",
            "58 - :\n",
            "59 - ;\n",
            "60 - <\n",
            "61 - =\n",
            "62 - >\n",
            "63 - ?\n",
            "64 - @\n",
            "65 - A\n",
            "66 - B\n",
            "67 - C\n",
            "68 - D\n",
            "69 - E\n",
            "70 - F\n",
            "71 - G\n",
            "72 - H\n",
            "73 - I\n",
            "74 - J\n",
            "75 - K\n",
            "76 - L\n",
            "77 - M\n",
            "78 - N\n",
            "79 - O\n",
            "80 - P\n",
            "81 - Q\n",
            "82 - R\n",
            "83 - S\n",
            "84 - T\n",
            "85 - U\n",
            "86 - V\n",
            "87 - W\n",
            "88 - X\n",
            "89 - Y\n",
            "90 - Z\n",
            "91 - [\n",
            "92 - \\\n",
            "93 - ]\n",
            "94 - ^\n",
            "95 - _\n",
            "96 - `\n",
            "97 - a\n",
            "98 - b\n",
            "99 - c\n"
          ]
        }
      ]
    },
    {
      "cell_type": "code",
      "source": [
        "caractere = 'D'\n",
        "numero = ord(caractere)\n",
        "print('O caractere %s é mapeado no numero %d' % (caractere, numero))\n"
      ],
      "metadata": {
        "colab": {
          "base_uri": "https://localhost:8080/"
        },
        "id": "JZp7EXW67b31",
        "outputId": "67b68468-dd44-4970-8519-4a645fab5940"
      },
      "execution_count": null,
      "outputs": [
        {
          "output_type": "stream",
          "name": "stdout",
          "text": [
            "O caractere D é mapeado no numero 68\n"
          ]
        }
      ]
    },
    {
      "cell_type": "code",
      "source": [
        "palavra = \"M@lu\"\n",
        "for letra in palavra:\n",
        "    print(\"%s - %d\" % (letra, ord(letra)))"
      ],
      "metadata": {
        "colab": {
          "base_uri": "https://localhost:8080/"
        },
        "id": "DcfhxzuB7wML",
        "outputId": "27cb29ab-4e2c-40e8-f834-00bee8c47b19"
      },
      "execution_count": null,
      "outputs": [
        {
          "output_type": "stream",
          "name": "stdout",
          "text": [
            "M - 77\n",
            "@ - 64\n",
            "l - 108\n",
            "u - 117\n"
          ]
        }
      ]
    },
    {
      "cell_type": "code",
      "source": [
        "texto = \"ola, tudo bEm?\"\n",
        "\n",
        "print(texto.capitalize())\n",
        "\n",
        "print(texto.upper())\n",
        "\n",
        "print(texto.lower())\n",
        "\n",
        "print(texto.swapcase())\n",
        "\n",
        "print(texto.title())"
      ],
      "metadata": {
        "colab": {
          "base_uri": "https://localhost:8080/"
        },
        "id": "5FGNLKZW8JcN",
        "outputId": "ad2ac295-3823-44e5-e730-4462950bb94d"
      },
      "execution_count": null,
      "outputs": [
        {
          "output_type": "stream",
          "name": "stdout",
          "text": [
            "Ola, tudo bem?\n",
            "OLA, TUDO BEM?\n",
            "ola, tudo bem?\n",
            "OLA, TUDO BeM?\n",
            "Ola, Tudo Bem?\n"
          ]
        }
      ]
    },
    {
      "cell_type": "code",
      "source": [
        "texto = \"134565\"\n",
        "print(texto.center(9))\n",
        "print(texto.center(14))\n",
        "print(texto.center(14, \"-\"))\n",
        "print(texto.rjust(9))\n",
        "print(texto.ljust(9))"
      ],
      "metadata": {
        "colab": {
          "base_uri": "https://localhost:8080/"
        },
        "id": "iec1n7p88nJL",
        "outputId": "9130d4ee-6f9a-4e0d-e30d-b0ce4f39a070"
      },
      "execution_count": null,
      "outputs": [
        {
          "output_type": "stream",
          "name": "stdout",
          "text": [
            "  134565 \n",
            "    134565    \n",
            "----134565----\n",
            "   134565\n",
            "134565   \n"
          ]
        }
      ]
    },
    {
      "cell_type": "code",
      "source": [
        "texto = \"123451212\"\n",
        "print(texto.count(\"12\"))\n",
        "print(texto.count(\"1\", 0, 5))\n",
        "print(texto.startswith(\"12\"))\n",
        "print(texto.endswith(\"12\"))\n"
      ],
      "metadata": {
        "colab": {
          "base_uri": "https://localhost:8080/"
        },
        "id": "LSKcTnYu8znA",
        "outputId": "02b223df-9296-43c5-8581-96aadae9acc1"
      },
      "execution_count": null,
      "outputs": [
        {
          "output_type": "stream",
          "name": "stdout",
          "text": [
            "3\n",
            "1\n",
            "True\n",
            "True\n"
          ]
        }
      ]
    },
    {
      "cell_type": "code",
      "source": [
        "texto = \"me encontra 10 30 40\"\n",
        "pos = texto.find(\"10\")\n",
        "print(pos)\n",
        "pos = texto.find(\"9\")\n",
        "print(pos)"
      ],
      "metadata": {
        "colab": {
          "base_uri": "https://localhost:8080/"
        },
        "id": "2UwXnmH09J5f",
        "outputId": "f8b7d085-85c1-4007-9b75-8bca40b5939b"
      },
      "execution_count": null,
      "outputs": [
        {
          "output_type": "stream",
          "name": "stdout",
          "text": [
            "12\n",
            "-1\n"
          ]
        }
      ]
    },
    {
      "cell_type": "code",
      "source": [
        "texto = \"me encontra 10 30 40\"\n",
        "pos = texto.index(\"10\")\n",
        "print(pos)\n",
        "#gera erro\n",
        "#pos = texto.index(\"9\")\n",
        "#print(pos)"
      ],
      "metadata": {
        "colab": {
          "base_uri": "https://localhost:8080/"
        },
        "id": "oFQT13ARmHuK",
        "outputId": "d60c164b-7eca-4327-e658-3b450d44d018"
      },
      "execution_count": null,
      "outputs": [
        {
          "output_type": "stream",
          "name": "stdout",
          "text": [
            "12\n"
          ]
        }
      ]
    },
    {
      "cell_type": "code",
      "source": [
        "texto = \"ol@ eu sou @ ful@n@\"\n",
        "novo = texto.replace(\"@\", \"a\")\n",
        "print(novo)"
      ],
      "metadata": {
        "colab": {
          "base_uri": "https://localhost:8080/"
        },
        "id": "4Ao8X582mS3I",
        "outputId": "45effc43-ba64-45e2-db56-cc0c230004de"
      },
      "execution_count": null,
      "outputs": [
        {
          "output_type": "stream",
          "name": "stdout",
          "text": [
            "ola eu sou a fulana\n"
          ]
        }
      ]
    },
    {
      "cell_type": "code",
      "source": [
        "texto = \"10,20,30\"\n",
        "result = texto.split(\",\")\n",
        "print(result)\n",
        "print(type(result))"
      ],
      "metadata": {
        "colab": {
          "base_uri": "https://localhost:8080/"
        },
        "id": "Tflyed23meDm",
        "outputId": "2389413c-6ea5-45ec-ada4-37ba43a8c57c"
      },
      "execution_count": null,
      "outputs": [
        {
          "output_type": "stream",
          "name": "stdout",
          "text": [
            "['10', '20', '30']\n",
            "<class 'list'>\n"
          ]
        }
      ]
    },
    {
      "cell_type": "code",
      "source": [
        "texto = \"ola, bom dia\\n como vai\"\n",
        "print(texto.splitlines())"
      ],
      "metadata": {
        "colab": {
          "base_uri": "https://localhost:8080/"
        },
        "id": "8WX9GSkOmmL-",
        "outputId": "dbb0a346-7e86-4db8-b30b-d42b8f092e12"
      },
      "execution_count": null,
      "outputs": [
        {
          "output_type": "stream",
          "name": "stdout",
          "text": [
            "['ola, bom dia', ' como vai']\n"
          ]
        }
      ]
    },
    {
      "cell_type": "code",
      "source": [
        "print(\"abcdE3\".isalpha()) #valida se é alfanumerico"
      ],
      "metadata": {
        "colab": {
          "base_uri": "https://localhost:8080/"
        },
        "id": "olrNWbdEmxgw",
        "outputId": "95c14dd4-affd-455f-b1d2-a48351f81d06"
      },
      "execution_count": null,
      "outputs": [
        {
          "output_type": "stream",
          "name": "stdout",
          "text": [
            "False\n"
          ]
        }
      ]
    },
    {
      "cell_type": "code",
      "source": [
        "print(\"abcdE3\".isalnum())\n",
        "print(\"123.4\".isdecimal())\n",
        "print(\"1234\".isdigit())\n",
        "print(\"1234\".isnumeric())\n",
        "print(\"1234\".isspace())\n",
        "print(\"   \".isspace())\n",
        "print(\"abcdE3\".islower())\n",
        "print(\"AAA\".isupper())\n",
        "\n"
      ],
      "metadata": {
        "colab": {
          "base_uri": "https://localhost:8080/"
        },
        "id": "tNQcbHfVm7xQ",
        "outputId": "7891a60b-3256-4416-cdc0-81bc4c73bb6f"
      },
      "execution_count": null,
      "outputs": [
        {
          "output_type": "stream",
          "name": "stdout",
          "text": [
            "True\n",
            "False\n",
            "True\n",
            "True\n",
            "False\n",
            "True\n",
            "False\n",
            "True\n"
          ]
        }
      ]
    },
    {
      "cell_type": "markdown",
      "source": [
        "## Listas"
      ],
      "metadata": {
        "id": "HMT4DfuHr49q"
      }
    },
    {
      "cell_type": "code",
      "source": [
        "lista = [5,10,3,28]\n",
        "lista.sort()\n",
        "print(lista)\n",
        "lista.sort(reverse=True)\n",
        "print(lista)\n",
        "\n",
        "lista = [\"d\", \"e\", \"z\", \"r\"]\n",
        "lista.sort()\n",
        "print(lista)\n",
        "\n"
      ],
      "metadata": {
        "colab": {
          "base_uri": "https://localhost:8080/"
        },
        "id": "Ayzmq1cSnFCN",
        "outputId": "a19f17bf-c5d8-4dbb-ea28-6e2e0a4390eb"
      },
      "execution_count": null,
      "outputs": [
        {
          "output_type": "stream",
          "name": "stdout",
          "text": [
            "[3, 5, 10, 28]\n",
            "[28, 10, 5, 3]\n",
            "['d', 'e', 'r', 'z']\n"
          ]
        }
      ]
    },
    {
      "cell_type": "code",
      "source": [
        "def sort_por_tamanho(item):\n",
        "    return len(item)\n",
        "\n",
        "lista = [\"ab\", \"abc\", \"abcd\", \"a\", \"abcde\"]\n",
        "lista.sort(key=sort_por_tamanho)\n",
        "print(lista)"
      ],
      "metadata": {
        "colab": {
          "base_uri": "https://localhost:8080/"
        },
        "id": "s6tXtUv3q6zF",
        "outputId": "014b1026-43db-458a-be35-aa47e78bdf06"
      },
      "execution_count": null,
      "outputs": [
        {
          "output_type": "stream",
          "name": "stdout",
          "text": [
            "['a', 'ab', 'abc', 'abcd', 'abcde']\n"
          ]
        }
      ]
    },
    {
      "cell_type": "code",
      "source": [
        "lista = [10,5,4,6,19]\n",
        "lista.reverse()\n",
        "print(lista)"
      ],
      "metadata": {
        "colab": {
          "base_uri": "https://localhost:8080/"
        },
        "id": "AEtdWrFLrOLs",
        "outputId": "295c39d4-2dd5-4015-cf04-95ce9a4f0552"
      },
      "execution_count": null,
      "outputs": [
        {
          "output_type": "stream",
          "name": "stdout",
          "text": [
            "[19, 6, 4, 5, 10]\n"
          ]
        }
      ]
    },
    {
      "cell_type": "code",
      "source": [
        "produtos = [[\"carro\", \"R$ 100.000\"], [\"cadeira\", \"R$ 67.000\"]]\n",
        "\n",
        "for produto, valor in produtos:\n",
        "    print(produto, valor)"
      ],
      "metadata": {
        "colab": {
          "base_uri": "https://localhost:8080/"
        },
        "id": "GQKN-ZxVrXpW",
        "outputId": "196fa73d-8a4e-4334-9f12-cf522f43a56e"
      },
      "execution_count": null,
      "outputs": [
        {
          "output_type": "stream",
          "name": "stdout",
          "text": [
            "carro R$ 100.000\n",
            "cadeira R$ 67.000\n"
          ]
        }
      ]
    },
    {
      "cell_type": "code",
      "source": [
        "nomes = (\"Jose\", \"Carlos\",\"Joao\")\n",
        "dicionario = dict.fromkeys(nomes, 10)\n",
        "print(dicionario)"
      ],
      "metadata": {
        "colab": {
          "base_uri": "https://localhost:8080/"
        },
        "id": "E1VXIMVlr8gA",
        "outputId": "ee611fea-67fc-4657-f774-6b3af9743723"
      },
      "execution_count": null,
      "outputs": [
        {
          "output_type": "stream",
          "name": "stdout",
          "text": [
            "{'Jose': 10, 'Carlos': 10, 'Joao': 10}\n"
          ]
        }
      ]
    },
    {
      "cell_type": "code",
      "source": [
        "from math import floor, ceil\n",
        "x = 2.00001\n",
        "print(floor(x))\n",
        "print(ceil(x))"
      ],
      "metadata": {
        "colab": {
          "base_uri": "https://localhost:8080/"
        },
        "id": "UwdrS_JKFMxA",
        "outputId": "d40a20d3-2d0d-4c0c-bebe-6c340fa4b1d0"
      },
      "execution_count": null,
      "outputs": [
        {
          "output_type": "stream",
          "name": "stdout",
          "text": [
            "2\n",
            "3\n"
          ]
        }
      ]
    },
    {
      "cell_type": "code",
      "source": [
        "num = -10\n",
        "print(abs(num) + abs(num))"
      ],
      "metadata": {
        "colab": {
          "base_uri": "https://localhost:8080/"
        },
        "id": "fOcKZvNED9pw",
        "outputId": "2a4eb512-543f-4cdf-a1f3-90fd0190595b"
      },
      "execution_count": null,
      "outputs": [
        {
          "output_type": "stream",
          "name": "stdout",
          "text": [
            "20\n"
          ]
        }
      ]
    },
    {
      "cell_type": "markdown",
      "source": [
        "## Data e Hora"
      ],
      "metadata": {
        "id": "jkkdpOgJsJct"
      }
    },
    {
      "cell_type": "code",
      "source": [
        "import datetime\n",
        "\n",
        "datacompleta = datetime.datetime.now()\n",
        "print(datacompleta)\n",
        "\n",
        "data = datacompleta.date()\n",
        "hora = datacompleta.time()\n",
        "print(data)\n",
        "print(hora)\n",
        "\n",
        "#data ou datacompleta\n",
        "print(\"Dia \", data.day)\n",
        "print(\"Mes \", data.month)\n",
        "print(\"Ano \", data.year)\n",
        "\n",
        "#hora ou datacompleta\n",
        "print(\"Hora \", hora.hour)\n",
        "print(\"Minuto \", hora.minute)\n",
        "print(\"Segundo \", hora.second)\n"
      ],
      "metadata": {
        "colab": {
          "base_uri": "https://localhost:8080/"
        },
        "id": "UNay7OwjsMB4",
        "outputId": "784915ef-dbd9-4fe9-9645-94205120e1c8"
      },
      "execution_count": null,
      "outputs": [
        {
          "output_type": "stream",
          "name": "stdout",
          "text": [
            "2025-07-23 23:51:29.672944\n",
            "2025-07-23\n",
            "23:51:29.672944\n",
            "Dia  23\n",
            "Mes  7\n",
            "Ano  2025\n",
            "Hora  23\n",
            "Minuto  51\n",
            "Segundo  29\n"
          ]
        }
      ]
    },
    {
      "cell_type": "code",
      "source": [
        "import datetime\n",
        "\n",
        "data = datetime.datetime(2000,9,30,10,34)\n",
        "print(data)\n",
        "\n",
        "data = datetime.date(day = 30, month=9, year=2000)\n",
        "print(data)\n",
        "\n"
      ],
      "metadata": {
        "colab": {
          "base_uri": "https://localhost:8080/"
        },
        "id": "8iNyEKnFtJt8",
        "outputId": "7c50b9e9-e3d8-4e3e-f1f6-1bc974f49542"
      },
      "execution_count": null,
      "outputs": [
        {
          "output_type": "stream",
          "name": "stdout",
          "text": [
            "2000-09-30 10:34:00\n",
            "2000-09-30\n"
          ]
        }
      ]
    },
    {
      "cell_type": "code",
      "source": [
        "# Y ano 4 casas, y ano 2 casas, m mês, d dia, H hora, M minuto, S segundo\n",
        "# A dia da semana\n",
        "# a dia da semana abrev.\n",
        "# B nome do mês\n",
        "# b nome do mês abrev.\n",
        "# I hora no formato de 12 horas\n",
        "# p Am/PM\n",
        "\n",
        "import datetime\n",
        "\n",
        "data = datetime.datetime.now()\n",
        "currenttime = data.strftime(\"%d/%m/%Y %H:%M:%S\")\n",
        "print(currenttime)\n",
        "\n",
        "currenttime = data.strftime(\"%d/%m/%y %H:%M:%S\")\n",
        "print(currenttime)\n",
        "\n",
        "currenttime = data.strftime(\"%A %B %Y %I:%M:%S %p\")\n",
        "print(currenttime)\n",
        "\n",
        "diasemana = data.strftime(\"%A\")\n",
        "print(diasemana)"
      ],
      "metadata": {
        "colab": {
          "base_uri": "https://localhost:8080/"
        },
        "id": "W2HjWe3JtYt3",
        "outputId": "6407f1bd-4b41-4c71-f81c-60a4746c8409"
      },
      "execution_count": null,
      "outputs": [
        {
          "output_type": "stream",
          "name": "stdout",
          "text": [
            "24/07/2025 00:01:21\n",
            "24/07/25 00:01:21\n",
            "Thursday July 2025 12:01:21 AM\n",
            "Thursday\n"
          ]
        }
      ]
    },
    {
      "cell_type": "code",
      "source": [
        "import datetime\n",
        "\n",
        "data1 = datetime.datetime(2000,9,30,10,34)\n",
        "data2 = datetime.datetime.now()\n",
        "diferenca = data2 - data1\n",
        "print(diferenca)\n",
        "print(type(diferenca))"
      ],
      "metadata": {
        "colab": {
          "base_uri": "https://localhost:8080/"
        },
        "id": "csoB8rc3ve-_",
        "outputId": "96730903-90c0-45b7-9758-e7348c3e423e"
      },
      "execution_count": null,
      "outputs": [
        {
          "output_type": "stream",
          "name": "stdout",
          "text": [
            "9062 days, 13:29:58.317027\n",
            "<class 'datetime.timedelta'>\n"
          ]
        }
      ]
    },
    {
      "cell_type": "code",
      "source": [
        "from datetime import datetime, timedelta\n",
        "\n",
        "dataatual = datetime.now()\n",
        "print(dataatual)\n",
        "datafutura1 = dataatual + timedelta(days=30)\n",
        "print(datafutura1)\n",
        "datafutura2 = dataatual + timedelta(weeks=2)\n",
        "print(datafutura2)\n",
        "datafutura3 = dataatual + timedelta(hours=10)\n",
        "print(datafutura3)\n",
        "datafutura4 = dataatual + timedelta(minutes=40)\n",
        "print(datafutura4)"
      ],
      "metadata": {
        "colab": {
          "base_uri": "https://localhost:8080/"
        },
        "id": "jYJtCvKcvx6_",
        "outputId": "e8611a77-334a-4dd6-c21d-26f58782342a"
      },
      "execution_count": null,
      "outputs": [
        {
          "output_type": "stream",
          "name": "stdout",
          "text": [
            "2025-07-24 00:06:03.035798\n",
            "2025-08-23 00:06:03.035798\n",
            "2025-08-07 00:06:03.035798\n",
            "2025-07-24 10:06:03.035798\n",
            "2025-07-24 00:46:03.035798\n"
          ]
        }
      ]
    },
    {
      "cell_type": "code",
      "source": [
        "import datetime\n",
        "datatext = input(\"Digite a data no formato dia/mes/ano: \")\n",
        "datetime = datetime.datetime.strptime(datatext, \"%d/%m/%Y\")\n",
        "print(datetime)"
      ],
      "metadata": {
        "colab": {
          "base_uri": "https://localhost:8080/"
        },
        "id": "gcY-ne65yE5I",
        "outputId": "51c8cb83-2814-41bb-b947-d46601e3e000"
      },
      "execution_count": null,
      "outputs": [
        {
          "output_type": "stream",
          "name": "stdout",
          "text": [
            "Digite a data no formato dia/mes/ano: 02/07/2025\n",
            "2025-07-02 00:00:00\n"
          ]
        }
      ]
    }
  ]
}