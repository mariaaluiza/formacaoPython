{
  "nbformat": 4,
  "nbformat_minor": 0,
  "metadata": {
    "colab": {
      "provenance": [],
      "authorship_tag": "ABX9TyPeaB/WRORM0wX2a26vEarA",
      "include_colab_link": true
    },
    "kernelspec": {
      "name": "python3",
      "display_name": "Python 3"
    },
    "language_info": {
      "name": "python"
    }
  },
  "cells": [
    {
      "cell_type": "markdown",
      "metadata": {
        "id": "view-in-github",
        "colab_type": "text"
      },
      "source": [
        "<a href=\"https://colab.research.google.com/github/mariaaluiza/formacaoPython/blob/main/Se%C3%A7%C3%A3o_3_Estruturas_de_Programa%C3%A7%C3%A3o.ipynb\" target=\"_parent\"><img src=\"https://colab.research.google.com/assets/colab-badge.svg\" alt=\"Open In Colab\"/></a>"
      ]
    },
    {
      "cell_type": "code",
      "execution_count": null,
      "metadata": {
        "colab": {
          "base_uri": "https://localhost:8080/"
        },
        "id": "orGqqDAELJGY",
        "outputId": "01a22c6b-8e88-42f1-ed80-d33b34989683"
      },
      "outputs": [
        {
          "output_type": "stream",
          "name": "stdout",
          "text": [
            "São iguais\n",
            "ainda dentro do if\n"
          ]
        }
      ],
      "source": [
        "valor1 = 10\n",
        "valor2 = 10\n",
        "if (valor1==valor2):\n",
        "    print(\"São iguais\")\n",
        "    print(\"ainda dentro do if\")"
      ]
    },
    {
      "cell_type": "code",
      "source": [
        "nome = input(\"Digite seu nome:\")\n",
        "\n",
        "possui_vogal = (\"a\" in nome) or (\"e\" in nome) or (\"i\" in nome) or (\"o\" in nome) or (\"u\" in nome)\n",
        "\n",
        "if possui_vogal:\n",
        "    print(\"Seu nome possui pelo menos uma vogal\")\n",
        "else:\n",
        "    print(\"Seu nome não possui nenhuma vogal\")"
      ],
      "metadata": {
        "colab": {
          "base_uri": "https://localhost:8080/"
        },
        "id": "odyIP7rRauxb",
        "outputId": "cdfb63ae-50cb-43b5-a752-205dcf055e00"
      },
      "execution_count": null,
      "outputs": [
        {
          "output_type": "stream",
          "name": "stdout",
          "text": [
            "Digite seu nome:maria\n",
            "Seu nome possui pelo menos uma vogal\n"
          ]
        }
      ]
    },
    {
      "cell_type": "code",
      "source": [
        "numero = float(input(\"Digite um número: \"))\n",
        "if numero < 10:\n",
        "    print(\"Menor que 10\")\n",
        "elif numero < 100:\n",
        "    print(\"Menor que 100\")\n",
        "elif numero < 1000:\n",
        "    print(\"Menor que 1000\")\n",
        "else:\n",
        "    print(\"Maior ou igual a 1000\")"
      ],
      "metadata": {
        "colab": {
          "base_uri": "https://localhost:8080/"
        },
        "id": "ERwy036MciLJ",
        "outputId": "d70ef4bd-dd68-484c-feb6-f928874246a3"
      },
      "execution_count": null,
      "outputs": [
        {
          "output_type": "stream",
          "name": "stdout",
          "text": [
            "Digite um número: 10.4\n",
            "Menor que 100\n"
          ]
        }
      ]
    },
    {
      "cell_type": "code",
      "source": [
        "iteracao = 10\n",
        "while (iteracao > 0):\n",
        "    print(iteracao)\n",
        "    iteracao -=1\n",
        "\n",
        "print(\"Encerrou!\")"
      ],
      "metadata": {
        "colab": {
          "base_uri": "https://localhost:8080/"
        },
        "id": "1JwQfwEkd0v0",
        "outputId": "fffcd514-a3ae-49ee-edec-85d98d522960"
      },
      "execution_count": null,
      "outputs": [
        {
          "output_type": "stream",
          "name": "stdout",
          "text": [
            "10\n",
            "9\n",
            "8\n",
            "7\n",
            "6\n",
            "5\n",
            "4\n",
            "3\n",
            "2\n",
            "1\n",
            "Encerrou!\n"
          ]
        }
      ]
    },
    {
      "cell_type": "code",
      "source": [
        "texto = \"Ola 123 _\"\n",
        "indice = 0\n",
        "while (indice < len(texto)):\n",
        "    print(texto[indice])\n",
        "    indice +=1"
      ],
      "metadata": {
        "colab": {
          "base_uri": "https://localhost:8080/"
        },
        "id": "z48l54qmgbDD",
        "outputId": "2883c1e2-67b8-499a-8431-acabaf2c11cc"
      },
      "execution_count": null,
      "outputs": [
        {
          "output_type": "stream",
          "name": "stdout",
          "text": [
            "O\n",
            "l\n",
            "a\n",
            " \n",
            "1\n",
            "2\n",
            "3\n",
            " \n",
            "_\n"
          ]
        }
      ]
    },
    {
      "cell_type": "code",
      "source": [
        "texto = \"python rules!\"\n",
        "indice = 0\n",
        "newtext = \"\"\n",
        "while (indice < len(texto)):\n",
        "  newtext += texto[indice]\n",
        "  indice += 2\n",
        "print(newtext)"
      ],
      "metadata": {
        "colab": {
          "base_uri": "https://localhost:8080/"
        },
        "id": "gtDW9QxDmYWg",
        "outputId": "0e03e8e0-ed62-476f-8e51-8e3d3ae3cc82"
      },
      "execution_count": null,
      "outputs": [
        {
          "output_type": "stream",
          "name": "stdout",
          "text": [
            "pto ue!\n"
          ]
        }
      ]
    },
    {
      "cell_type": "code",
      "source": [
        "texto = \"Python rules \"\n",
        "indice =0\n",
        "while (indice <= len(texto)):\n",
        "  print(texto[indice])\n",
        "  indice += 1"
      ],
      "metadata": {
        "colab": {
          "base_uri": "https://localhost:8080/",
          "height": 419
        },
        "id": "UuXg3NinmynE",
        "outputId": "198218f5-2186-461d-95e8-32c6591aeb1c"
      },
      "execution_count": null,
      "outputs": [
        {
          "output_type": "stream",
          "name": "stdout",
          "text": [
            "P\n",
            "y\n",
            "t\n",
            "h\n",
            "o\n",
            "n\n",
            " \n",
            "r\n",
            "u\n",
            "l\n",
            "e\n",
            "s\n",
            " \n"
          ]
        },
        {
          "output_type": "error",
          "ename": "IndexError",
          "evalue": "string index out of range",
          "traceback": [
            "\u001b[0;31m---------------------------------------------------------------------------\u001b[0m",
            "\u001b[0;31mIndexError\u001b[0m                                Traceback (most recent call last)",
            "\u001b[0;32m/tmp/ipython-input-32-453980199.py\u001b[0m in \u001b[0;36m<cell line: 0>\u001b[0;34m()\u001b[0m\n\u001b[1;32m      2\u001b[0m \u001b[0mindice\u001b[0m \u001b[0;34m=\u001b[0m\u001b[0;36m0\u001b[0m\u001b[0;34m\u001b[0m\u001b[0;34m\u001b[0m\u001b[0m\n\u001b[1;32m      3\u001b[0m \u001b[0;32mwhile\u001b[0m \u001b[0;34m(\u001b[0m\u001b[0mindice\u001b[0m \u001b[0;34m<=\u001b[0m \u001b[0mlen\u001b[0m\u001b[0;34m(\u001b[0m\u001b[0mtexto\u001b[0m\u001b[0;34m)\u001b[0m\u001b[0;34m)\u001b[0m\u001b[0;34m:\u001b[0m\u001b[0;34m\u001b[0m\u001b[0;34m\u001b[0m\u001b[0m\n\u001b[0;32m----> 4\u001b[0;31m   \u001b[0mprint\u001b[0m\u001b[0;34m(\u001b[0m\u001b[0mtexto\u001b[0m\u001b[0;34m[\u001b[0m\u001b[0mindice\u001b[0m\u001b[0;34m]\u001b[0m\u001b[0;34m)\u001b[0m\u001b[0;34m\u001b[0m\u001b[0;34m\u001b[0m\u001b[0m\n\u001b[0m\u001b[1;32m      5\u001b[0m   \u001b[0mindice\u001b[0m \u001b[0;34m+=\u001b[0m \u001b[0;36m1\u001b[0m\u001b[0;34m\u001b[0m\u001b[0;34m\u001b[0m\u001b[0m\n",
            "\u001b[0;31mIndexError\u001b[0m: string index out of range"
          ]
        }
      ]
    },
    {
      "cell_type": "code",
      "source": [
        "num = 0\n",
        "while (True):\n",
        "  if (num == 5):\n",
        "    break\n",
        "  print(num)\n",
        "  num +=1"
      ],
      "metadata": {
        "id": "6cyE2K3CnB02",
        "outputId": "96767524-6d10-404c-d1da-2cc0d53482a5",
        "colab": {
          "base_uri": "https://localhost:8080/"
        }
      },
      "execution_count": null,
      "outputs": [
        {
          "output_type": "stream",
          "name": "stdout",
          "text": [
            "0\n",
            "1\n",
            "2\n",
            "3\n",
            "4\n"
          ]
        }
      ]
    },
    {
      "cell_type": "code",
      "source": [
        "for x in range(10):\n",
        "    print(x)"
      ],
      "metadata": {
        "colab": {
          "base_uri": "https://localhost:8080/"
        },
        "id": "yP-uDZNwhmND",
        "outputId": "0bf6fef3-6765-4c25-c1bf-cf276c579a7b"
      },
      "execution_count": null,
      "outputs": [
        {
          "output_type": "stream",
          "name": "stdout",
          "text": [
            "0\n",
            "1\n",
            "2\n",
            "3\n",
            "4\n",
            "5\n",
            "6\n",
            "7\n",
            "8\n",
            "9\n"
          ]
        }
      ]
    },
    {
      "cell_type": "code",
      "source": [
        "numero = \"\"\n",
        "for x in range(10):\n",
        "    numero = numero + str(x)\n",
        "print (numero)"
      ],
      "metadata": {
        "colab": {
          "base_uri": "https://localhost:8080/"
        },
        "id": "3SbQFUIyh6uX",
        "outputId": "a0fadc32-4746-41c9-fe26-21191cc87afc"
      },
      "execution_count": null,
      "outputs": [
        {
          "output_type": "stream",
          "name": "stdout",
          "text": [
            "0123456789\n"
          ]
        }
      ]
    },
    {
      "cell_type": "code",
      "source": [
        "for x in range(20, 5, -5):\n",
        "    print(x)\n",
        "\n",
        "for x in range(5, 20, 5):\n",
        "    print(x)"
      ],
      "metadata": {
        "colab": {
          "base_uri": "https://localhost:8080/"
        },
        "id": "Tk9BDFW0iQbU",
        "outputId": "1510a507-be30-470a-fa34-51d261005526"
      },
      "execution_count": null,
      "outputs": [
        {
          "output_type": "stream",
          "name": "stdout",
          "text": [
            "20\n",
            "15\n",
            "10\n",
            "5\n",
            "10\n",
            "15\n"
          ]
        }
      ]
    },
    {
      "cell_type": "code",
      "source": [
        "texto = \"123T56789\"\n",
        "\n",
        "for x in range(0, len(texto)):\n",
        "    print(texto[x])"
      ],
      "metadata": {
        "colab": {
          "base_uri": "https://localhost:8080/"
        },
        "id": "IHG1CAZMiVFt",
        "outputId": "38bb4a28-57b0-412b-ff11-d7d2f8c741f7"
      },
      "execution_count": null,
      "outputs": [
        {
          "output_type": "stream",
          "name": "stdout",
          "text": [
            "1\n",
            "2\n",
            "3\n",
            "T\n",
            "5\n",
            "6\n",
            "7\n",
            "8\n",
            "9\n"
          ]
        }
      ]
    },
    {
      "cell_type": "code",
      "source": [
        "texto = \"Olá eu sou iterável\"\n",
        "for x in texto:\n",
        "    print(x)"
      ],
      "metadata": {
        "colab": {
          "base_uri": "https://localhost:8080/"
        },
        "id": "weEem14kji3T",
        "outputId": "662348b8-832d-4fa8-f965-32e4e1c52388"
      },
      "execution_count": null,
      "outputs": [
        {
          "output_type": "stream",
          "name": "stdout",
          "text": [
            "O\n",
            "l\n",
            "á\n",
            " \n",
            "e\n",
            "u\n",
            " \n",
            "s\n",
            "o\n",
            "u\n",
            " \n",
            "i\n",
            "t\n",
            "e\n",
            "r\n",
            "á\n",
            "v\n",
            "e\n",
            "l\n"
          ]
        }
      ]
    },
    {
      "cell_type": "code",
      "source": [
        "for x in range(0,3):\n",
        "    for y in range(0,5):\n",
        "        print(x,y)"
      ],
      "metadata": {
        "colab": {
          "base_uri": "https://localhost:8080/"
        },
        "id": "oBcwHq2fjtwf",
        "outputId": "7d9346a2-7639-4468-bdd0-07e1d5b0c11a"
      },
      "execution_count": null,
      "outputs": [
        {
          "output_type": "stream",
          "name": "stdout",
          "text": [
            "0 0\n",
            "0 1\n",
            "0 2\n",
            "0 3\n",
            "0 4\n",
            "1 0\n",
            "1 1\n",
            "1 2\n",
            "1 3\n",
            "1 4\n",
            "2 0\n",
            "2 1\n",
            "2 2\n",
            "2 3\n",
            "2 4\n"
          ]
        }
      ]
    },
    {
      "cell_type": "code",
      "source": [
        "for x in range(1,4):\n",
        "    for y in range(1,11):\n",
        "        numero = x * y\n",
        "        print(\"%d x %d = %d\" % (x, y, numero))"
      ],
      "metadata": {
        "colab": {
          "base_uri": "https://localhost:8080/"
        },
        "id": "DNEJRFNoj7iw",
        "outputId": "6c884938-5f92-46f2-ec47-5b0b33011e18"
      },
      "execution_count": null,
      "outputs": [
        {
          "output_type": "stream",
          "name": "stdout",
          "text": [
            "1 x 1 = 1\n",
            "1 x 2 = 2\n",
            "1 x 3 = 3\n",
            "1 x 4 = 4\n",
            "1 x 5 = 5\n",
            "1 x 6 = 6\n",
            "1 x 7 = 7\n",
            "1 x 8 = 8\n",
            "1 x 9 = 9\n",
            "1 x 10 = 10\n",
            "2 x 1 = 2\n",
            "2 x 2 = 4\n",
            "2 x 3 = 6\n",
            "2 x 4 = 8\n",
            "2 x 5 = 10\n",
            "2 x 6 = 12\n",
            "2 x 7 = 14\n",
            "2 x 8 = 16\n",
            "2 x 9 = 18\n",
            "2 x 10 = 20\n",
            "3 x 1 = 3\n",
            "3 x 2 = 6\n",
            "3 x 3 = 9\n",
            "3 x 4 = 12\n",
            "3 x 5 = 15\n",
            "3 x 6 = 18\n",
            "3 x 7 = 21\n",
            "3 x 8 = 24\n",
            "3 x 9 = 27\n",
            "3 x 10 = 30\n"
          ]
        }
      ]
    },
    {
      "cell_type": "code",
      "source": [
        "for numero in range(3, 31):\n",
        "    e_primo = True\n",
        "\n",
        "    for num_teste in range(2, numero):\n",
        "        if numero % num_teste == 0:\n",
        "            e_primo = False\n",
        "            break\n",
        "\n",
        "    if e_primo:\n",
        "        print(\"O numero %d é primo \" % (numero))\n",
        "    else:\n",
        "        print(\"O numero %d não é primo \" % (numero))"
      ],
      "metadata": {
        "colab": {
          "base_uri": "https://localhost:8080/"
        },
        "id": "PXC8WHUUk33e",
        "outputId": "df6dedb1-04c3-4dc9-fb6c-1cc7772ee0a3"
      },
      "execution_count": null,
      "outputs": [
        {
          "output_type": "stream",
          "name": "stdout",
          "text": [
            "O numero 3 é primo \n",
            "O numero 4 não é primo \n",
            "O numero 5 é primo \n",
            "O numero 6 não é primo \n",
            "O numero 7 é primo \n",
            "O numero 8 não é primo \n",
            "O numero 9 não é primo \n",
            "O numero 10 não é primo \n",
            "O numero 11 é primo \n",
            "O numero 12 não é primo \n",
            "O numero 13 é primo \n",
            "O numero 14 não é primo \n",
            "O numero 15 não é primo \n",
            "O numero 16 não é primo \n",
            "O numero 17 é primo \n",
            "O numero 18 não é primo \n",
            "O numero 19 é primo \n",
            "O numero 20 não é primo \n",
            "O numero 21 não é primo \n",
            "O numero 22 não é primo \n",
            "O numero 23 é primo \n",
            "O numero 24 não é primo \n",
            "O numero 25 não é primo \n",
            "O numero 26 não é primo \n",
            "O numero 27 não é primo \n",
            "O numero 28 não é primo \n",
            "O numero 29 é primo \n",
            "O numero 30 não é primo \n"
          ]
        }
      ]
    }
  ]
}